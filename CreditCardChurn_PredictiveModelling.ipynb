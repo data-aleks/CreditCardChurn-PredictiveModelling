{
  "nbformat": 4,
  "nbformat_minor": 0,
  "metadata": {
    "colab": {
      "provenance": []
    },
    "kernelspec": {
      "name": "python3",
      "display_name": "Python 3"
    },
    "language_info": {
      "name": "python"
    }
  },
  "cells": [
    {
      "cell_type": "markdown",
      "source": [
        "# **Credit Card Churn - PredictiveModelling**"
      ],
      "metadata": {
        "id": "HRJZNh5ifMse"
      }
    },
    {
      "cell_type": "code",
      "source": [
        "import pandas as pd\n",
        "import numpy as np\n",
        "import matplotlib.pyplot as plt"
      ],
      "metadata": {
        "id": "MDemwTUEjpsS"
      },
      "execution_count": 1,
      "outputs": []
    },
    {
      "cell_type": "markdown",
      "source": [
        "**Objective**"
      ],
      "metadata": {
        "id": "KfOgA8Lngs4D"
      }
    },
    {
      "cell_type": "markdown",
      "source": [
        "To build a predictive model that helps a bank identify customers at risk of churn, enabling the business to take proactive action in retaining valuable clients. This notebook focuses on the technical groundwork using Python — from data exploration to model development."
      ],
      "metadata": {
        "id": "vcRrrcAygu0E"
      }
    },
    {
      "cell_type": "markdown",
      "source": [
        "**Project Structure**"
      ],
      "metadata": {
        "id": "wZqAe7jtfv3_"
      }
    },
    {
      "cell_type": "markdown",
      "source": [
        "1.   Introduction\n",
        "2.   Dataset Overview\n",
        "3.   Data Cleaning & Exploratory Data Analysis(EDA)\n",
        "4.   Feature Engineering\n",
        "5.   Modelling\n",
        "6.   Model Insights\n",
        "7.   Conclusion\n",
        "\n"
      ],
      "metadata": {
        "id": "xjG4En76f1q7"
      }
    },
    {
      "cell_type": "markdown",
      "source": [
        "## 1. **Introduction**"
      ],
      "metadata": {
        "id": "2x5Xigq6hUWP"
      }
    },
    {
      "cell_type": "markdown",
      "source": [
        "**Business Problem**"
      ],
      "metadata": {
        "id": "del7tOMbh-A1"
      }
    },
    {
      "cell_type": "markdown",
      "source": [
        "The bank is facing a rising concern: an increasing number of customers are closing their credit card accounts. This churn trend is causing financial and strategic challenges, and leadership wants to understand which customers are likely to leave so they can intervene with tailored services or offers"
      ],
      "metadata": {
        "id": "dSislFwMiAA-"
      }
    },
    {
      "cell_type": "markdown",
      "source": [
        "**Project Objective**"
      ],
      "metadata": {
        "id": "DHdCHuWDiC2g"
      }
    },
    {
      "cell_type": "markdown",
      "source": [
        "This notebook (Part 1 of a 3-part analytical solution) tackles the problem using Python to:"
      ],
      "metadata": {
        "id": "fNkVmkjuiGhb"
      }
    },
    {
      "cell_type": "markdown",
      "source": [
        "\n",
        "\n",
        "*   Explore customer behavior and account data.\n",
        "*   Engineer relevant features from raw variables.\n",
        "*   Build predictive models that estimate churn risk.\n",
        "*   Provide actionable insights that inform targeted customer retention strategies.\n",
        "\n"
      ],
      "metadata": {
        "id": "IrFxtMA0iI_M"
      }
    },
    {
      "cell_type": "markdown",
      "source": [
        "This groundwork leads into:"
      ],
      "metadata": {
        "id": "EyYxAyyOiU79"
      }
    },
    {
      "cell_type": "markdown",
      "source": [
        "\n",
        "\n",
        "*   **Part 2**: Designing a Power BI dashboard for interactive visualizations.\n",
        "*   **Part 3**: Conducting a business analysis to recommend retention strategies backed by data.\n",
        "\n",
        "\n"
      ],
      "metadata": {
        "id": "mwIP0DMKiV9O"
      }
    },
    {
      "cell_type": "markdown",
      "source": [
        "## 2. **Dataset Overview**"
      ],
      "metadata": {
        "id": "V3eV2ooqhYpC"
      }
    },
    {
      "cell_type": "markdown",
      "source": [
        "**Source**"
      ],
      "metadata": {
        "id": "YBI0G7Llix2x"
      }
    },
    {
      "cell_type": "markdown",
      "source": [
        "This dataset is publicly available on [Kaggle: Credit Card Customers Dataset](https://www.kaggle.com/datasets/sakshigoyal7/credit-card-customers/data). It contains detailed information on 10,127 customers, including demographic attributes, account activity, and churn status.\n"
      ],
      "metadata": {
        "id": "D_MKVGf9izmT"
      }
    },
    {
      "cell_type": "markdown",
      "source": [
        "**Key Features**"
      ],
      "metadata": {
        "id": "S9txg2dMjBT0"
      }
    },
    {
      "cell_type": "markdown",
      "source": [
        "The dataset includes 18 variables that span across customer profiles and credit card usage patterns. Some notable features are:"
      ],
      "metadata": {
        "id": "-VIr41qwjFcA"
      }
    },
    {
      "cell_type": "markdown",
      "source": [
        "- Customer_Age: Age of the customer\n",
        "- Gender: Male or Female\n",
        "- Dependent_count: Number of dependents\n",
        "- Education_Level: Highest education attained\n",
        "- Marital_Status: Marital status of the customer\n",
        "- Income_Category: Estimated annual income\n",
        "- Card_Category: Type of credit card held\n",
        "- Months_on_book: Tenure with the bank\n",
        "- Total_Trans_Ct: Number of transactions in the last 12 months\n",
        "- Credit_Limit: Assigned credit card limit\n",
        "- Attrition_Flag: Indicates whether the customer has churned\n"
      ],
      "metadata": {
        "id": "ZvjR_AxFjGda"
      }
    },
    {
      "cell_type": "markdown",
      "source": [
        "**Target Variable**"
      ],
      "metadata": {
        "id": "sMajuvJ7jKM8"
      }
    },
    {
      "cell_type": "markdown",
      "source": [
        "- Attrition_Flag: This binary feature identifies whether a customer is Existing or Attrited. It will serve as the target for churn prediction.\n"
      ],
      "metadata": {
        "id": "rDSdPRlDjOy2"
      }
    },
    {
      "cell_type": "markdown",
      "source": [
        "**Initial Observations**"
      ],
      "metadata": {
        "id": "SoDk_5U4jTyK"
      }
    },
    {
      "cell_type": "markdown",
      "source": [
        "- The dataset is clean and well-structured, with minimal missing values.\n",
        "- Features are a mix of categorical and numerical types, suitable for both statistical analysis and machine learning.\n",
        "- The churn rate appears imbalanced, which may require resampling techniques during modeling.\n"
      ],
      "metadata": {
        "id": "R6GiXnlFjWDr"
      }
    },
    {
      "cell_type": "markdown",
      "source": [
        "## 3. **Data Cleaning & Exploratory Data Analysis(EDA)**"
      ],
      "metadata": {
        "id": "Kd0UBDhmhj3y"
      }
    },
    {
      "cell_type": "markdown",
      "source": [
        "### 3.1 **Loading and Exploring Data**"
      ],
      "metadata": {
        "id": "F8jEPwOjqU9E"
      }
    },
    {
      "cell_type": "code",
      "source": [
        "df = pd.read_csv('./drive/MyDrive/datasets/credit_card_churn/BankChurners.csv')"
      ],
      "metadata": {
        "id": "UwSD4ybToohO"
      },
      "execution_count": 2,
      "outputs": []
    },
    {
      "cell_type": "code",
      "source": [
        "df.info()"
      ],
      "metadata": {
        "colab": {
          "base_uri": "https://localhost:8080/"
        },
        "id": "k9FMSaHuozJn",
        "outputId": "d5a6cbd5-48b1-4019-ab6c-54ef372ad147"
      },
      "execution_count": 3,
      "outputs": [
        {
          "output_type": "stream",
          "name": "stdout",
          "text": [
            "<class 'pandas.core.frame.DataFrame'>\n",
            "RangeIndex: 10127 entries, 0 to 10126\n",
            "Data columns (total 23 columns):\n",
            " #   Column                                                                                                                              Non-Null Count  Dtype  \n",
            "---  ------                                                                                                                              --------------  -----  \n",
            " 0   CLIENTNUM                                                                                                                           10127 non-null  int64  \n",
            " 1   Attrition_Flag                                                                                                                      10127 non-null  object \n",
            " 2   Customer_Age                                                                                                                        10127 non-null  int64  \n",
            " 3   Gender                                                                                                                              10127 non-null  object \n",
            " 4   Dependent_count                                                                                                                     10127 non-null  int64  \n",
            " 5   Education_Level                                                                                                                     10127 non-null  object \n",
            " 6   Marital_Status                                                                                                                      10127 non-null  object \n",
            " 7   Income_Category                                                                                                                     10127 non-null  object \n",
            " 8   Card_Category                                                                                                                       10127 non-null  object \n",
            " 9   Months_on_book                                                                                                                      10127 non-null  int64  \n",
            " 10  Total_Relationship_Count                                                                                                            10127 non-null  int64  \n",
            " 11  Months_Inactive_12_mon                                                                                                              10127 non-null  int64  \n",
            " 12  Contacts_Count_12_mon                                                                                                               10127 non-null  int64  \n",
            " 13  Credit_Limit                                                                                                                        10127 non-null  float64\n",
            " 14  Total_Revolving_Bal                                                                                                                 10127 non-null  int64  \n",
            " 15  Avg_Open_To_Buy                                                                                                                     10127 non-null  float64\n",
            " 16  Total_Amt_Chng_Q4_Q1                                                                                                                10127 non-null  float64\n",
            " 17  Total_Trans_Amt                                                                                                                     10127 non-null  int64  \n",
            " 18  Total_Trans_Ct                                                                                                                      10127 non-null  int64  \n",
            " 19  Total_Ct_Chng_Q4_Q1                                                                                                                 10127 non-null  float64\n",
            " 20  Avg_Utilization_Ratio                                                                                                               10127 non-null  float64\n",
            " 21  Naive_Bayes_Classifier_Attrition_Flag_Card_Category_Contacts_Count_12_mon_Dependent_count_Education_Level_Months_Inactive_12_mon_1  10127 non-null  float64\n",
            " 22  Naive_Bayes_Classifier_Attrition_Flag_Card_Category_Contacts_Count_12_mon_Dependent_count_Education_Level_Months_Inactive_12_mon_2  10127 non-null  float64\n",
            "dtypes: float64(7), int64(10), object(6)\n",
            "memory usage: 1.8+ MB\n"
          ]
        }
      ]
    },
    {
      "cell_type": "code",
      "source": [
        "df.isnull().sum()"
      ],
      "metadata": {
        "colab": {
          "base_uri": "https://localhost:8080/",
          "height": 0
        },
        "id": "fRMWXbPvo1pn",
        "outputId": "77615920-bff3-48b2-eda9-9fe86d5b2b65"
      },
      "execution_count": 4,
      "outputs": [
        {
          "output_type": "execute_result",
          "data": {
            "text/plain": [
              "CLIENTNUM                                                                                                                             0\n",
              "Attrition_Flag                                                                                                                        0\n",
              "Customer_Age                                                                                                                          0\n",
              "Gender                                                                                                                                0\n",
              "Dependent_count                                                                                                                       0\n",
              "Education_Level                                                                                                                       0\n",
              "Marital_Status                                                                                                                        0\n",
              "Income_Category                                                                                                                       0\n",
              "Card_Category                                                                                                                         0\n",
              "Months_on_book                                                                                                                        0\n",
              "Total_Relationship_Count                                                                                                              0\n",
              "Months_Inactive_12_mon                                                                                                                0\n",
              "Contacts_Count_12_mon                                                                                                                 0\n",
              "Credit_Limit                                                                                                                          0\n",
              "Total_Revolving_Bal                                                                                                                   0\n",
              "Avg_Open_To_Buy                                                                                                                       0\n",
              "Total_Amt_Chng_Q4_Q1                                                                                                                  0\n",
              "Total_Trans_Amt                                                                                                                       0\n",
              "Total_Trans_Ct                                                                                                                        0\n",
              "Total_Ct_Chng_Q4_Q1                                                                                                                   0\n",
              "Avg_Utilization_Ratio                                                                                                                 0\n",
              "Naive_Bayes_Classifier_Attrition_Flag_Card_Category_Contacts_Count_12_mon_Dependent_count_Education_Level_Months_Inactive_12_mon_1    0\n",
              "Naive_Bayes_Classifier_Attrition_Flag_Card_Category_Contacts_Count_12_mon_Dependent_count_Education_Level_Months_Inactive_12_mon_2    0\n",
              "dtype: int64"
            ],
            "text/html": [
              "<div>\n",
              "<style scoped>\n",
              "    .dataframe tbody tr th:only-of-type {\n",
              "        vertical-align: middle;\n",
              "    }\n",
              "\n",
              "    .dataframe tbody tr th {\n",
              "        vertical-align: top;\n",
              "    }\n",
              "\n",
              "    .dataframe thead th {\n",
              "        text-align: right;\n",
              "    }\n",
              "</style>\n",
              "<table border=\"1\" class=\"dataframe\">\n",
              "  <thead>\n",
              "    <tr style=\"text-align: right;\">\n",
              "      <th></th>\n",
              "      <th>0</th>\n",
              "    </tr>\n",
              "  </thead>\n",
              "  <tbody>\n",
              "    <tr>\n",
              "      <th>CLIENTNUM</th>\n",
              "      <td>0</td>\n",
              "    </tr>\n",
              "    <tr>\n",
              "      <th>Attrition_Flag</th>\n",
              "      <td>0</td>\n",
              "    </tr>\n",
              "    <tr>\n",
              "      <th>Customer_Age</th>\n",
              "      <td>0</td>\n",
              "    </tr>\n",
              "    <tr>\n",
              "      <th>Gender</th>\n",
              "      <td>0</td>\n",
              "    </tr>\n",
              "    <tr>\n",
              "      <th>Dependent_count</th>\n",
              "      <td>0</td>\n",
              "    </tr>\n",
              "    <tr>\n",
              "      <th>Education_Level</th>\n",
              "      <td>0</td>\n",
              "    </tr>\n",
              "    <tr>\n",
              "      <th>Marital_Status</th>\n",
              "      <td>0</td>\n",
              "    </tr>\n",
              "    <tr>\n",
              "      <th>Income_Category</th>\n",
              "      <td>0</td>\n",
              "    </tr>\n",
              "    <tr>\n",
              "      <th>Card_Category</th>\n",
              "      <td>0</td>\n",
              "    </tr>\n",
              "    <tr>\n",
              "      <th>Months_on_book</th>\n",
              "      <td>0</td>\n",
              "    </tr>\n",
              "    <tr>\n",
              "      <th>Total_Relationship_Count</th>\n",
              "      <td>0</td>\n",
              "    </tr>\n",
              "    <tr>\n",
              "      <th>Months_Inactive_12_mon</th>\n",
              "      <td>0</td>\n",
              "    </tr>\n",
              "    <tr>\n",
              "      <th>Contacts_Count_12_mon</th>\n",
              "      <td>0</td>\n",
              "    </tr>\n",
              "    <tr>\n",
              "      <th>Credit_Limit</th>\n",
              "      <td>0</td>\n",
              "    </tr>\n",
              "    <tr>\n",
              "      <th>Total_Revolving_Bal</th>\n",
              "      <td>0</td>\n",
              "    </tr>\n",
              "    <tr>\n",
              "      <th>Avg_Open_To_Buy</th>\n",
              "      <td>0</td>\n",
              "    </tr>\n",
              "    <tr>\n",
              "      <th>Total_Amt_Chng_Q4_Q1</th>\n",
              "      <td>0</td>\n",
              "    </tr>\n",
              "    <tr>\n",
              "      <th>Total_Trans_Amt</th>\n",
              "      <td>0</td>\n",
              "    </tr>\n",
              "    <tr>\n",
              "      <th>Total_Trans_Ct</th>\n",
              "      <td>0</td>\n",
              "    </tr>\n",
              "    <tr>\n",
              "      <th>Total_Ct_Chng_Q4_Q1</th>\n",
              "      <td>0</td>\n",
              "    </tr>\n",
              "    <tr>\n",
              "      <th>Avg_Utilization_Ratio</th>\n",
              "      <td>0</td>\n",
              "    </tr>\n",
              "    <tr>\n",
              "      <th>Naive_Bayes_Classifier_Attrition_Flag_Card_Category_Contacts_Count_12_mon_Dependent_count_Education_Level_Months_Inactive_12_mon_1</th>\n",
              "      <td>0</td>\n",
              "    </tr>\n",
              "    <tr>\n",
              "      <th>Naive_Bayes_Classifier_Attrition_Flag_Card_Category_Contacts_Count_12_mon_Dependent_count_Education_Level_Months_Inactive_12_mon_2</th>\n",
              "      <td>0</td>\n",
              "    </tr>\n",
              "  </tbody>\n",
              "</table>\n",
              "</div><br><label><b>dtype:</b> int64</label>"
            ]
          },
          "metadata": {},
          "execution_count": 4
        }
      ]
    },
    {
      "cell_type": "markdown",
      "source": [
        "### 3.2 **Removing/Renaming Columns**"
      ],
      "metadata": {
        "id": "9RZME52cqcm5"
      }
    },
    {
      "cell_type": "markdown",
      "source": [
        "3.2.1 **We will remove the last two columns**"
      ],
      "metadata": {
        "id": "A2haqE_Wp3jH"
      }
    },
    {
      "cell_type": "code",
      "source": [
        "df.drop(['Naive_Bayes_Classifier_Attrition_Flag_Card_Category_Contacts_Count_12_mon_Dependent_count_Education_Level_Months_Inactive_12_mon_1', 'Naive_Bayes_Classifier_Attrition_Flag_Card_Category_Contacts_Count_12_mon_Dependent_count_Education_Level_Months_Inactive_12_mon_2'], axis=1, inplace=True)"
      ],
      "metadata": {
        "id": "aG6Kzkcpp7Qy"
      },
      "execution_count": 5,
      "outputs": []
    },
    {
      "cell_type": "markdown",
      "source": [
        "3.2.2 **Update column names to lower case**"
      ],
      "metadata": {
        "id": "5hDNuNH_pby7"
      }
    },
    {
      "cell_type": "code",
      "source": [
        "df.columns = df.columns.str.lower()"
      ],
      "metadata": {
        "id": "L_YgYn5ypNxZ"
      },
      "execution_count": 6,
      "outputs": []
    },
    {
      "cell_type": "markdown",
      "source": [
        "3.2.3 **We will rename our columns to be more concise**"
      ],
      "metadata": {
        "id": "R-U0H7Baq_FL"
      }
    },
    {
      "cell_type": "code",
      "source": [
        "df.rename(columns={\n",
        "    'clientnum': 'client_id',\n",
        "    'attrition_flag': 'churn_flag',\n",
        "    'customer_age': 'age',\n",
        "    'gender': 'gender',\n",
        "    'dependent_count': 'dependents',\n",
        "    'education_level': 'education',\n",
        "    'marital_status': 'marital',\n",
        "    'income_category': 'income',\n",
        "    'card_category': 'card_type',\n",
        "    'months_on_book': 'tenure_months',\n",
        "    'total_relationship_count': 'relationships',\n",
        "    'months_inactive_12_mon': 'inactive_months',\n",
        "    'contacts_count_12_mon': 'contact_count',\n",
        "    'credit_limit': 'limit',\n",
        "    'total_revolving_bal': 'revolving_bal',\n",
        "    'avg_open_to_buy': 'open_to_buy',\n",
        "    'total_amt_chng_q4_q1': 'amt_chg_q4_q1',\n",
        "    'total_trans_amt': 'trans_amt',\n",
        "    'total_trans_ct': 'trans_ct',\n",
        "    'total_ct_chng_q4_q1': 'ct_chg_q4_q1',\n",
        "    'avg_utilization_ratio': 'util_ratio'\n",
        "}, inplace=True)\n"
      ],
      "metadata": {
        "id": "wk8DlYherEMe"
      },
      "execution_count": 7,
      "outputs": []
    },
    {
      "cell_type": "markdown",
      "source": [
        "3.2.4 **Confirm our changes**"
      ],
      "metadata": {
        "id": "IYCoZFLDsJRQ"
      }
    },
    {
      "cell_type": "code",
      "source": [
        "df.info()"
      ],
      "metadata": {
        "colab": {
          "base_uri": "https://localhost:8080/"
        },
        "id": "J0J3opWSqps0",
        "outputId": "3a5f2088-336d-4400-f525-5f52802892a5"
      },
      "execution_count": 8,
      "outputs": [
        {
          "output_type": "stream",
          "name": "stdout",
          "text": [
            "<class 'pandas.core.frame.DataFrame'>\n",
            "RangeIndex: 10127 entries, 0 to 10126\n",
            "Data columns (total 21 columns):\n",
            " #   Column           Non-Null Count  Dtype  \n",
            "---  ------           --------------  -----  \n",
            " 0   client_id        10127 non-null  int64  \n",
            " 1   churn_flag       10127 non-null  object \n",
            " 2   age              10127 non-null  int64  \n",
            " 3   gender           10127 non-null  object \n",
            " 4   dependents       10127 non-null  int64  \n",
            " 5   education        10127 non-null  object \n",
            " 6   marital          10127 non-null  object \n",
            " 7   income           10127 non-null  object \n",
            " 8   card_type        10127 non-null  object \n",
            " 9   tenure_months    10127 non-null  int64  \n",
            " 10  relationships    10127 non-null  int64  \n",
            " 11  inactive_months  10127 non-null  int64  \n",
            " 12  contact_count    10127 non-null  int64  \n",
            " 13  limit            10127 non-null  float64\n",
            " 14  revolving_bal    10127 non-null  int64  \n",
            " 15  open_to_buy      10127 non-null  float64\n",
            " 16  amt_chg_q4_q1    10127 non-null  float64\n",
            " 17  trans_amt        10127 non-null  int64  \n",
            " 18  trans_ct         10127 non-null  int64  \n",
            " 19  ct_chg_q4_q1     10127 non-null  float64\n",
            " 20  util_ratio       10127 non-null  float64\n",
            "dtypes: float64(5), int64(10), object(6)\n",
            "memory usage: 1.6+ MB\n"
          ]
        }
      ]
    },
    {
      "cell_type": "code",
      "source": [
        "df.tail()"
      ],
      "metadata": {
        "colab": {
          "base_uri": "https://localhost:8080/",
          "height": 235
        },
        "id": "MhriXnphthYJ",
        "outputId": "1afae882-c9a5-4089-cb24-1bbc18b9d534"
      },
      "execution_count": 9,
      "outputs": [
        {
          "output_type": "execute_result",
          "data": {
            "text/plain": [
              "       client_id         churn_flag  age gender  dependents    education  \\\n",
              "10122  772366833  Existing Customer   50      M           2     Graduate   \n",
              "10123  710638233  Attrited Customer   41      M           2      Unknown   \n",
              "10124  716506083  Attrited Customer   44      F           1  High School   \n",
              "10125  717406983  Attrited Customer   30      M           2     Graduate   \n",
              "10126  714337233  Attrited Customer   43      F           2     Graduate   \n",
              "\n",
              "        marital          income card_type  tenure_months  ...  \\\n",
              "10122    Single     $40K - $60K      Blue             40  ...   \n",
              "10123  Divorced     $40K - $60K      Blue             25  ...   \n",
              "10124   Married  Less than $40K      Blue             36  ...   \n",
              "10125   Unknown     $40K - $60K      Blue             36  ...   \n",
              "10126   Married  Less than $40K    Silver             25  ...   \n",
              "\n",
              "       inactive_months  contact_count    limit  revolving_bal  open_to_buy  \\\n",
              "10122                2              3   4003.0           1851       2152.0   \n",
              "10123                2              3   4277.0           2186       2091.0   \n",
              "10124                3              4   5409.0              0       5409.0   \n",
              "10125                3              3   5281.0              0       5281.0   \n",
              "10126                2              4  10388.0           1961       8427.0   \n",
              "\n",
              "       amt_chg_q4_q1  trans_amt  trans_ct  ct_chg_q4_q1  util_ratio  \n",
              "10122          0.703      15476       117         0.857       0.462  \n",
              "10123          0.804       8764        69         0.683       0.511  \n",
              "10124          0.819      10291        60         0.818       0.000  \n",
              "10125          0.535       8395        62         0.722       0.000  \n",
              "10126          0.703      10294        61         0.649       0.189  \n",
              "\n",
              "[5 rows x 21 columns]"
            ],
            "text/html": [
              "\n",
              "  <div id=\"df-3794e48f-3972-474a-828c-fdb4c7a6a4f0\" class=\"colab-df-container\">\n",
              "    <div>\n",
              "<style scoped>\n",
              "    .dataframe tbody tr th:only-of-type {\n",
              "        vertical-align: middle;\n",
              "    }\n",
              "\n",
              "    .dataframe tbody tr th {\n",
              "        vertical-align: top;\n",
              "    }\n",
              "\n",
              "    .dataframe thead th {\n",
              "        text-align: right;\n",
              "    }\n",
              "</style>\n",
              "<table border=\"1\" class=\"dataframe\">\n",
              "  <thead>\n",
              "    <tr style=\"text-align: right;\">\n",
              "      <th></th>\n",
              "      <th>client_id</th>\n",
              "      <th>churn_flag</th>\n",
              "      <th>age</th>\n",
              "      <th>gender</th>\n",
              "      <th>dependents</th>\n",
              "      <th>education</th>\n",
              "      <th>marital</th>\n",
              "      <th>income</th>\n",
              "      <th>card_type</th>\n",
              "      <th>tenure_months</th>\n",
              "      <th>...</th>\n",
              "      <th>inactive_months</th>\n",
              "      <th>contact_count</th>\n",
              "      <th>limit</th>\n",
              "      <th>revolving_bal</th>\n",
              "      <th>open_to_buy</th>\n",
              "      <th>amt_chg_q4_q1</th>\n",
              "      <th>trans_amt</th>\n",
              "      <th>trans_ct</th>\n",
              "      <th>ct_chg_q4_q1</th>\n",
              "      <th>util_ratio</th>\n",
              "    </tr>\n",
              "  </thead>\n",
              "  <tbody>\n",
              "    <tr>\n",
              "      <th>10122</th>\n",
              "      <td>772366833</td>\n",
              "      <td>Existing Customer</td>\n",
              "      <td>50</td>\n",
              "      <td>M</td>\n",
              "      <td>2</td>\n",
              "      <td>Graduate</td>\n",
              "      <td>Single</td>\n",
              "      <td>$40K - $60K</td>\n",
              "      <td>Blue</td>\n",
              "      <td>40</td>\n",
              "      <td>...</td>\n",
              "      <td>2</td>\n",
              "      <td>3</td>\n",
              "      <td>4003.0</td>\n",
              "      <td>1851</td>\n",
              "      <td>2152.0</td>\n",
              "      <td>0.703</td>\n",
              "      <td>15476</td>\n",
              "      <td>117</td>\n",
              "      <td>0.857</td>\n",
              "      <td>0.462</td>\n",
              "    </tr>\n",
              "    <tr>\n",
              "      <th>10123</th>\n",
              "      <td>710638233</td>\n",
              "      <td>Attrited Customer</td>\n",
              "      <td>41</td>\n",
              "      <td>M</td>\n",
              "      <td>2</td>\n",
              "      <td>Unknown</td>\n",
              "      <td>Divorced</td>\n",
              "      <td>$40K - $60K</td>\n",
              "      <td>Blue</td>\n",
              "      <td>25</td>\n",
              "      <td>...</td>\n",
              "      <td>2</td>\n",
              "      <td>3</td>\n",
              "      <td>4277.0</td>\n",
              "      <td>2186</td>\n",
              "      <td>2091.0</td>\n",
              "      <td>0.804</td>\n",
              "      <td>8764</td>\n",
              "      <td>69</td>\n",
              "      <td>0.683</td>\n",
              "      <td>0.511</td>\n",
              "    </tr>\n",
              "    <tr>\n",
              "      <th>10124</th>\n",
              "      <td>716506083</td>\n",
              "      <td>Attrited Customer</td>\n",
              "      <td>44</td>\n",
              "      <td>F</td>\n",
              "      <td>1</td>\n",
              "      <td>High School</td>\n",
              "      <td>Married</td>\n",
              "      <td>Less than $40K</td>\n",
              "      <td>Blue</td>\n",
              "      <td>36</td>\n",
              "      <td>...</td>\n",
              "      <td>3</td>\n",
              "      <td>4</td>\n",
              "      <td>5409.0</td>\n",
              "      <td>0</td>\n",
              "      <td>5409.0</td>\n",
              "      <td>0.819</td>\n",
              "      <td>10291</td>\n",
              "      <td>60</td>\n",
              "      <td>0.818</td>\n",
              "      <td>0.000</td>\n",
              "    </tr>\n",
              "    <tr>\n",
              "      <th>10125</th>\n",
              "      <td>717406983</td>\n",
              "      <td>Attrited Customer</td>\n",
              "      <td>30</td>\n",
              "      <td>M</td>\n",
              "      <td>2</td>\n",
              "      <td>Graduate</td>\n",
              "      <td>Unknown</td>\n",
              "      <td>$40K - $60K</td>\n",
              "      <td>Blue</td>\n",
              "      <td>36</td>\n",
              "      <td>...</td>\n",
              "      <td>3</td>\n",
              "      <td>3</td>\n",
              "      <td>5281.0</td>\n",
              "      <td>0</td>\n",
              "      <td>5281.0</td>\n",
              "      <td>0.535</td>\n",
              "      <td>8395</td>\n",
              "      <td>62</td>\n",
              "      <td>0.722</td>\n",
              "      <td>0.000</td>\n",
              "    </tr>\n",
              "    <tr>\n",
              "      <th>10126</th>\n",
              "      <td>714337233</td>\n",
              "      <td>Attrited Customer</td>\n",
              "      <td>43</td>\n",
              "      <td>F</td>\n",
              "      <td>2</td>\n",
              "      <td>Graduate</td>\n",
              "      <td>Married</td>\n",
              "      <td>Less than $40K</td>\n",
              "      <td>Silver</td>\n",
              "      <td>25</td>\n",
              "      <td>...</td>\n",
              "      <td>2</td>\n",
              "      <td>4</td>\n",
              "      <td>10388.0</td>\n",
              "      <td>1961</td>\n",
              "      <td>8427.0</td>\n",
              "      <td>0.703</td>\n",
              "      <td>10294</td>\n",
              "      <td>61</td>\n",
              "      <td>0.649</td>\n",
              "      <td>0.189</td>\n",
              "    </tr>\n",
              "  </tbody>\n",
              "</table>\n",
              "<p>5 rows × 21 columns</p>\n",
              "</div>\n",
              "    <div class=\"colab-df-buttons\">\n",
              "\n",
              "  <div class=\"colab-df-container\">\n",
              "    <button class=\"colab-df-convert\" onclick=\"convertToInteractive('df-3794e48f-3972-474a-828c-fdb4c7a6a4f0')\"\n",
              "            title=\"Convert this dataframe to an interactive table.\"\n",
              "            style=\"display:none;\">\n",
              "\n",
              "  <svg xmlns=\"http://www.w3.org/2000/svg\" height=\"24px\" viewBox=\"0 -960 960 960\">\n",
              "    <path d=\"M120-120v-720h720v720H120Zm60-500h600v-160H180v160Zm220 220h160v-160H400v160Zm0 220h160v-160H400v160ZM180-400h160v-160H180v160Zm440 0h160v-160H620v160ZM180-180h160v-160H180v160Zm440 0h160v-160H620v160Z\"/>\n",
              "  </svg>\n",
              "    </button>\n",
              "\n",
              "  <style>\n",
              "    .colab-df-container {\n",
              "      display:flex;\n",
              "      gap: 12px;\n",
              "    }\n",
              "\n",
              "    .colab-df-convert {\n",
              "      background-color: #E8F0FE;\n",
              "      border: none;\n",
              "      border-radius: 50%;\n",
              "      cursor: pointer;\n",
              "      display: none;\n",
              "      fill: #1967D2;\n",
              "      height: 32px;\n",
              "      padding: 0 0 0 0;\n",
              "      width: 32px;\n",
              "    }\n",
              "\n",
              "    .colab-df-convert:hover {\n",
              "      background-color: #E2EBFA;\n",
              "      box-shadow: 0px 1px 2px rgba(60, 64, 67, 0.3), 0px 1px 3px 1px rgba(60, 64, 67, 0.15);\n",
              "      fill: #174EA6;\n",
              "    }\n",
              "\n",
              "    .colab-df-buttons div {\n",
              "      margin-bottom: 4px;\n",
              "    }\n",
              "\n",
              "    [theme=dark] .colab-df-convert {\n",
              "      background-color: #3B4455;\n",
              "      fill: #D2E3FC;\n",
              "    }\n",
              "\n",
              "    [theme=dark] .colab-df-convert:hover {\n",
              "      background-color: #434B5C;\n",
              "      box-shadow: 0px 1px 3px 1px rgba(0, 0, 0, 0.15);\n",
              "      filter: drop-shadow(0px 1px 2px rgba(0, 0, 0, 0.3));\n",
              "      fill: #FFFFFF;\n",
              "    }\n",
              "  </style>\n",
              "\n",
              "    <script>\n",
              "      const buttonEl =\n",
              "        document.querySelector('#df-3794e48f-3972-474a-828c-fdb4c7a6a4f0 button.colab-df-convert');\n",
              "      buttonEl.style.display =\n",
              "        google.colab.kernel.accessAllowed ? 'block' : 'none';\n",
              "\n",
              "      async function convertToInteractive(key) {\n",
              "        const element = document.querySelector('#df-3794e48f-3972-474a-828c-fdb4c7a6a4f0');\n",
              "        const dataTable =\n",
              "          await google.colab.kernel.invokeFunction('convertToInteractive',\n",
              "                                                    [key], {});\n",
              "        if (!dataTable) return;\n",
              "\n",
              "        const docLinkHtml = 'Like what you see? Visit the ' +\n",
              "          '<a target=\"_blank\" href=https://colab.research.google.com/notebooks/data_table.ipynb>data table notebook</a>'\n",
              "          + ' to learn more about interactive tables.';\n",
              "        element.innerHTML = '';\n",
              "        dataTable['output_type'] = 'display_data';\n",
              "        await google.colab.output.renderOutput(dataTable, element);\n",
              "        const docLink = document.createElement('div');\n",
              "        docLink.innerHTML = docLinkHtml;\n",
              "        element.appendChild(docLink);\n",
              "      }\n",
              "    </script>\n",
              "  </div>\n",
              "\n",
              "\n",
              "    <div id=\"df-7ba55e29-6d94-436a-a7af-adacd59db74a\">\n",
              "      <button class=\"colab-df-quickchart\" onclick=\"quickchart('df-7ba55e29-6d94-436a-a7af-adacd59db74a')\"\n",
              "                title=\"Suggest charts\"\n",
              "                style=\"display:none;\">\n",
              "\n",
              "<svg xmlns=\"http://www.w3.org/2000/svg\" height=\"24px\"viewBox=\"0 0 24 24\"\n",
              "     width=\"24px\">\n",
              "    <g>\n",
              "        <path d=\"M19 3H5c-1.1 0-2 .9-2 2v14c0 1.1.9 2 2 2h14c1.1 0 2-.9 2-2V5c0-1.1-.9-2-2-2zM9 17H7v-7h2v7zm4 0h-2V7h2v10zm4 0h-2v-4h2v4z\"/>\n",
              "    </g>\n",
              "</svg>\n",
              "      </button>\n",
              "\n",
              "<style>\n",
              "  .colab-df-quickchart {\n",
              "      --bg-color: #E8F0FE;\n",
              "      --fill-color: #1967D2;\n",
              "      --hover-bg-color: #E2EBFA;\n",
              "      --hover-fill-color: #174EA6;\n",
              "      --disabled-fill-color: #AAA;\n",
              "      --disabled-bg-color: #DDD;\n",
              "  }\n",
              "\n",
              "  [theme=dark] .colab-df-quickchart {\n",
              "      --bg-color: #3B4455;\n",
              "      --fill-color: #D2E3FC;\n",
              "      --hover-bg-color: #434B5C;\n",
              "      --hover-fill-color: #FFFFFF;\n",
              "      --disabled-bg-color: #3B4455;\n",
              "      --disabled-fill-color: #666;\n",
              "  }\n",
              "\n",
              "  .colab-df-quickchart {\n",
              "    background-color: var(--bg-color);\n",
              "    border: none;\n",
              "    border-radius: 50%;\n",
              "    cursor: pointer;\n",
              "    display: none;\n",
              "    fill: var(--fill-color);\n",
              "    height: 32px;\n",
              "    padding: 0;\n",
              "    width: 32px;\n",
              "  }\n",
              "\n",
              "  .colab-df-quickchart:hover {\n",
              "    background-color: var(--hover-bg-color);\n",
              "    box-shadow: 0 1px 2px rgba(60, 64, 67, 0.3), 0 1px 3px 1px rgba(60, 64, 67, 0.15);\n",
              "    fill: var(--button-hover-fill-color);\n",
              "  }\n",
              "\n",
              "  .colab-df-quickchart-complete:disabled,\n",
              "  .colab-df-quickchart-complete:disabled:hover {\n",
              "    background-color: var(--disabled-bg-color);\n",
              "    fill: var(--disabled-fill-color);\n",
              "    box-shadow: none;\n",
              "  }\n",
              "\n",
              "  .colab-df-spinner {\n",
              "    border: 2px solid var(--fill-color);\n",
              "    border-color: transparent;\n",
              "    border-bottom-color: var(--fill-color);\n",
              "    animation:\n",
              "      spin 1s steps(1) infinite;\n",
              "  }\n",
              "\n",
              "  @keyframes spin {\n",
              "    0% {\n",
              "      border-color: transparent;\n",
              "      border-bottom-color: var(--fill-color);\n",
              "      border-left-color: var(--fill-color);\n",
              "    }\n",
              "    20% {\n",
              "      border-color: transparent;\n",
              "      border-left-color: var(--fill-color);\n",
              "      border-top-color: var(--fill-color);\n",
              "    }\n",
              "    30% {\n",
              "      border-color: transparent;\n",
              "      border-left-color: var(--fill-color);\n",
              "      border-top-color: var(--fill-color);\n",
              "      border-right-color: var(--fill-color);\n",
              "    }\n",
              "    40% {\n",
              "      border-color: transparent;\n",
              "      border-right-color: var(--fill-color);\n",
              "      border-top-color: var(--fill-color);\n",
              "    }\n",
              "    60% {\n",
              "      border-color: transparent;\n",
              "      border-right-color: var(--fill-color);\n",
              "    }\n",
              "    80% {\n",
              "      border-color: transparent;\n",
              "      border-right-color: var(--fill-color);\n",
              "      border-bottom-color: var(--fill-color);\n",
              "    }\n",
              "    90% {\n",
              "      border-color: transparent;\n",
              "      border-bottom-color: var(--fill-color);\n",
              "    }\n",
              "  }\n",
              "</style>\n",
              "\n",
              "      <script>\n",
              "        async function quickchart(key) {\n",
              "          const quickchartButtonEl =\n",
              "            document.querySelector('#' + key + ' button');\n",
              "          quickchartButtonEl.disabled = true;  // To prevent multiple clicks.\n",
              "          quickchartButtonEl.classList.add('colab-df-spinner');\n",
              "          try {\n",
              "            const charts = await google.colab.kernel.invokeFunction(\n",
              "                'suggestCharts', [key], {});\n",
              "          } catch (error) {\n",
              "            console.error('Error during call to suggestCharts:', error);\n",
              "          }\n",
              "          quickchartButtonEl.classList.remove('colab-df-spinner');\n",
              "          quickchartButtonEl.classList.add('colab-df-quickchart-complete');\n",
              "        }\n",
              "        (() => {\n",
              "          let quickchartButtonEl =\n",
              "            document.querySelector('#df-7ba55e29-6d94-436a-a7af-adacd59db74a button');\n",
              "          quickchartButtonEl.style.display =\n",
              "            google.colab.kernel.accessAllowed ? 'block' : 'none';\n",
              "        })();\n",
              "      </script>\n",
              "    </div>\n",
              "\n",
              "    </div>\n",
              "  </div>\n"
            ],
            "application/vnd.google.colaboratory.intrinsic+json": {
              "type": "dataframe"
            }
          },
          "metadata": {},
          "execution_count": 9
        }
      ]
    },
    {
      "cell_type": "markdown",
      "source": [
        "### 3.3 **Replacing Data Values**"
      ],
      "metadata": {
        "id": "7vm6V_iwtx9T"
      }
    },
    {
      "cell_type": "markdown",
      "source": [
        "3.3.1 **Replacing churn_flag values to Boolean True/False**"
      ],
      "metadata": {
        "id": "EgE9JHydt4hY"
      }
    },
    {
      "cell_type": "code",
      "source": [
        "df['churn_flag'] = df['churn_flag'].map({\n",
        "    'Attrited Customer': True,\n",
        "    'Existing Customer': False\n",
        "})"
      ],
      "metadata": {
        "id": "b10Q3hV_uCe_"
      },
      "execution_count": 10,
      "outputs": []
    },
    {
      "cell_type": "code",
      "source": [
        "df.tail()"
      ],
      "metadata": {
        "colab": {
          "base_uri": "https://localhost:8080/",
          "height": 235
        },
        "id": "k9YiqQ5nwN-K",
        "outputId": "efece19e-1338-4f75-90d2-cbcc80a41874"
      },
      "execution_count": 11,
      "outputs": [
        {
          "output_type": "execute_result",
          "data": {
            "text/plain": [
              "       client_id  churn_flag  age gender  dependents    education   marital  \\\n",
              "10122  772366833       False   50      M           2     Graduate    Single   \n",
              "10123  710638233        True   41      M           2      Unknown  Divorced   \n",
              "10124  716506083        True   44      F           1  High School   Married   \n",
              "10125  717406983        True   30      M           2     Graduate   Unknown   \n",
              "10126  714337233        True   43      F           2     Graduate   Married   \n",
              "\n",
              "               income card_type  tenure_months  ...  inactive_months  \\\n",
              "10122     $40K - $60K      Blue             40  ...                2   \n",
              "10123     $40K - $60K      Blue             25  ...                2   \n",
              "10124  Less than $40K      Blue             36  ...                3   \n",
              "10125     $40K - $60K      Blue             36  ...                3   \n",
              "10126  Less than $40K    Silver             25  ...                2   \n",
              "\n",
              "       contact_count    limit  revolving_bal  open_to_buy  amt_chg_q4_q1  \\\n",
              "10122              3   4003.0           1851       2152.0          0.703   \n",
              "10123              3   4277.0           2186       2091.0          0.804   \n",
              "10124              4   5409.0              0       5409.0          0.819   \n",
              "10125              3   5281.0              0       5281.0          0.535   \n",
              "10126              4  10388.0           1961       8427.0          0.703   \n",
              "\n",
              "       trans_amt  trans_ct  ct_chg_q4_q1  util_ratio  \n",
              "10122      15476       117         0.857       0.462  \n",
              "10123       8764        69         0.683       0.511  \n",
              "10124      10291        60         0.818       0.000  \n",
              "10125       8395        62         0.722       0.000  \n",
              "10126      10294        61         0.649       0.189  \n",
              "\n",
              "[5 rows x 21 columns]"
            ],
            "text/html": [
              "\n",
              "  <div id=\"df-0f53406f-49a3-44e3-93d8-61221482531f\" class=\"colab-df-container\">\n",
              "    <div>\n",
              "<style scoped>\n",
              "    .dataframe tbody tr th:only-of-type {\n",
              "        vertical-align: middle;\n",
              "    }\n",
              "\n",
              "    .dataframe tbody tr th {\n",
              "        vertical-align: top;\n",
              "    }\n",
              "\n",
              "    .dataframe thead th {\n",
              "        text-align: right;\n",
              "    }\n",
              "</style>\n",
              "<table border=\"1\" class=\"dataframe\">\n",
              "  <thead>\n",
              "    <tr style=\"text-align: right;\">\n",
              "      <th></th>\n",
              "      <th>client_id</th>\n",
              "      <th>churn_flag</th>\n",
              "      <th>age</th>\n",
              "      <th>gender</th>\n",
              "      <th>dependents</th>\n",
              "      <th>education</th>\n",
              "      <th>marital</th>\n",
              "      <th>income</th>\n",
              "      <th>card_type</th>\n",
              "      <th>tenure_months</th>\n",
              "      <th>...</th>\n",
              "      <th>inactive_months</th>\n",
              "      <th>contact_count</th>\n",
              "      <th>limit</th>\n",
              "      <th>revolving_bal</th>\n",
              "      <th>open_to_buy</th>\n",
              "      <th>amt_chg_q4_q1</th>\n",
              "      <th>trans_amt</th>\n",
              "      <th>trans_ct</th>\n",
              "      <th>ct_chg_q4_q1</th>\n",
              "      <th>util_ratio</th>\n",
              "    </tr>\n",
              "  </thead>\n",
              "  <tbody>\n",
              "    <tr>\n",
              "      <th>10122</th>\n",
              "      <td>772366833</td>\n",
              "      <td>False</td>\n",
              "      <td>50</td>\n",
              "      <td>M</td>\n",
              "      <td>2</td>\n",
              "      <td>Graduate</td>\n",
              "      <td>Single</td>\n",
              "      <td>$40K - $60K</td>\n",
              "      <td>Blue</td>\n",
              "      <td>40</td>\n",
              "      <td>...</td>\n",
              "      <td>2</td>\n",
              "      <td>3</td>\n",
              "      <td>4003.0</td>\n",
              "      <td>1851</td>\n",
              "      <td>2152.0</td>\n",
              "      <td>0.703</td>\n",
              "      <td>15476</td>\n",
              "      <td>117</td>\n",
              "      <td>0.857</td>\n",
              "      <td>0.462</td>\n",
              "    </tr>\n",
              "    <tr>\n",
              "      <th>10123</th>\n",
              "      <td>710638233</td>\n",
              "      <td>True</td>\n",
              "      <td>41</td>\n",
              "      <td>M</td>\n",
              "      <td>2</td>\n",
              "      <td>Unknown</td>\n",
              "      <td>Divorced</td>\n",
              "      <td>$40K - $60K</td>\n",
              "      <td>Blue</td>\n",
              "      <td>25</td>\n",
              "      <td>...</td>\n",
              "      <td>2</td>\n",
              "      <td>3</td>\n",
              "      <td>4277.0</td>\n",
              "      <td>2186</td>\n",
              "      <td>2091.0</td>\n",
              "      <td>0.804</td>\n",
              "      <td>8764</td>\n",
              "      <td>69</td>\n",
              "      <td>0.683</td>\n",
              "      <td>0.511</td>\n",
              "    </tr>\n",
              "    <tr>\n",
              "      <th>10124</th>\n",
              "      <td>716506083</td>\n",
              "      <td>True</td>\n",
              "      <td>44</td>\n",
              "      <td>F</td>\n",
              "      <td>1</td>\n",
              "      <td>High School</td>\n",
              "      <td>Married</td>\n",
              "      <td>Less than $40K</td>\n",
              "      <td>Blue</td>\n",
              "      <td>36</td>\n",
              "      <td>...</td>\n",
              "      <td>3</td>\n",
              "      <td>4</td>\n",
              "      <td>5409.0</td>\n",
              "      <td>0</td>\n",
              "      <td>5409.0</td>\n",
              "      <td>0.819</td>\n",
              "      <td>10291</td>\n",
              "      <td>60</td>\n",
              "      <td>0.818</td>\n",
              "      <td>0.000</td>\n",
              "    </tr>\n",
              "    <tr>\n",
              "      <th>10125</th>\n",
              "      <td>717406983</td>\n",
              "      <td>True</td>\n",
              "      <td>30</td>\n",
              "      <td>M</td>\n",
              "      <td>2</td>\n",
              "      <td>Graduate</td>\n",
              "      <td>Unknown</td>\n",
              "      <td>$40K - $60K</td>\n",
              "      <td>Blue</td>\n",
              "      <td>36</td>\n",
              "      <td>...</td>\n",
              "      <td>3</td>\n",
              "      <td>3</td>\n",
              "      <td>5281.0</td>\n",
              "      <td>0</td>\n",
              "      <td>5281.0</td>\n",
              "      <td>0.535</td>\n",
              "      <td>8395</td>\n",
              "      <td>62</td>\n",
              "      <td>0.722</td>\n",
              "      <td>0.000</td>\n",
              "    </tr>\n",
              "    <tr>\n",
              "      <th>10126</th>\n",
              "      <td>714337233</td>\n",
              "      <td>True</td>\n",
              "      <td>43</td>\n",
              "      <td>F</td>\n",
              "      <td>2</td>\n",
              "      <td>Graduate</td>\n",
              "      <td>Married</td>\n",
              "      <td>Less than $40K</td>\n",
              "      <td>Silver</td>\n",
              "      <td>25</td>\n",
              "      <td>...</td>\n",
              "      <td>2</td>\n",
              "      <td>4</td>\n",
              "      <td>10388.0</td>\n",
              "      <td>1961</td>\n",
              "      <td>8427.0</td>\n",
              "      <td>0.703</td>\n",
              "      <td>10294</td>\n",
              "      <td>61</td>\n",
              "      <td>0.649</td>\n",
              "      <td>0.189</td>\n",
              "    </tr>\n",
              "  </tbody>\n",
              "</table>\n",
              "<p>5 rows × 21 columns</p>\n",
              "</div>\n",
              "    <div class=\"colab-df-buttons\">\n",
              "\n",
              "  <div class=\"colab-df-container\">\n",
              "    <button class=\"colab-df-convert\" onclick=\"convertToInteractive('df-0f53406f-49a3-44e3-93d8-61221482531f')\"\n",
              "            title=\"Convert this dataframe to an interactive table.\"\n",
              "            style=\"display:none;\">\n",
              "\n",
              "  <svg xmlns=\"http://www.w3.org/2000/svg\" height=\"24px\" viewBox=\"0 -960 960 960\">\n",
              "    <path d=\"M120-120v-720h720v720H120Zm60-500h600v-160H180v160Zm220 220h160v-160H400v160Zm0 220h160v-160H400v160ZM180-400h160v-160H180v160Zm440 0h160v-160H620v160ZM180-180h160v-160H180v160Zm440 0h160v-160H620v160Z\"/>\n",
              "  </svg>\n",
              "    </button>\n",
              "\n",
              "  <style>\n",
              "    .colab-df-container {\n",
              "      display:flex;\n",
              "      gap: 12px;\n",
              "    }\n",
              "\n",
              "    .colab-df-convert {\n",
              "      background-color: #E8F0FE;\n",
              "      border: none;\n",
              "      border-radius: 50%;\n",
              "      cursor: pointer;\n",
              "      display: none;\n",
              "      fill: #1967D2;\n",
              "      height: 32px;\n",
              "      padding: 0 0 0 0;\n",
              "      width: 32px;\n",
              "    }\n",
              "\n",
              "    .colab-df-convert:hover {\n",
              "      background-color: #E2EBFA;\n",
              "      box-shadow: 0px 1px 2px rgba(60, 64, 67, 0.3), 0px 1px 3px 1px rgba(60, 64, 67, 0.15);\n",
              "      fill: #174EA6;\n",
              "    }\n",
              "\n",
              "    .colab-df-buttons div {\n",
              "      margin-bottom: 4px;\n",
              "    }\n",
              "\n",
              "    [theme=dark] .colab-df-convert {\n",
              "      background-color: #3B4455;\n",
              "      fill: #D2E3FC;\n",
              "    }\n",
              "\n",
              "    [theme=dark] .colab-df-convert:hover {\n",
              "      background-color: #434B5C;\n",
              "      box-shadow: 0px 1px 3px 1px rgba(0, 0, 0, 0.15);\n",
              "      filter: drop-shadow(0px 1px 2px rgba(0, 0, 0, 0.3));\n",
              "      fill: #FFFFFF;\n",
              "    }\n",
              "  </style>\n",
              "\n",
              "    <script>\n",
              "      const buttonEl =\n",
              "        document.querySelector('#df-0f53406f-49a3-44e3-93d8-61221482531f button.colab-df-convert');\n",
              "      buttonEl.style.display =\n",
              "        google.colab.kernel.accessAllowed ? 'block' : 'none';\n",
              "\n",
              "      async function convertToInteractive(key) {\n",
              "        const element = document.querySelector('#df-0f53406f-49a3-44e3-93d8-61221482531f');\n",
              "        const dataTable =\n",
              "          await google.colab.kernel.invokeFunction('convertToInteractive',\n",
              "                                                    [key], {});\n",
              "        if (!dataTable) return;\n",
              "\n",
              "        const docLinkHtml = 'Like what you see? Visit the ' +\n",
              "          '<a target=\"_blank\" href=https://colab.research.google.com/notebooks/data_table.ipynb>data table notebook</a>'\n",
              "          + ' to learn more about interactive tables.';\n",
              "        element.innerHTML = '';\n",
              "        dataTable['output_type'] = 'display_data';\n",
              "        await google.colab.output.renderOutput(dataTable, element);\n",
              "        const docLink = document.createElement('div');\n",
              "        docLink.innerHTML = docLinkHtml;\n",
              "        element.appendChild(docLink);\n",
              "      }\n",
              "    </script>\n",
              "  </div>\n",
              "\n",
              "\n",
              "    <div id=\"df-a1d12a36-4653-48ca-b993-54e75c757648\">\n",
              "      <button class=\"colab-df-quickchart\" onclick=\"quickchart('df-a1d12a36-4653-48ca-b993-54e75c757648')\"\n",
              "                title=\"Suggest charts\"\n",
              "                style=\"display:none;\">\n",
              "\n",
              "<svg xmlns=\"http://www.w3.org/2000/svg\" height=\"24px\"viewBox=\"0 0 24 24\"\n",
              "     width=\"24px\">\n",
              "    <g>\n",
              "        <path d=\"M19 3H5c-1.1 0-2 .9-2 2v14c0 1.1.9 2 2 2h14c1.1 0 2-.9 2-2V5c0-1.1-.9-2-2-2zM9 17H7v-7h2v7zm4 0h-2V7h2v10zm4 0h-2v-4h2v4z\"/>\n",
              "    </g>\n",
              "</svg>\n",
              "      </button>\n",
              "\n",
              "<style>\n",
              "  .colab-df-quickchart {\n",
              "      --bg-color: #E8F0FE;\n",
              "      --fill-color: #1967D2;\n",
              "      --hover-bg-color: #E2EBFA;\n",
              "      --hover-fill-color: #174EA6;\n",
              "      --disabled-fill-color: #AAA;\n",
              "      --disabled-bg-color: #DDD;\n",
              "  }\n",
              "\n",
              "  [theme=dark] .colab-df-quickchart {\n",
              "      --bg-color: #3B4455;\n",
              "      --fill-color: #D2E3FC;\n",
              "      --hover-bg-color: #434B5C;\n",
              "      --hover-fill-color: #FFFFFF;\n",
              "      --disabled-bg-color: #3B4455;\n",
              "      --disabled-fill-color: #666;\n",
              "  }\n",
              "\n",
              "  .colab-df-quickchart {\n",
              "    background-color: var(--bg-color);\n",
              "    border: none;\n",
              "    border-radius: 50%;\n",
              "    cursor: pointer;\n",
              "    display: none;\n",
              "    fill: var(--fill-color);\n",
              "    height: 32px;\n",
              "    padding: 0;\n",
              "    width: 32px;\n",
              "  }\n",
              "\n",
              "  .colab-df-quickchart:hover {\n",
              "    background-color: var(--hover-bg-color);\n",
              "    box-shadow: 0 1px 2px rgba(60, 64, 67, 0.3), 0 1px 3px 1px rgba(60, 64, 67, 0.15);\n",
              "    fill: var(--button-hover-fill-color);\n",
              "  }\n",
              "\n",
              "  .colab-df-quickchart-complete:disabled,\n",
              "  .colab-df-quickchart-complete:disabled:hover {\n",
              "    background-color: var(--disabled-bg-color);\n",
              "    fill: var(--disabled-fill-color);\n",
              "    box-shadow: none;\n",
              "  }\n",
              "\n",
              "  .colab-df-spinner {\n",
              "    border: 2px solid var(--fill-color);\n",
              "    border-color: transparent;\n",
              "    border-bottom-color: var(--fill-color);\n",
              "    animation:\n",
              "      spin 1s steps(1) infinite;\n",
              "  }\n",
              "\n",
              "  @keyframes spin {\n",
              "    0% {\n",
              "      border-color: transparent;\n",
              "      border-bottom-color: var(--fill-color);\n",
              "      border-left-color: var(--fill-color);\n",
              "    }\n",
              "    20% {\n",
              "      border-color: transparent;\n",
              "      border-left-color: var(--fill-color);\n",
              "      border-top-color: var(--fill-color);\n",
              "    }\n",
              "    30% {\n",
              "      border-color: transparent;\n",
              "      border-left-color: var(--fill-color);\n",
              "      border-top-color: var(--fill-color);\n",
              "      border-right-color: var(--fill-color);\n",
              "    }\n",
              "    40% {\n",
              "      border-color: transparent;\n",
              "      border-right-color: var(--fill-color);\n",
              "      border-top-color: var(--fill-color);\n",
              "    }\n",
              "    60% {\n",
              "      border-color: transparent;\n",
              "      border-right-color: var(--fill-color);\n",
              "    }\n",
              "    80% {\n",
              "      border-color: transparent;\n",
              "      border-right-color: var(--fill-color);\n",
              "      border-bottom-color: var(--fill-color);\n",
              "    }\n",
              "    90% {\n",
              "      border-color: transparent;\n",
              "      border-bottom-color: var(--fill-color);\n",
              "    }\n",
              "  }\n",
              "</style>\n",
              "\n",
              "      <script>\n",
              "        async function quickchart(key) {\n",
              "          const quickchartButtonEl =\n",
              "            document.querySelector('#' + key + ' button');\n",
              "          quickchartButtonEl.disabled = true;  // To prevent multiple clicks.\n",
              "          quickchartButtonEl.classList.add('colab-df-spinner');\n",
              "          try {\n",
              "            const charts = await google.colab.kernel.invokeFunction(\n",
              "                'suggestCharts', [key], {});\n",
              "          } catch (error) {\n",
              "            console.error('Error during call to suggestCharts:', error);\n",
              "          }\n",
              "          quickchartButtonEl.classList.remove('colab-df-spinner');\n",
              "          quickchartButtonEl.classList.add('colab-df-quickchart-complete');\n",
              "        }\n",
              "        (() => {\n",
              "          let quickchartButtonEl =\n",
              "            document.querySelector('#df-a1d12a36-4653-48ca-b993-54e75c757648 button');\n",
              "          quickchartButtonEl.style.display =\n",
              "            google.colab.kernel.accessAllowed ? 'block' : 'none';\n",
              "        })();\n",
              "      </script>\n",
              "    </div>\n",
              "\n",
              "    </div>\n",
              "  </div>\n"
            ],
            "application/vnd.google.colaboratory.intrinsic+json": {
              "type": "dataframe"
            }
          },
          "metadata": {},
          "execution_count": 11
        }
      ]
    },
    {
      "cell_type": "markdown",
      "source": [
        "3.3.2 **Ordial Encoding and Grouping Income Levels**\n",
        "\n"
      ],
      "metadata": {
        "id": "VMJuzga4xV_m"
      }
    },
    {
      "cell_type": "code",
      "source": [
        "df['income'].unique()"
      ],
      "metadata": {
        "colab": {
          "base_uri": "https://localhost:8080/"
        },
        "id": "hDCduHOtwke9",
        "outputId": "25e23507-7ec0-49fb-abd0-85e67c55bff4"
      },
      "execution_count": 12,
      "outputs": [
        {
          "output_type": "execute_result",
          "data": {
            "text/plain": [
              "array(['$60K - $80K', 'Less than $40K', '$80K - $120K', '$40K - $60K',\n",
              "       '$120K +', 'Unknown'], dtype=object)"
            ]
          },
          "metadata": {},
          "execution_count": 12
        }
      ]
    },
    {
      "cell_type": "markdown",
      "source": [
        "Lets create an ordered scale of our income as a column\n",
        "\n",
        "\n"
      ],
      "metadata": {
        "id": "cr_zcaofxdd0"
      }
    },
    {
      "cell_type": "code",
      "source": [
        "income_order = {\n",
        "    'Less than $40K': 1,\n",
        "    '$40K - $60K': 2,\n",
        "    '$60K - $80K': 3,\n",
        "    '$80K - $120K': 4,\n",
        "    '$120K +': 5,\n",
        "    'Unknown': 0\n",
        "}"
      ],
      "metadata": {
        "id": "gXs4KCHhxiWf"
      },
      "execution_count": 13,
      "outputs": []
    },
    {
      "cell_type": "markdown",
      "source": [
        "And create income_level column to apply our income scale"
      ],
      "metadata": {
        "id": "R53i1FYrybHI"
      }
    },
    {
      "cell_type": "code",
      "source": [
        "df['income_level'] = df['income'].map(income_order)"
      ],
      "metadata": {
        "id": "-9gx5D2jx6QQ"
      },
      "execution_count": 14,
      "outputs": []
    },
    {
      "cell_type": "markdown",
      "source": [
        "Create a function to group income levels in to Low, Mid, High"
      ],
      "metadata": {
        "id": "hODUEHAEzS44"
      }
    },
    {
      "cell_type": "code",
      "source": [
        "def group_income(val):\n",
        "  if val in ['Less than $40K', '$40K - $60K']:\n",
        "    return 'Low'\n",
        "  elif val in ['$60K - $80K', '$80K - $120K']:\n",
        "    return 'Mid'\n",
        "  elif val == '$120K +':\n",
        "    return 'High'\n",
        "  else:\n",
        "    return 'Unknown'"
      ],
      "metadata": {
        "id": "8mdzD8MTzIjA"
      },
      "execution_count": 15,
      "outputs": []
    },
    {
      "cell_type": "markdown",
      "source": [
        "Create income_group column by applying group_income function on income values"
      ],
      "metadata": {
        "id": "gwLHMIXKzXib"
      }
    },
    {
      "cell_type": "code",
      "source": [
        "df['income_group'] = df['income'].apply(group_income)"
      ],
      "metadata": {
        "id": "abOXWzpwzMZb"
      },
      "execution_count": 16,
      "outputs": []
    },
    {
      "cell_type": "markdown",
      "source": [
        "3.3.3 **Ordial Encoding of card_type**"
      ],
      "metadata": {
        "id": "O0MRpm8EgT7W"
      }
    },
    {
      "cell_type": "code",
      "source": [
        "df['card_type'].unique()"
      ],
      "metadata": {
        "colab": {
          "base_uri": "https://localhost:8080/"
        },
        "id": "p7o1OAxOgb-8",
        "outputId": "7e4c1a55-eef0-423e-9e74-9e6f9b615aa3"
      },
      "execution_count": 17,
      "outputs": [
        {
          "output_type": "execute_result",
          "data": {
            "text/plain": [
              "array(['Blue', 'Gold', 'Silver', 'Platinum'], dtype=object)"
            ]
          },
          "metadata": {},
          "execution_count": 17
        }
      ]
    },
    {
      "cell_type": "code",
      "source": [
        "card_type_order = {\n",
        "    'Blue': 1,\n",
        "    'Gold': 2,\n",
        "    'Silver': 3,\n",
        "    'Platinum': 4,\n",
        "    'Unknown': 0\n",
        "}"
      ],
      "metadata": {
        "id": "qOVjmqUqgsHO"
      },
      "execution_count": 18,
      "outputs": []
    },
    {
      "cell_type": "code",
      "source": [
        "df['card_level'] = df['card_type'].map(card_type_order)"
      ],
      "metadata": {
        "id": "Hs1uwEKYg0uF"
      },
      "execution_count": 19,
      "outputs": []
    },
    {
      "cell_type": "markdown",
      "source": [
        "3.3.4 **Ordial Encoding of education**"
      ],
      "metadata": {
        "id": "t8yPi7RMg-h0"
      }
    },
    {
      "cell_type": "code",
      "source": [
        "df['education'].unique()"
      ],
      "metadata": {
        "colab": {
          "base_uri": "https://localhost:8080/"
        },
        "id": "K8q6WTFVhVGE",
        "outputId": "61fbeece-08a4-4f8c-b980-90c6039700b1"
      },
      "execution_count": 20,
      "outputs": [
        {
          "output_type": "execute_result",
          "data": {
            "text/plain": [
              "array(['High School', 'Graduate', 'Uneducated', 'Unknown', 'College',\n",
              "       'Post-Graduate', 'Doctorate'], dtype=object)"
            ]
          },
          "metadata": {},
          "execution_count": 20
        }
      ]
    },
    {
      "cell_type": "code",
      "source": [
        "education_type_order = {\n",
        "    'Uneducated': 1,\n",
        "    'High School': 2,\n",
        "    'College': 3,\n",
        "    'Graduate': 4,\n",
        "    'Post-Graduate': 5,\n",
        "    'Doctorate': 6,\n",
        "    'Unknown': 0\n",
        "}"
      ],
      "metadata": {
        "id": "DtVt3F-chixV"
      },
      "execution_count": 21,
      "outputs": []
    },
    {
      "cell_type": "code",
      "source": [
        "df['education_level'] = df['education'].map(education_type_order)"
      ],
      "metadata": {
        "id": "HpSlU3fQjAkT"
      },
      "execution_count": 22,
      "outputs": []
    },
    {
      "cell_type": "markdown",
      "source": [
        "Confirm our changes"
      ],
      "metadata": {
        "id": "Wval6agdzkq8"
      }
    },
    {
      "cell_type": "code",
      "source": [
        "df.info()"
      ],
      "metadata": {
        "colab": {
          "base_uri": "https://localhost:8080/"
        },
        "id": "f0XMt9fxzqyJ",
        "outputId": "ba792229-c97a-47ac-b2b2-dcf8329c77f6"
      },
      "execution_count": 23,
      "outputs": [
        {
          "output_type": "stream",
          "name": "stdout",
          "text": [
            "<class 'pandas.core.frame.DataFrame'>\n",
            "RangeIndex: 10127 entries, 0 to 10126\n",
            "Data columns (total 25 columns):\n",
            " #   Column           Non-Null Count  Dtype  \n",
            "---  ------           --------------  -----  \n",
            " 0   client_id        10127 non-null  int64  \n",
            " 1   churn_flag       10127 non-null  bool   \n",
            " 2   age              10127 non-null  int64  \n",
            " 3   gender           10127 non-null  object \n",
            " 4   dependents       10127 non-null  int64  \n",
            " 5   education        10127 non-null  object \n",
            " 6   marital          10127 non-null  object \n",
            " 7   income           10127 non-null  object \n",
            " 8   card_type        10127 non-null  object \n",
            " 9   tenure_months    10127 non-null  int64  \n",
            " 10  relationships    10127 non-null  int64  \n",
            " 11  inactive_months  10127 non-null  int64  \n",
            " 12  contact_count    10127 non-null  int64  \n",
            " 13  limit            10127 non-null  float64\n",
            " 14  revolving_bal    10127 non-null  int64  \n",
            " 15  open_to_buy      10127 non-null  float64\n",
            " 16  amt_chg_q4_q1    10127 non-null  float64\n",
            " 17  trans_amt        10127 non-null  int64  \n",
            " 18  trans_ct         10127 non-null  int64  \n",
            " 19  ct_chg_q4_q1     10127 non-null  float64\n",
            " 20  util_ratio       10127 non-null  float64\n",
            " 21  income_level     10127 non-null  int64  \n",
            " 22  income_group     10127 non-null  object \n",
            " 23  card_level       10127 non-null  int64  \n",
            " 24  education_level  10127 non-null  int64  \n",
            "dtypes: bool(1), float64(5), int64(13), object(6)\n",
            "memory usage: 1.9+ MB\n"
          ]
        }
      ]
    },
    {
      "cell_type": "code",
      "source": [
        "df.head()"
      ],
      "metadata": {
        "colab": {
          "base_uri": "https://localhost:8080/",
          "height": 235
        },
        "id": "8FSrDjO_zkP0",
        "outputId": "de6b2e82-f01d-4ced-e529-4089ec645e4b"
      },
      "execution_count": 24,
      "outputs": [
        {
          "output_type": "execute_result",
          "data": {
            "text/plain": [
              "   client_id  churn_flag  age gender  dependents    education  marital  \\\n",
              "0  768805383       False   45      M           3  High School  Married   \n",
              "1  818770008       False   49      F           5     Graduate   Single   \n",
              "2  713982108       False   51      M           3     Graduate  Married   \n",
              "3  769911858       False   40      F           4  High School  Unknown   \n",
              "4  709106358       False   40      M           3   Uneducated  Married   \n",
              "\n",
              "           income card_type  tenure_months  ...  open_to_buy  amt_chg_q4_q1  \\\n",
              "0     $60K - $80K      Blue             39  ...      11914.0          1.335   \n",
              "1  Less than $40K      Blue             44  ...       7392.0          1.541   \n",
              "2    $80K - $120K      Blue             36  ...       3418.0          2.594   \n",
              "3  Less than $40K      Blue             34  ...        796.0          1.405   \n",
              "4     $60K - $80K      Blue             21  ...       4716.0          2.175   \n",
              "\n",
              "   trans_amt  trans_ct  ct_chg_q4_q1  util_ratio  income_level  income_group  \\\n",
              "0       1144        42         1.625       0.061             3           Mid   \n",
              "1       1291        33         3.714       0.105             1           Low   \n",
              "2       1887        20         2.333       0.000             4           Mid   \n",
              "3       1171        20         2.333       0.760             1           Low   \n",
              "4        816        28         2.500       0.000             3           Mid   \n",
              "\n",
              "   card_level  education_level  \n",
              "0           1                2  \n",
              "1           1                4  \n",
              "2           1                4  \n",
              "3           1                2  \n",
              "4           1                1  \n",
              "\n",
              "[5 rows x 25 columns]"
            ],
            "text/html": [
              "\n",
              "  <div id=\"df-596d5696-72d0-47ec-b387-f1ab23287f79\" class=\"colab-df-container\">\n",
              "    <div>\n",
              "<style scoped>\n",
              "    .dataframe tbody tr th:only-of-type {\n",
              "        vertical-align: middle;\n",
              "    }\n",
              "\n",
              "    .dataframe tbody tr th {\n",
              "        vertical-align: top;\n",
              "    }\n",
              "\n",
              "    .dataframe thead th {\n",
              "        text-align: right;\n",
              "    }\n",
              "</style>\n",
              "<table border=\"1\" class=\"dataframe\">\n",
              "  <thead>\n",
              "    <tr style=\"text-align: right;\">\n",
              "      <th></th>\n",
              "      <th>client_id</th>\n",
              "      <th>churn_flag</th>\n",
              "      <th>age</th>\n",
              "      <th>gender</th>\n",
              "      <th>dependents</th>\n",
              "      <th>education</th>\n",
              "      <th>marital</th>\n",
              "      <th>income</th>\n",
              "      <th>card_type</th>\n",
              "      <th>tenure_months</th>\n",
              "      <th>...</th>\n",
              "      <th>open_to_buy</th>\n",
              "      <th>amt_chg_q4_q1</th>\n",
              "      <th>trans_amt</th>\n",
              "      <th>trans_ct</th>\n",
              "      <th>ct_chg_q4_q1</th>\n",
              "      <th>util_ratio</th>\n",
              "      <th>income_level</th>\n",
              "      <th>income_group</th>\n",
              "      <th>card_level</th>\n",
              "      <th>education_level</th>\n",
              "    </tr>\n",
              "  </thead>\n",
              "  <tbody>\n",
              "    <tr>\n",
              "      <th>0</th>\n",
              "      <td>768805383</td>\n",
              "      <td>False</td>\n",
              "      <td>45</td>\n",
              "      <td>M</td>\n",
              "      <td>3</td>\n",
              "      <td>High School</td>\n",
              "      <td>Married</td>\n",
              "      <td>$60K - $80K</td>\n",
              "      <td>Blue</td>\n",
              "      <td>39</td>\n",
              "      <td>...</td>\n",
              "      <td>11914.0</td>\n",
              "      <td>1.335</td>\n",
              "      <td>1144</td>\n",
              "      <td>42</td>\n",
              "      <td>1.625</td>\n",
              "      <td>0.061</td>\n",
              "      <td>3</td>\n",
              "      <td>Mid</td>\n",
              "      <td>1</td>\n",
              "      <td>2</td>\n",
              "    </tr>\n",
              "    <tr>\n",
              "      <th>1</th>\n",
              "      <td>818770008</td>\n",
              "      <td>False</td>\n",
              "      <td>49</td>\n",
              "      <td>F</td>\n",
              "      <td>5</td>\n",
              "      <td>Graduate</td>\n",
              "      <td>Single</td>\n",
              "      <td>Less than $40K</td>\n",
              "      <td>Blue</td>\n",
              "      <td>44</td>\n",
              "      <td>...</td>\n",
              "      <td>7392.0</td>\n",
              "      <td>1.541</td>\n",
              "      <td>1291</td>\n",
              "      <td>33</td>\n",
              "      <td>3.714</td>\n",
              "      <td>0.105</td>\n",
              "      <td>1</td>\n",
              "      <td>Low</td>\n",
              "      <td>1</td>\n",
              "      <td>4</td>\n",
              "    </tr>\n",
              "    <tr>\n",
              "      <th>2</th>\n",
              "      <td>713982108</td>\n",
              "      <td>False</td>\n",
              "      <td>51</td>\n",
              "      <td>M</td>\n",
              "      <td>3</td>\n",
              "      <td>Graduate</td>\n",
              "      <td>Married</td>\n",
              "      <td>$80K - $120K</td>\n",
              "      <td>Blue</td>\n",
              "      <td>36</td>\n",
              "      <td>...</td>\n",
              "      <td>3418.0</td>\n",
              "      <td>2.594</td>\n",
              "      <td>1887</td>\n",
              "      <td>20</td>\n",
              "      <td>2.333</td>\n",
              "      <td>0.000</td>\n",
              "      <td>4</td>\n",
              "      <td>Mid</td>\n",
              "      <td>1</td>\n",
              "      <td>4</td>\n",
              "    </tr>\n",
              "    <tr>\n",
              "      <th>3</th>\n",
              "      <td>769911858</td>\n",
              "      <td>False</td>\n",
              "      <td>40</td>\n",
              "      <td>F</td>\n",
              "      <td>4</td>\n",
              "      <td>High School</td>\n",
              "      <td>Unknown</td>\n",
              "      <td>Less than $40K</td>\n",
              "      <td>Blue</td>\n",
              "      <td>34</td>\n",
              "      <td>...</td>\n",
              "      <td>796.0</td>\n",
              "      <td>1.405</td>\n",
              "      <td>1171</td>\n",
              "      <td>20</td>\n",
              "      <td>2.333</td>\n",
              "      <td>0.760</td>\n",
              "      <td>1</td>\n",
              "      <td>Low</td>\n",
              "      <td>1</td>\n",
              "      <td>2</td>\n",
              "    </tr>\n",
              "    <tr>\n",
              "      <th>4</th>\n",
              "      <td>709106358</td>\n",
              "      <td>False</td>\n",
              "      <td>40</td>\n",
              "      <td>M</td>\n",
              "      <td>3</td>\n",
              "      <td>Uneducated</td>\n",
              "      <td>Married</td>\n",
              "      <td>$60K - $80K</td>\n",
              "      <td>Blue</td>\n",
              "      <td>21</td>\n",
              "      <td>...</td>\n",
              "      <td>4716.0</td>\n",
              "      <td>2.175</td>\n",
              "      <td>816</td>\n",
              "      <td>28</td>\n",
              "      <td>2.500</td>\n",
              "      <td>0.000</td>\n",
              "      <td>3</td>\n",
              "      <td>Mid</td>\n",
              "      <td>1</td>\n",
              "      <td>1</td>\n",
              "    </tr>\n",
              "  </tbody>\n",
              "</table>\n",
              "<p>5 rows × 25 columns</p>\n",
              "</div>\n",
              "    <div class=\"colab-df-buttons\">\n",
              "\n",
              "  <div class=\"colab-df-container\">\n",
              "    <button class=\"colab-df-convert\" onclick=\"convertToInteractive('df-596d5696-72d0-47ec-b387-f1ab23287f79')\"\n",
              "            title=\"Convert this dataframe to an interactive table.\"\n",
              "            style=\"display:none;\">\n",
              "\n",
              "  <svg xmlns=\"http://www.w3.org/2000/svg\" height=\"24px\" viewBox=\"0 -960 960 960\">\n",
              "    <path d=\"M120-120v-720h720v720H120Zm60-500h600v-160H180v160Zm220 220h160v-160H400v160Zm0 220h160v-160H400v160ZM180-400h160v-160H180v160Zm440 0h160v-160H620v160ZM180-180h160v-160H180v160Zm440 0h160v-160H620v160Z\"/>\n",
              "  </svg>\n",
              "    </button>\n",
              "\n",
              "  <style>\n",
              "    .colab-df-container {\n",
              "      display:flex;\n",
              "      gap: 12px;\n",
              "    }\n",
              "\n",
              "    .colab-df-convert {\n",
              "      background-color: #E8F0FE;\n",
              "      border: none;\n",
              "      border-radius: 50%;\n",
              "      cursor: pointer;\n",
              "      display: none;\n",
              "      fill: #1967D2;\n",
              "      height: 32px;\n",
              "      padding: 0 0 0 0;\n",
              "      width: 32px;\n",
              "    }\n",
              "\n",
              "    .colab-df-convert:hover {\n",
              "      background-color: #E2EBFA;\n",
              "      box-shadow: 0px 1px 2px rgba(60, 64, 67, 0.3), 0px 1px 3px 1px rgba(60, 64, 67, 0.15);\n",
              "      fill: #174EA6;\n",
              "    }\n",
              "\n",
              "    .colab-df-buttons div {\n",
              "      margin-bottom: 4px;\n",
              "    }\n",
              "\n",
              "    [theme=dark] .colab-df-convert {\n",
              "      background-color: #3B4455;\n",
              "      fill: #D2E3FC;\n",
              "    }\n",
              "\n",
              "    [theme=dark] .colab-df-convert:hover {\n",
              "      background-color: #434B5C;\n",
              "      box-shadow: 0px 1px 3px 1px rgba(0, 0, 0, 0.15);\n",
              "      filter: drop-shadow(0px 1px 2px rgba(0, 0, 0, 0.3));\n",
              "      fill: #FFFFFF;\n",
              "    }\n",
              "  </style>\n",
              "\n",
              "    <script>\n",
              "      const buttonEl =\n",
              "        document.querySelector('#df-596d5696-72d0-47ec-b387-f1ab23287f79 button.colab-df-convert');\n",
              "      buttonEl.style.display =\n",
              "        google.colab.kernel.accessAllowed ? 'block' : 'none';\n",
              "\n",
              "      async function convertToInteractive(key) {\n",
              "        const element = document.querySelector('#df-596d5696-72d0-47ec-b387-f1ab23287f79');\n",
              "        const dataTable =\n",
              "          await google.colab.kernel.invokeFunction('convertToInteractive',\n",
              "                                                    [key], {});\n",
              "        if (!dataTable) return;\n",
              "\n",
              "        const docLinkHtml = 'Like what you see? Visit the ' +\n",
              "          '<a target=\"_blank\" href=https://colab.research.google.com/notebooks/data_table.ipynb>data table notebook</a>'\n",
              "          + ' to learn more about interactive tables.';\n",
              "        element.innerHTML = '';\n",
              "        dataTable['output_type'] = 'display_data';\n",
              "        await google.colab.output.renderOutput(dataTable, element);\n",
              "        const docLink = document.createElement('div');\n",
              "        docLink.innerHTML = docLinkHtml;\n",
              "        element.appendChild(docLink);\n",
              "      }\n",
              "    </script>\n",
              "  </div>\n",
              "\n",
              "\n",
              "    <div id=\"df-1b3880f8-9fe0-46ac-8141-f811771c2062\">\n",
              "      <button class=\"colab-df-quickchart\" onclick=\"quickchart('df-1b3880f8-9fe0-46ac-8141-f811771c2062')\"\n",
              "                title=\"Suggest charts\"\n",
              "                style=\"display:none;\">\n",
              "\n",
              "<svg xmlns=\"http://www.w3.org/2000/svg\" height=\"24px\"viewBox=\"0 0 24 24\"\n",
              "     width=\"24px\">\n",
              "    <g>\n",
              "        <path d=\"M19 3H5c-1.1 0-2 .9-2 2v14c0 1.1.9 2 2 2h14c1.1 0 2-.9 2-2V5c0-1.1-.9-2-2-2zM9 17H7v-7h2v7zm4 0h-2V7h2v10zm4 0h-2v-4h2v4z\"/>\n",
              "    </g>\n",
              "</svg>\n",
              "      </button>\n",
              "\n",
              "<style>\n",
              "  .colab-df-quickchart {\n",
              "      --bg-color: #E8F0FE;\n",
              "      --fill-color: #1967D2;\n",
              "      --hover-bg-color: #E2EBFA;\n",
              "      --hover-fill-color: #174EA6;\n",
              "      --disabled-fill-color: #AAA;\n",
              "      --disabled-bg-color: #DDD;\n",
              "  }\n",
              "\n",
              "  [theme=dark] .colab-df-quickchart {\n",
              "      --bg-color: #3B4455;\n",
              "      --fill-color: #D2E3FC;\n",
              "      --hover-bg-color: #434B5C;\n",
              "      --hover-fill-color: #FFFFFF;\n",
              "      --disabled-bg-color: #3B4455;\n",
              "      --disabled-fill-color: #666;\n",
              "  }\n",
              "\n",
              "  .colab-df-quickchart {\n",
              "    background-color: var(--bg-color);\n",
              "    border: none;\n",
              "    border-radius: 50%;\n",
              "    cursor: pointer;\n",
              "    display: none;\n",
              "    fill: var(--fill-color);\n",
              "    height: 32px;\n",
              "    padding: 0;\n",
              "    width: 32px;\n",
              "  }\n",
              "\n",
              "  .colab-df-quickchart:hover {\n",
              "    background-color: var(--hover-bg-color);\n",
              "    box-shadow: 0 1px 2px rgba(60, 64, 67, 0.3), 0 1px 3px 1px rgba(60, 64, 67, 0.15);\n",
              "    fill: var(--button-hover-fill-color);\n",
              "  }\n",
              "\n",
              "  .colab-df-quickchart-complete:disabled,\n",
              "  .colab-df-quickchart-complete:disabled:hover {\n",
              "    background-color: var(--disabled-bg-color);\n",
              "    fill: var(--disabled-fill-color);\n",
              "    box-shadow: none;\n",
              "  }\n",
              "\n",
              "  .colab-df-spinner {\n",
              "    border: 2px solid var(--fill-color);\n",
              "    border-color: transparent;\n",
              "    border-bottom-color: var(--fill-color);\n",
              "    animation:\n",
              "      spin 1s steps(1) infinite;\n",
              "  }\n",
              "\n",
              "  @keyframes spin {\n",
              "    0% {\n",
              "      border-color: transparent;\n",
              "      border-bottom-color: var(--fill-color);\n",
              "      border-left-color: var(--fill-color);\n",
              "    }\n",
              "    20% {\n",
              "      border-color: transparent;\n",
              "      border-left-color: var(--fill-color);\n",
              "      border-top-color: var(--fill-color);\n",
              "    }\n",
              "    30% {\n",
              "      border-color: transparent;\n",
              "      border-left-color: var(--fill-color);\n",
              "      border-top-color: var(--fill-color);\n",
              "      border-right-color: var(--fill-color);\n",
              "    }\n",
              "    40% {\n",
              "      border-color: transparent;\n",
              "      border-right-color: var(--fill-color);\n",
              "      border-top-color: var(--fill-color);\n",
              "    }\n",
              "    60% {\n",
              "      border-color: transparent;\n",
              "      border-right-color: var(--fill-color);\n",
              "    }\n",
              "    80% {\n",
              "      border-color: transparent;\n",
              "      border-right-color: var(--fill-color);\n",
              "      border-bottom-color: var(--fill-color);\n",
              "    }\n",
              "    90% {\n",
              "      border-color: transparent;\n",
              "      border-bottom-color: var(--fill-color);\n",
              "    }\n",
              "  }\n",
              "</style>\n",
              "\n",
              "      <script>\n",
              "        async function quickchart(key) {\n",
              "          const quickchartButtonEl =\n",
              "            document.querySelector('#' + key + ' button');\n",
              "          quickchartButtonEl.disabled = true;  // To prevent multiple clicks.\n",
              "          quickchartButtonEl.classList.add('colab-df-spinner');\n",
              "          try {\n",
              "            const charts = await google.colab.kernel.invokeFunction(\n",
              "                'suggestCharts', [key], {});\n",
              "          } catch (error) {\n",
              "            console.error('Error during call to suggestCharts:', error);\n",
              "          }\n",
              "          quickchartButtonEl.classList.remove('colab-df-spinner');\n",
              "          quickchartButtonEl.classList.add('colab-df-quickchart-complete');\n",
              "        }\n",
              "        (() => {\n",
              "          let quickchartButtonEl =\n",
              "            document.querySelector('#df-1b3880f8-9fe0-46ac-8141-f811771c2062 button');\n",
              "          quickchartButtonEl.style.display =\n",
              "            google.colab.kernel.accessAllowed ? 'block' : 'none';\n",
              "        })();\n",
              "      </script>\n",
              "    </div>\n",
              "\n",
              "    </div>\n",
              "  </div>\n"
            ],
            "application/vnd.google.colaboratory.intrinsic+json": {
              "type": "dataframe",
              "variable_name": "df"
            }
          },
          "metadata": {},
          "execution_count": 24
        }
      ]
    },
    {
      "cell_type": "markdown",
      "source": [
        "## 4. **Feature Engineering**"
      ],
      "metadata": {
        "id": "e9hXf72eht-R"
      }
    },
    {
      "cell_type": "markdown",
      "source": [
        "In this section we will add features to our dataset to help us with predicting our customer churn based."
      ],
      "metadata": {
        "id": "P9CuXJNiWvse"
      }
    },
    {
      "cell_type": "markdown",
      "source": [
        "### 4.1 **Behavioral Metrics**"
      ],
      "metadata": {
        "id": "uJ6tDx3NZ9Vh"
      }
    },
    {
      "cell_type": "markdown",
      "source": [
        "In this section we will introduce some behavioral metrics to our dataset. Like **transaction amount per month**, **transaction count per month**, **average transaction amount**."
      ],
      "metadata": {
        "id": "uu3iQYYpaEwf"
      }
    },
    {
      "cell_type": "markdown",
      "source": [
        "4.1.1 **Transaction amount per month**"
      ],
      "metadata": {
        "id": "5lYn0LG0az0Q"
      }
    },
    {
      "cell_type": "code",
      "source": [
        "df['trans_amt_per_month'] = df['trans_amt'] / df['tenure_months']"
      ],
      "metadata": {
        "id": "juuz4qXFa3uD"
      },
      "execution_count": 25,
      "outputs": []
    },
    {
      "cell_type": "markdown",
      "source": [
        "4.1.2 **Transactions per month**"
      ],
      "metadata": {
        "id": "JObMnoiQbaUl"
      }
    },
    {
      "cell_type": "code",
      "source": [
        "df['trans_ct_per_month'] = df['trans_ct'] / df['tenure_months']"
      ],
      "metadata": {
        "id": "W5DzdokLbe1n"
      },
      "execution_count": 26,
      "outputs": []
    },
    {
      "cell_type": "markdown",
      "source": [
        "4.1.3 **Average transaction amount**"
      ],
      "metadata": {
        "id": "t75snrv4bwP7"
      }
    },
    {
      "cell_type": "code",
      "source": [
        "df['avg_trans_amt'] = df['trans_amt'] / df['trans_ct']"
      ],
      "metadata": {
        "id": "Cvz865s-b15v"
      },
      "execution_count": 27,
      "outputs": []
    },
    {
      "cell_type": "markdown",
      "source": [
        "### 4.2 **Credit Dynamics**"
      ],
      "metadata": {
        "id": "GtMwwxISdPng"
      }
    },
    {
      "cell_type": "markdown",
      "source": [
        "In this section we will add credit dynamics features to our dataset like balance_to_limit_ration, credit_usage_efficiency, credit_growth_rate."
      ],
      "metadata": {
        "id": "C43x9TxMdWod"
      }
    },
    {
      "cell_type": "markdown",
      "source": [
        "4.2.1 **Balance to limit ration**"
      ],
      "metadata": {
        "id": "nCizOpIndpWj"
      }
    },
    {
      "cell_type": "code",
      "source": [
        "df['balance_to_limit_ratio'] = df['revolving_bal'] / df['limit']"
      ],
      "metadata": {
        "id": "VFag6oaHdtMt"
      },
      "execution_count": 28,
      "outputs": []
    },
    {
      "cell_type": "markdown",
      "source": [
        "4.2.2 **Credit usage efficiency**"
      ],
      "metadata": {
        "id": "q94QwPtGd3OW"
      }
    },
    {
      "cell_type": "code",
      "source": [
        "df['credit_usage_efficiency'] = df['open_to_buy'] / df['limit']"
      ],
      "metadata": {
        "id": "JJg0RwoVd89i"
      },
      "execution_count": 29,
      "outputs": []
    },
    {
      "cell_type": "markdown",
      "source": [
        "4.2.3 **Credit Growth Rate**"
      ],
      "metadata": {
        "id": "IzXINqGieMvs"
      }
    },
    {
      "cell_type": "code",
      "source": [
        "df['credit_growth_rate'] = df['amt_chg_q4_q1'] * df['limit']"
      ],
      "metadata": {
        "id": "YEPO6MCxeYak"
      },
      "execution_count": 30,
      "outputs": []
    },
    {
      "cell_type": "code",
      "source": [
        "df.info()"
      ],
      "metadata": {
        "colab": {
          "base_uri": "https://localhost:8080/"
        },
        "id": "mp6STboSkzkD",
        "outputId": "ee03170c-3bff-4e65-f889-23bf91b2d05c"
      },
      "execution_count": 34,
      "outputs": [
        {
          "output_type": "stream",
          "name": "stdout",
          "text": [
            "<class 'pandas.core.frame.DataFrame'>\n",
            "RangeIndex: 10127 entries, 0 to 10126\n",
            "Data columns (total 31 columns):\n",
            " #   Column                   Non-Null Count  Dtype  \n",
            "---  ------                   --------------  -----  \n",
            " 0   client_id                10127 non-null  int64  \n",
            " 1   churn_flag               10127 non-null  bool   \n",
            " 2   age                      10127 non-null  int64  \n",
            " 3   gender                   10127 non-null  object \n",
            " 4   dependents               10127 non-null  int64  \n",
            " 5   education                10127 non-null  object \n",
            " 6   marital                  10127 non-null  object \n",
            " 7   income                   10127 non-null  object \n",
            " 8   card_type                10127 non-null  object \n",
            " 9   tenure_months            10127 non-null  int64  \n",
            " 10  relationships            10127 non-null  int64  \n",
            " 11  inactive_months          10127 non-null  int64  \n",
            " 12  contact_count            10127 non-null  int64  \n",
            " 13  limit                    10127 non-null  float64\n",
            " 14  revolving_bal            10127 non-null  int64  \n",
            " 15  open_to_buy              10127 non-null  float64\n",
            " 16  amt_chg_q4_q1            10127 non-null  float64\n",
            " 17  trans_amt                10127 non-null  int64  \n",
            " 18  trans_ct                 10127 non-null  int64  \n",
            " 19  ct_chg_q4_q1             10127 non-null  float64\n",
            " 20  util_ratio               10127 non-null  float64\n",
            " 21  income_level             10127 non-null  int64  \n",
            " 22  income_group             10127 non-null  object \n",
            " 23  card_level               10127 non-null  int64  \n",
            " 24  education_level          10127 non-null  int64  \n",
            " 25  trans_amt_per_month      10127 non-null  float64\n",
            " 26  trans_ct_per_month       10127 non-null  float64\n",
            " 27  avg_trans_amt            10127 non-null  float64\n",
            " 28  balance_to_limit_ratio   10127 non-null  float64\n",
            " 29  credit_usage_efficiency  10127 non-null  float64\n",
            " 30  credit_growth_rate       10127 non-null  float64\n",
            "dtypes: bool(1), float64(11), int64(13), object(6)\n",
            "memory usage: 2.3+ MB\n"
          ]
        }
      ]
    },
    {
      "cell_type": "markdown",
      "source": [
        "## 5. **Modelling**"
      ],
      "metadata": {
        "id": "N-Y2HPufhxaz"
      }
    },
    {
      "cell_type": "markdown",
      "source": [
        "## 6. **Model Insights**"
      ],
      "metadata": {
        "id": "w1UCNnbAh1Fm"
      }
    },
    {
      "cell_type": "markdown",
      "source": [
        "## 7. **Conclusion**"
      ],
      "metadata": {
        "id": "IM6oLq0_h4GA"
      }
    }
  ]
}