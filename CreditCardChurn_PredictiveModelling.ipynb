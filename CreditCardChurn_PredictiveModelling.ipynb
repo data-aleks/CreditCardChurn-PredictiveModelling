{
  "nbformat": 4,
  "nbformat_minor": 0,
  "metadata": {
    "colab": {
      "provenance": [],
      "collapsed_sections": [
        "2x5Xigq6hUWP",
        "F8jEPwOjqU9E",
        "9RZME52cqcm5",
        "QtpWPa7n2_mX",
        "q-xKjJL_CVVJ"
      ],
      "mount_file_id": "12BCyW6WCjC7H-204mMalVnEq0x4vyFRQ",
      "authorship_tag": "ABX9TyOdJ9dGvTqB2HEHJFJOTRJR",
      "include_colab_link": true
    },
    "kernelspec": {
      "name": "python3",
      "display_name": "Python 3"
    },
    "language_info": {
      "name": "python"
    }
  },
  "cells": [
    {
      "cell_type": "markdown",
      "metadata": {
        "id": "view-in-github",
        "colab_type": "text"
      },
      "source": [
        "<a href=\"https://colab.research.google.com/github/data-aleks/CreditCardChurn-PredictiveModelling/blob/main/CreditCardChurn_PredictiveModelling.ipynb\" target=\"_parent\"><img src=\"https://colab.research.google.com/assets/colab-badge.svg\" alt=\"Open In Colab\"/></a>"
      ]
    },
    {
      "cell_type": "markdown",
      "source": [
        "# **Credit Card Churn - PredictiveModelling**"
      ],
      "metadata": {
        "id": "HRJZNh5ifMse"
      }
    },
    {
      "cell_type": "code",
      "source": [
        "import pandas as pd\n",
        "import numpy as np\n",
        "import matplotlib.pyplot as plt\n",
        "import seaborn as sns\n",
        "\n",
        "from sklearn.metrics import precision_recall_curve\n",
        "from sklearn.model_selection import train_test_split\n",
        "from sklearn.preprocessing import StandardScaler\n",
        "from sklearn.linear_model import LogisticRegression\n",
        "from sklearn.ensemble import RandomForestClassifier, GradientBoostingClassifier\n",
        "from sklearn.metrics import accuracy_score, precision_score, recall_score, f1_score, roc_auc_score, roc_curve, confusion_matrix"
      ],
      "metadata": {
        "id": "MDemwTUEjpsS"
      },
      "execution_count": 1,
      "outputs": []
    },
    {
      "cell_type": "markdown",
      "source": [
        "**Objective**"
      ],
      "metadata": {
        "id": "KfOgA8Lngs4D"
      }
    },
    {
      "cell_type": "markdown",
      "source": [
        "To build a predictive model that helps a bank identify customers at risk of churn, enabling the business to take proactive action in retaining valuable clients. This notebook focuses on the technical groundwork using Python — from data exploration to model development."
      ],
      "metadata": {
        "id": "vcRrrcAygu0E"
      }
    },
    {
      "cell_type": "markdown",
      "source": [
        "**Project Structure**"
      ],
      "metadata": {
        "id": "wZqAe7jtfv3_"
      }
    },
    {
      "cell_type": "markdown",
      "source": [
        "1.   Introduction\n",
        "2.   Dataset Overview\n",
        "3.   Data Cleaning & Exploratory Data Analysis(EDA)\n",
        "4.   Feature Engineering\n",
        "5.   Modelling\n",
        "6.   Model Insights"
      ],
      "metadata": {
        "id": "xjG4En76f1q7"
      }
    },
    {
      "cell_type": "markdown",
      "source": [
        "**Project Outcome**"
      ],
      "metadata": {
        "id": "NKCy17ucJTr-"
      }
    },
    {
      "cell_type": "markdown",
      "source": [
        "This project successfully developed and deployed a robust Gradient Boosting Classifier to predict customer churn within a credit card user base. The model demonstrated strong performance across key metrics, including high accuracy, precision, recall, and an excellent F1-score and ROC AUC, confirming its effectiveness in identifying potential churners. Crucially, the analysis revealed trans_ct (transaction count) as the most influential feature driving churn predictions. By leveraging an optimized classification threshold, the model identified a manageable and actionable segment of 126 \"at-risk\" customers (1.24% of the base), who are predicted to churn but have not yet."
      ],
      "metadata": {
        "id": "AJeAFmokJW6j"
      }
    },
    {
      "cell_type": "markdown",
      "source": [
        "## 1. **Introduction**"
      ],
      "metadata": {
        "id": "2x5Xigq6hUWP"
      }
    },
    {
      "cell_type": "markdown",
      "source": [
        "**Business Problem**"
      ],
      "metadata": {
        "id": "del7tOMbh-A1"
      }
    },
    {
      "cell_type": "markdown",
      "source": [
        "The bank is facing a rising concern: an increasing number of customers are closing their credit card accounts. This churn trend is causing financial and strategic challenges, and leadership wants to understand which customers are likely to leave so they can intervene with tailored services or offers"
      ],
      "metadata": {
        "id": "dSislFwMiAA-"
      }
    },
    {
      "cell_type": "markdown",
      "source": [
        "**Project Objective**"
      ],
      "metadata": {
        "id": "DHdCHuWDiC2g"
      }
    },
    {
      "cell_type": "markdown",
      "source": [
        "This notebook (Part 1 of a 3-part analytical solution) tackles the problem using Python to:"
      ],
      "metadata": {
        "id": "fNkVmkjuiGhb"
      }
    },
    {
      "cell_type": "markdown",
      "source": [
        "\n",
        "\n",
        "*   Explore customer behavior and account data.\n",
        "*   Engineer relevant features from raw variables.\n",
        "*   Build predictive models that estimate churn risk.\n",
        "*   Provide actionable insights that inform targeted customer retention strategies.\n",
        "\n"
      ],
      "metadata": {
        "id": "IrFxtMA0iI_M"
      }
    },
    {
      "cell_type": "markdown",
      "source": [
        "This groundwork leads into:"
      ],
      "metadata": {
        "id": "EyYxAyyOiU79"
      }
    },
    {
      "cell_type": "markdown",
      "source": [
        "\n",
        "\n",
        "*   **Part 2**: Designing a Power BI dashboard for interactive visualizations.\n",
        "*   **Part 3**: Conducting a business analysis to recommend retention strategies backed by data.\n",
        "\n",
        "\n"
      ],
      "metadata": {
        "id": "mwIP0DMKiV9O"
      }
    },
    {
      "cell_type": "markdown",
      "source": [
        "## 2. **Dataset Overview**"
      ],
      "metadata": {
        "id": "V3eV2ooqhYpC"
      }
    },
    {
      "cell_type": "markdown",
      "source": [
        "**Source**"
      ],
      "metadata": {
        "id": "YBI0G7Llix2x"
      }
    },
    {
      "cell_type": "markdown",
      "source": [
        "This dataset is publicly available on [Kaggle: Credit Card Customers Dataset](https://www.kaggle.com/datasets/sakshigoyal7/credit-card-customers/data). It contains detailed information on 10,127 customers, including demographic attributes, account activity, and churn status.\n"
      ],
      "metadata": {
        "id": "D_MKVGf9izmT"
      }
    },
    {
      "cell_type": "markdown",
      "source": [
        "**Key Features**"
      ],
      "metadata": {
        "id": "S9txg2dMjBT0"
      }
    },
    {
      "cell_type": "markdown",
      "source": [
        "The dataset includes 18 variables that span across customer profiles and credit card usage patterns. Some notable features are:"
      ],
      "metadata": {
        "id": "-VIr41qwjFcA"
      }
    },
    {
      "cell_type": "markdown",
      "source": [
        "- Customer_Age: Age of the customer\n",
        "- Gender: Male or Female\n",
        "- Dependent_count: Number of dependents\n",
        "- Education_Level: Highest education attained\n",
        "- Marital_Status: Marital status of the customer\n",
        "- Income_Category: Estimated annual income\n",
        "- Card_Category: Type of credit card held\n",
        "- Months_on_book: Tenure with the bank\n",
        "- Total_Trans_Ct: Number of transactions in the last 12 months\n",
        "- Credit_Limit: Assigned credit card limit\n",
        "- Attrition_Flag: Indicates whether the customer has churned\n"
      ],
      "metadata": {
        "id": "ZvjR_AxFjGda"
      }
    },
    {
      "cell_type": "markdown",
      "source": [
        "**Target Variable**"
      ],
      "metadata": {
        "id": "sMajuvJ7jKM8"
      }
    },
    {
      "cell_type": "markdown",
      "source": [
        "- Attrition_Flag: This binary feature identifies whether a customer is Existing or Attrited. It will serve as the target for churn prediction.\n"
      ],
      "metadata": {
        "id": "rDSdPRlDjOy2"
      }
    },
    {
      "cell_type": "markdown",
      "source": [
        "**Initial Observations**"
      ],
      "metadata": {
        "id": "SoDk_5U4jTyK"
      }
    },
    {
      "cell_type": "markdown",
      "source": [
        "- The dataset is clean and well-structured, with minimal missing values.\n",
        "- Features are a mix of categorical and numerical types, suitable for both statistical analysis and machine learning.\n",
        "- The churn rate appears imbalanced, with lowe number of churned customers as a proportion of the whole.\n"
      ],
      "metadata": {
        "id": "R6GiXnlFjWDr"
      }
    },
    {
      "cell_type": "markdown",
      "source": [
        "## 3. **Data Cleaning & Exploratory Data Analysis (EDA)**"
      ],
      "metadata": {
        "id": "Kd0UBDhmhj3y"
      }
    },
    {
      "cell_type": "markdown",
      "source": [
        "### 3.1 **Loading and Exploring Data**"
      ],
      "metadata": {
        "id": "F8jEPwOjqU9E"
      }
    },
    {
      "cell_type": "code",
      "source": [
        "df_original = pd.read_csv('./drive/MyDrive/datasets/credit_card_churn/BankChurners.csv')"
      ],
      "metadata": {
        "id": "UwSD4ybToohO"
      },
      "execution_count": 2,
      "outputs": []
    },
    {
      "cell_type": "code",
      "source": [
        "df_original.info()"
      ],
      "metadata": {
        "colab": {
          "base_uri": "https://localhost:8080/"
        },
        "id": "k9FMSaHuozJn",
        "outputId": "1c55db82-6e48-43ff-e6e4-c000c3831f95"
      },
      "execution_count": 3,
      "outputs": [
        {
          "output_type": "stream",
          "name": "stdout",
          "text": [
            "<class 'pandas.core.frame.DataFrame'>\n",
            "RangeIndex: 10127 entries, 0 to 10126\n",
            "Data columns (total 23 columns):\n",
            " #   Column                                                                                                                              Non-Null Count  Dtype  \n",
            "---  ------                                                                                                                              --------------  -----  \n",
            " 0   CLIENTNUM                                                                                                                           10127 non-null  int64  \n",
            " 1   Attrition_Flag                                                                                                                      10127 non-null  object \n",
            " 2   Customer_Age                                                                                                                        10127 non-null  int64  \n",
            " 3   Gender                                                                                                                              10127 non-null  object \n",
            " 4   Dependent_count                                                                                                                     10127 non-null  int64  \n",
            " 5   Education_Level                                                                                                                     10127 non-null  object \n",
            " 6   Marital_Status                                                                                                                      10127 non-null  object \n",
            " 7   Income_Category                                                                                                                     10127 non-null  object \n",
            " 8   Card_Category                                                                                                                       10127 non-null  object \n",
            " 9   Months_on_book                                                                                                                      10127 non-null  int64  \n",
            " 10  Total_Relationship_Count                                                                                                            10127 non-null  int64  \n",
            " 11  Months_Inactive_12_mon                                                                                                              10127 non-null  int64  \n",
            " 12  Contacts_Count_12_mon                                                                                                               10127 non-null  int64  \n",
            " 13  Credit_Limit                                                                                                                        10127 non-null  float64\n",
            " 14  Total_Revolving_Bal                                                                                                                 10127 non-null  int64  \n",
            " 15  Avg_Open_To_Buy                                                                                                                     10127 non-null  float64\n",
            " 16  Total_Amt_Chng_Q4_Q1                                                                                                                10127 non-null  float64\n",
            " 17  Total_Trans_Amt                                                                                                                     10127 non-null  int64  \n",
            " 18  Total_Trans_Ct                                                                                                                      10127 non-null  int64  \n",
            " 19  Total_Ct_Chng_Q4_Q1                                                                                                                 10127 non-null  float64\n",
            " 20  Avg_Utilization_Ratio                                                                                                               10127 non-null  float64\n",
            " 21  Naive_Bayes_Classifier_Attrition_Flag_Card_Category_Contacts_Count_12_mon_Dependent_count_Education_Level_Months_Inactive_12_mon_1  10127 non-null  float64\n",
            " 22  Naive_Bayes_Classifier_Attrition_Flag_Card_Category_Contacts_Count_12_mon_Dependent_count_Education_Level_Months_Inactive_12_mon_2  10127 non-null  float64\n",
            "dtypes: float64(7), int64(10), object(6)\n",
            "memory usage: 1.8+ MB\n"
          ]
        }
      ]
    },
    {
      "cell_type": "code",
      "source": [
        "df_original.isnull().sum()"
      ],
      "metadata": {
        "colab": {
          "base_uri": "https://localhost:8080/",
          "height": 0
        },
        "id": "fRMWXbPvo1pn",
        "outputId": "a23c1ccb-442a-4265-99af-7d7f74c59c4d"
      },
      "execution_count": 4,
      "outputs": [
        {
          "output_type": "execute_result",
          "data": {
            "text/plain": [
              "CLIENTNUM                                                                                                                             0\n",
              "Attrition_Flag                                                                                                                        0\n",
              "Customer_Age                                                                                                                          0\n",
              "Gender                                                                                                                                0\n",
              "Dependent_count                                                                                                                       0\n",
              "Education_Level                                                                                                                       0\n",
              "Marital_Status                                                                                                                        0\n",
              "Income_Category                                                                                                                       0\n",
              "Card_Category                                                                                                                         0\n",
              "Months_on_book                                                                                                                        0\n",
              "Total_Relationship_Count                                                                                                              0\n",
              "Months_Inactive_12_mon                                                                                                                0\n",
              "Contacts_Count_12_mon                                                                                                                 0\n",
              "Credit_Limit                                                                                                                          0\n",
              "Total_Revolving_Bal                                                                                                                   0\n",
              "Avg_Open_To_Buy                                                                                                                       0\n",
              "Total_Amt_Chng_Q4_Q1                                                                                                                  0\n",
              "Total_Trans_Amt                                                                                                                       0\n",
              "Total_Trans_Ct                                                                                                                        0\n",
              "Total_Ct_Chng_Q4_Q1                                                                                                                   0\n",
              "Avg_Utilization_Ratio                                                                                                                 0\n",
              "Naive_Bayes_Classifier_Attrition_Flag_Card_Category_Contacts_Count_12_mon_Dependent_count_Education_Level_Months_Inactive_12_mon_1    0\n",
              "Naive_Bayes_Classifier_Attrition_Flag_Card_Category_Contacts_Count_12_mon_Dependent_count_Education_Level_Months_Inactive_12_mon_2    0\n",
              "dtype: int64"
            ],
            "text/html": [
              "<div>\n",
              "<style scoped>\n",
              "    .dataframe tbody tr th:only-of-type {\n",
              "        vertical-align: middle;\n",
              "    }\n",
              "\n",
              "    .dataframe tbody tr th {\n",
              "        vertical-align: top;\n",
              "    }\n",
              "\n",
              "    .dataframe thead th {\n",
              "        text-align: right;\n",
              "    }\n",
              "</style>\n",
              "<table border=\"1\" class=\"dataframe\">\n",
              "  <thead>\n",
              "    <tr style=\"text-align: right;\">\n",
              "      <th></th>\n",
              "      <th>0</th>\n",
              "    </tr>\n",
              "  </thead>\n",
              "  <tbody>\n",
              "    <tr>\n",
              "      <th>CLIENTNUM</th>\n",
              "      <td>0</td>\n",
              "    </tr>\n",
              "    <tr>\n",
              "      <th>Attrition_Flag</th>\n",
              "      <td>0</td>\n",
              "    </tr>\n",
              "    <tr>\n",
              "      <th>Customer_Age</th>\n",
              "      <td>0</td>\n",
              "    </tr>\n",
              "    <tr>\n",
              "      <th>Gender</th>\n",
              "      <td>0</td>\n",
              "    </tr>\n",
              "    <tr>\n",
              "      <th>Dependent_count</th>\n",
              "      <td>0</td>\n",
              "    </tr>\n",
              "    <tr>\n",
              "      <th>Education_Level</th>\n",
              "      <td>0</td>\n",
              "    </tr>\n",
              "    <tr>\n",
              "      <th>Marital_Status</th>\n",
              "      <td>0</td>\n",
              "    </tr>\n",
              "    <tr>\n",
              "      <th>Income_Category</th>\n",
              "      <td>0</td>\n",
              "    </tr>\n",
              "    <tr>\n",
              "      <th>Card_Category</th>\n",
              "      <td>0</td>\n",
              "    </tr>\n",
              "    <tr>\n",
              "      <th>Months_on_book</th>\n",
              "      <td>0</td>\n",
              "    </tr>\n",
              "    <tr>\n",
              "      <th>Total_Relationship_Count</th>\n",
              "      <td>0</td>\n",
              "    </tr>\n",
              "    <tr>\n",
              "      <th>Months_Inactive_12_mon</th>\n",
              "      <td>0</td>\n",
              "    </tr>\n",
              "    <tr>\n",
              "      <th>Contacts_Count_12_mon</th>\n",
              "      <td>0</td>\n",
              "    </tr>\n",
              "    <tr>\n",
              "      <th>Credit_Limit</th>\n",
              "      <td>0</td>\n",
              "    </tr>\n",
              "    <tr>\n",
              "      <th>Total_Revolving_Bal</th>\n",
              "      <td>0</td>\n",
              "    </tr>\n",
              "    <tr>\n",
              "      <th>Avg_Open_To_Buy</th>\n",
              "      <td>0</td>\n",
              "    </tr>\n",
              "    <tr>\n",
              "      <th>Total_Amt_Chng_Q4_Q1</th>\n",
              "      <td>0</td>\n",
              "    </tr>\n",
              "    <tr>\n",
              "      <th>Total_Trans_Amt</th>\n",
              "      <td>0</td>\n",
              "    </tr>\n",
              "    <tr>\n",
              "      <th>Total_Trans_Ct</th>\n",
              "      <td>0</td>\n",
              "    </tr>\n",
              "    <tr>\n",
              "      <th>Total_Ct_Chng_Q4_Q1</th>\n",
              "      <td>0</td>\n",
              "    </tr>\n",
              "    <tr>\n",
              "      <th>Avg_Utilization_Ratio</th>\n",
              "      <td>0</td>\n",
              "    </tr>\n",
              "    <tr>\n",
              "      <th>Naive_Bayes_Classifier_Attrition_Flag_Card_Category_Contacts_Count_12_mon_Dependent_count_Education_Level_Months_Inactive_12_mon_1</th>\n",
              "      <td>0</td>\n",
              "    </tr>\n",
              "    <tr>\n",
              "      <th>Naive_Bayes_Classifier_Attrition_Flag_Card_Category_Contacts_Count_12_mon_Dependent_count_Education_Level_Months_Inactive_12_mon_2</th>\n",
              "      <td>0</td>\n",
              "    </tr>\n",
              "  </tbody>\n",
              "</table>\n",
              "</div><br><label><b>dtype:</b> int64</label>"
            ]
          },
          "metadata": {},
          "execution_count": 4
        }
      ]
    },
    {
      "cell_type": "markdown",
      "source": [
        "### 3.2 **Removing/Renaming Columns**"
      ],
      "metadata": {
        "id": "9RZME52cqcm5"
      }
    },
    {
      "cell_type": "markdown",
      "source": [
        "Let's create a copy of our original dataframe for cleaning."
      ],
      "metadata": {
        "id": "3NWBXAS_3VG_"
      }
    },
    {
      "cell_type": "code",
      "source": [
        "df_cleaned = df_original.copy()"
      ],
      "metadata": {
        "id": "5tV8DI3V1mZX"
      },
      "execution_count": 5,
      "outputs": []
    },
    {
      "cell_type": "markdown",
      "source": [
        "3.2.1 **Remove the last two columns**"
      ],
      "metadata": {
        "id": "A2haqE_Wp3jH"
      }
    },
    {
      "cell_type": "code",
      "source": [
        "df_cleaned.drop(['Naive_Bayes_Classifier_Attrition_Flag_Card_Category_Contacts_Count_12_mon_Dependent_count_Education_Level_Months_Inactive_12_mon_1', 'Naive_Bayes_Classifier_Attrition_Flag_Card_Category_Contacts_Count_12_mon_Dependent_count_Education_Level_Months_Inactive_12_mon_2'], axis=1, inplace=True)"
      ],
      "metadata": {
        "id": "aG6Kzkcpp7Qy"
      },
      "execution_count": 6,
      "outputs": []
    },
    {
      "cell_type": "markdown",
      "source": [
        "3.2.2 **Update column names to lower case**"
      ],
      "metadata": {
        "id": "5hDNuNH_pby7"
      }
    },
    {
      "cell_type": "code",
      "source": [
        "df_cleaned.columns = df_cleaned.columns.str.lower()"
      ],
      "metadata": {
        "id": "L_YgYn5ypNxZ"
      },
      "execution_count": 7,
      "outputs": []
    },
    {
      "cell_type": "markdown",
      "source": [
        "3.2.3 **Rename columns to be more concise**"
      ],
      "metadata": {
        "id": "R-U0H7Baq_FL"
      }
    },
    {
      "cell_type": "code",
      "source": [
        "df_cleaned.rename(columns={\n",
        "    'clientnum': 'client_id',\n",
        "    'attrition_flag': 'churn_flag',\n",
        "    'customer_age': 'age',\n",
        "    'gender': 'gender',\n",
        "    'dependent_count': 'dependents',\n",
        "    'education_level': 'education',\n",
        "    'marital_status': 'marital',\n",
        "    'income_category': 'income',\n",
        "    'card_category': 'card_type',\n",
        "    'months_on_book': 'tenure_months',\n",
        "    'total_relationship_count': 'relationships',\n",
        "    'months_inactive_12_mon': 'inactive_months',\n",
        "    'contacts_count_12_mon': 'contact_count',\n",
        "    'credit_limit': 'limit',\n",
        "    'total_revolving_bal': 'revolving_bal',\n",
        "    'avg_open_to_buy': 'open_to_buy',\n",
        "    'total_amt_chng_q4_q1': 'amt_chg_q4_q1',\n",
        "    'total_trans_amt': 'trans_amt',\n",
        "    'total_trans_ct': 'trans_ct',\n",
        "    'total_ct_chng_q4_q1': 'ct_chg_q4_q1',\n",
        "    'avg_utilization_ratio': 'util_ratio'\n",
        "}, inplace=True)\n"
      ],
      "metadata": {
        "id": "wk8DlYherEMe"
      },
      "execution_count": 8,
      "outputs": []
    },
    {
      "cell_type": "markdown",
      "source": [
        "3.2.4 **Confirm our changes**"
      ],
      "metadata": {
        "id": "IYCoZFLDsJRQ"
      }
    },
    {
      "cell_type": "code",
      "source": [
        "df_cleaned.info()"
      ],
      "metadata": {
        "colab": {
          "base_uri": "https://localhost:8080/"
        },
        "id": "J0J3opWSqps0",
        "outputId": "eec65df0-e98d-4e69-a30c-be4f38e8bcab"
      },
      "execution_count": 9,
      "outputs": [
        {
          "output_type": "stream",
          "name": "stdout",
          "text": [
            "<class 'pandas.core.frame.DataFrame'>\n",
            "RangeIndex: 10127 entries, 0 to 10126\n",
            "Data columns (total 21 columns):\n",
            " #   Column           Non-Null Count  Dtype  \n",
            "---  ------           --------------  -----  \n",
            " 0   client_id        10127 non-null  int64  \n",
            " 1   churn_flag       10127 non-null  object \n",
            " 2   age              10127 non-null  int64  \n",
            " 3   gender           10127 non-null  object \n",
            " 4   dependents       10127 non-null  int64  \n",
            " 5   education        10127 non-null  object \n",
            " 6   marital          10127 non-null  object \n",
            " 7   income           10127 non-null  object \n",
            " 8   card_type        10127 non-null  object \n",
            " 9   tenure_months    10127 non-null  int64  \n",
            " 10  relationships    10127 non-null  int64  \n",
            " 11  inactive_months  10127 non-null  int64  \n",
            " 12  contact_count    10127 non-null  int64  \n",
            " 13  limit            10127 non-null  float64\n",
            " 14  revolving_bal    10127 non-null  int64  \n",
            " 15  open_to_buy      10127 non-null  float64\n",
            " 16  amt_chg_q4_q1    10127 non-null  float64\n",
            " 17  trans_amt        10127 non-null  int64  \n",
            " 18  trans_ct         10127 non-null  int64  \n",
            " 19  ct_chg_q4_q1     10127 non-null  float64\n",
            " 20  util_ratio       10127 non-null  float64\n",
            "dtypes: float64(5), int64(10), object(6)\n",
            "memory usage: 1.6+ MB\n"
          ]
        }
      ]
    },
    {
      "cell_type": "code",
      "source": [
        "df_cleaned.tail()"
      ],
      "metadata": {
        "colab": {
          "base_uri": "https://localhost:8080/",
          "height": 0
        },
        "id": "MhriXnphthYJ",
        "outputId": "b30d315a-49e7-401a-b977-be16c298ca1e"
      },
      "execution_count": 10,
      "outputs": [
        {
          "output_type": "execute_result",
          "data": {
            "text/plain": [
              "       client_id         churn_flag  age gender  dependents    education  \\\n",
              "10122  772366833  Existing Customer   50      M           2     Graduate   \n",
              "10123  710638233  Attrited Customer   41      M           2      Unknown   \n",
              "10124  716506083  Attrited Customer   44      F           1  High School   \n",
              "10125  717406983  Attrited Customer   30      M           2     Graduate   \n",
              "10126  714337233  Attrited Customer   43      F           2     Graduate   \n",
              "\n",
              "        marital          income card_type  tenure_months  ...  \\\n",
              "10122    Single     $40K - $60K      Blue             40  ...   \n",
              "10123  Divorced     $40K - $60K      Blue             25  ...   \n",
              "10124   Married  Less than $40K      Blue             36  ...   \n",
              "10125   Unknown     $40K - $60K      Blue             36  ...   \n",
              "10126   Married  Less than $40K    Silver             25  ...   \n",
              "\n",
              "       inactive_months  contact_count    limit  revolving_bal  open_to_buy  \\\n",
              "10122                2              3   4003.0           1851       2152.0   \n",
              "10123                2              3   4277.0           2186       2091.0   \n",
              "10124                3              4   5409.0              0       5409.0   \n",
              "10125                3              3   5281.0              0       5281.0   \n",
              "10126                2              4  10388.0           1961       8427.0   \n",
              "\n",
              "       amt_chg_q4_q1  trans_amt  trans_ct  ct_chg_q4_q1  util_ratio  \n",
              "10122          0.703      15476       117         0.857       0.462  \n",
              "10123          0.804       8764        69         0.683       0.511  \n",
              "10124          0.819      10291        60         0.818       0.000  \n",
              "10125          0.535       8395        62         0.722       0.000  \n",
              "10126          0.703      10294        61         0.649       0.189  \n",
              "\n",
              "[5 rows x 21 columns]"
            ],
            "text/html": [
              "\n",
              "  <div id=\"df-a77774a3-ebec-403c-af0d-f7ed894d4bb2\" class=\"colab-df-container\">\n",
              "    <div>\n",
              "<style scoped>\n",
              "    .dataframe tbody tr th:only-of-type {\n",
              "        vertical-align: middle;\n",
              "    }\n",
              "\n",
              "    .dataframe tbody tr th {\n",
              "        vertical-align: top;\n",
              "    }\n",
              "\n",
              "    .dataframe thead th {\n",
              "        text-align: right;\n",
              "    }\n",
              "</style>\n",
              "<table border=\"1\" class=\"dataframe\">\n",
              "  <thead>\n",
              "    <tr style=\"text-align: right;\">\n",
              "      <th></th>\n",
              "      <th>client_id</th>\n",
              "      <th>churn_flag</th>\n",
              "      <th>age</th>\n",
              "      <th>gender</th>\n",
              "      <th>dependents</th>\n",
              "      <th>education</th>\n",
              "      <th>marital</th>\n",
              "      <th>income</th>\n",
              "      <th>card_type</th>\n",
              "      <th>tenure_months</th>\n",
              "      <th>...</th>\n",
              "      <th>inactive_months</th>\n",
              "      <th>contact_count</th>\n",
              "      <th>limit</th>\n",
              "      <th>revolving_bal</th>\n",
              "      <th>open_to_buy</th>\n",
              "      <th>amt_chg_q4_q1</th>\n",
              "      <th>trans_amt</th>\n",
              "      <th>trans_ct</th>\n",
              "      <th>ct_chg_q4_q1</th>\n",
              "      <th>util_ratio</th>\n",
              "    </tr>\n",
              "  </thead>\n",
              "  <tbody>\n",
              "    <tr>\n",
              "      <th>10122</th>\n",
              "      <td>772366833</td>\n",
              "      <td>Existing Customer</td>\n",
              "      <td>50</td>\n",
              "      <td>M</td>\n",
              "      <td>2</td>\n",
              "      <td>Graduate</td>\n",
              "      <td>Single</td>\n",
              "      <td>$40K - $60K</td>\n",
              "      <td>Blue</td>\n",
              "      <td>40</td>\n",
              "      <td>...</td>\n",
              "      <td>2</td>\n",
              "      <td>3</td>\n",
              "      <td>4003.0</td>\n",
              "      <td>1851</td>\n",
              "      <td>2152.0</td>\n",
              "      <td>0.703</td>\n",
              "      <td>15476</td>\n",
              "      <td>117</td>\n",
              "      <td>0.857</td>\n",
              "      <td>0.462</td>\n",
              "    </tr>\n",
              "    <tr>\n",
              "      <th>10123</th>\n",
              "      <td>710638233</td>\n",
              "      <td>Attrited Customer</td>\n",
              "      <td>41</td>\n",
              "      <td>M</td>\n",
              "      <td>2</td>\n",
              "      <td>Unknown</td>\n",
              "      <td>Divorced</td>\n",
              "      <td>$40K - $60K</td>\n",
              "      <td>Blue</td>\n",
              "      <td>25</td>\n",
              "      <td>...</td>\n",
              "      <td>2</td>\n",
              "      <td>3</td>\n",
              "      <td>4277.0</td>\n",
              "      <td>2186</td>\n",
              "      <td>2091.0</td>\n",
              "      <td>0.804</td>\n",
              "      <td>8764</td>\n",
              "      <td>69</td>\n",
              "      <td>0.683</td>\n",
              "      <td>0.511</td>\n",
              "    </tr>\n",
              "    <tr>\n",
              "      <th>10124</th>\n",
              "      <td>716506083</td>\n",
              "      <td>Attrited Customer</td>\n",
              "      <td>44</td>\n",
              "      <td>F</td>\n",
              "      <td>1</td>\n",
              "      <td>High School</td>\n",
              "      <td>Married</td>\n",
              "      <td>Less than $40K</td>\n",
              "      <td>Blue</td>\n",
              "      <td>36</td>\n",
              "      <td>...</td>\n",
              "      <td>3</td>\n",
              "      <td>4</td>\n",
              "      <td>5409.0</td>\n",
              "      <td>0</td>\n",
              "      <td>5409.0</td>\n",
              "      <td>0.819</td>\n",
              "      <td>10291</td>\n",
              "      <td>60</td>\n",
              "      <td>0.818</td>\n",
              "      <td>0.000</td>\n",
              "    </tr>\n",
              "    <tr>\n",
              "      <th>10125</th>\n",
              "      <td>717406983</td>\n",
              "      <td>Attrited Customer</td>\n",
              "      <td>30</td>\n",
              "      <td>M</td>\n",
              "      <td>2</td>\n",
              "      <td>Graduate</td>\n",
              "      <td>Unknown</td>\n",
              "      <td>$40K - $60K</td>\n",
              "      <td>Blue</td>\n",
              "      <td>36</td>\n",
              "      <td>...</td>\n",
              "      <td>3</td>\n",
              "      <td>3</td>\n",
              "      <td>5281.0</td>\n",
              "      <td>0</td>\n",
              "      <td>5281.0</td>\n",
              "      <td>0.535</td>\n",
              "      <td>8395</td>\n",
              "      <td>62</td>\n",
              "      <td>0.722</td>\n",
              "      <td>0.000</td>\n",
              "    </tr>\n",
              "    <tr>\n",
              "      <th>10126</th>\n",
              "      <td>714337233</td>\n",
              "      <td>Attrited Customer</td>\n",
              "      <td>43</td>\n",
              "      <td>F</td>\n",
              "      <td>2</td>\n",
              "      <td>Graduate</td>\n",
              "      <td>Married</td>\n",
              "      <td>Less than $40K</td>\n",
              "      <td>Silver</td>\n",
              "      <td>25</td>\n",
              "      <td>...</td>\n",
              "      <td>2</td>\n",
              "      <td>4</td>\n",
              "      <td>10388.0</td>\n",
              "      <td>1961</td>\n",
              "      <td>8427.0</td>\n",
              "      <td>0.703</td>\n",
              "      <td>10294</td>\n",
              "      <td>61</td>\n",
              "      <td>0.649</td>\n",
              "      <td>0.189</td>\n",
              "    </tr>\n",
              "  </tbody>\n",
              "</table>\n",
              "<p>5 rows × 21 columns</p>\n",
              "</div>\n",
              "    <div class=\"colab-df-buttons\">\n",
              "\n",
              "  <div class=\"colab-df-container\">\n",
              "    <button class=\"colab-df-convert\" onclick=\"convertToInteractive('df-a77774a3-ebec-403c-af0d-f7ed894d4bb2')\"\n",
              "            title=\"Convert this dataframe to an interactive table.\"\n",
              "            style=\"display:none;\">\n",
              "\n",
              "  <svg xmlns=\"http://www.w3.org/2000/svg\" height=\"24px\" viewBox=\"0 -960 960 960\">\n",
              "    <path d=\"M120-120v-720h720v720H120Zm60-500h600v-160H180v160Zm220 220h160v-160H400v160Zm0 220h160v-160H400v160ZM180-400h160v-160H180v160Zm440 0h160v-160H620v160ZM180-180h160v-160H180v160Zm440 0h160v-160H620v160Z\"/>\n",
              "  </svg>\n",
              "    </button>\n",
              "\n",
              "  <style>\n",
              "    .colab-df-container {\n",
              "      display:flex;\n",
              "      gap: 12px;\n",
              "    }\n",
              "\n",
              "    .colab-df-convert {\n",
              "      background-color: #E8F0FE;\n",
              "      border: none;\n",
              "      border-radius: 50%;\n",
              "      cursor: pointer;\n",
              "      display: none;\n",
              "      fill: #1967D2;\n",
              "      height: 32px;\n",
              "      padding: 0 0 0 0;\n",
              "      width: 32px;\n",
              "    }\n",
              "\n",
              "    .colab-df-convert:hover {\n",
              "      background-color: #E2EBFA;\n",
              "      box-shadow: 0px 1px 2px rgba(60, 64, 67, 0.3), 0px 1px 3px 1px rgba(60, 64, 67, 0.15);\n",
              "      fill: #174EA6;\n",
              "    }\n",
              "\n",
              "    .colab-df-buttons div {\n",
              "      margin-bottom: 4px;\n",
              "    }\n",
              "\n",
              "    [theme=dark] .colab-df-convert {\n",
              "      background-color: #3B4455;\n",
              "      fill: #D2E3FC;\n",
              "    }\n",
              "\n",
              "    [theme=dark] .colab-df-convert:hover {\n",
              "      background-color: #434B5C;\n",
              "      box-shadow: 0px 1px 3px 1px rgba(0, 0, 0, 0.15);\n",
              "      filter: drop-shadow(0px 1px 2px rgba(0, 0, 0, 0.3));\n",
              "      fill: #FFFFFF;\n",
              "    }\n",
              "  </style>\n",
              "\n",
              "    <script>\n",
              "      const buttonEl =\n",
              "        document.querySelector('#df-a77774a3-ebec-403c-af0d-f7ed894d4bb2 button.colab-df-convert');\n",
              "      buttonEl.style.display =\n",
              "        google.colab.kernel.accessAllowed ? 'block' : 'none';\n",
              "\n",
              "      async function convertToInteractive(key) {\n",
              "        const element = document.querySelector('#df-a77774a3-ebec-403c-af0d-f7ed894d4bb2');\n",
              "        const dataTable =\n",
              "          await google.colab.kernel.invokeFunction('convertToInteractive',\n",
              "                                                    [key], {});\n",
              "        if (!dataTable) return;\n",
              "\n",
              "        const docLinkHtml = 'Like what you see? Visit the ' +\n",
              "          '<a target=\"_blank\" href=https://colab.research.google.com/notebooks/data_table.ipynb>data table notebook</a>'\n",
              "          + ' to learn more about interactive tables.';\n",
              "        element.innerHTML = '';\n",
              "        dataTable['output_type'] = 'display_data';\n",
              "        await google.colab.output.renderOutput(dataTable, element);\n",
              "        const docLink = document.createElement('div');\n",
              "        docLink.innerHTML = docLinkHtml;\n",
              "        element.appendChild(docLink);\n",
              "      }\n",
              "    </script>\n",
              "  </div>\n",
              "\n",
              "\n",
              "    <div id=\"df-06da1707-db5d-48a8-b6a6-9eee157c9e72\">\n",
              "      <button class=\"colab-df-quickchart\" onclick=\"quickchart('df-06da1707-db5d-48a8-b6a6-9eee157c9e72')\"\n",
              "                title=\"Suggest charts\"\n",
              "                style=\"display:none;\">\n",
              "\n",
              "<svg xmlns=\"http://www.w3.org/2000/svg\" height=\"24px\"viewBox=\"0 0 24 24\"\n",
              "     width=\"24px\">\n",
              "    <g>\n",
              "        <path d=\"M19 3H5c-1.1 0-2 .9-2 2v14c0 1.1.9 2 2 2h14c1.1 0 2-.9 2-2V5c0-1.1-.9-2-2-2zM9 17H7v-7h2v7zm4 0h-2V7h2v10zm4 0h-2v-4h2v4z\"/>\n",
              "    </g>\n",
              "</svg>\n",
              "      </button>\n",
              "\n",
              "<style>\n",
              "  .colab-df-quickchart {\n",
              "      --bg-color: #E8F0FE;\n",
              "      --fill-color: #1967D2;\n",
              "      --hover-bg-color: #E2EBFA;\n",
              "      --hover-fill-color: #174EA6;\n",
              "      --disabled-fill-color: #AAA;\n",
              "      --disabled-bg-color: #DDD;\n",
              "  }\n",
              "\n",
              "  [theme=dark] .colab-df-quickchart {\n",
              "      --bg-color: #3B4455;\n",
              "      --fill-color: #D2E3FC;\n",
              "      --hover-bg-color: #434B5C;\n",
              "      --hover-fill-color: #FFFFFF;\n",
              "      --disabled-bg-color: #3B4455;\n",
              "      --disabled-fill-color: #666;\n",
              "  }\n",
              "\n",
              "  .colab-df-quickchart {\n",
              "    background-color: var(--bg-color);\n",
              "    border: none;\n",
              "    border-radius: 50%;\n",
              "    cursor: pointer;\n",
              "    display: none;\n",
              "    fill: var(--fill-color);\n",
              "    height: 32px;\n",
              "    padding: 0;\n",
              "    width: 32px;\n",
              "  }\n",
              "\n",
              "  .colab-df-quickchart:hover {\n",
              "    background-color: var(--hover-bg-color);\n",
              "    box-shadow: 0 1px 2px rgba(60, 64, 67, 0.3), 0 1px 3px 1px rgba(60, 64, 67, 0.15);\n",
              "    fill: var(--button-hover-fill-color);\n",
              "  }\n",
              "\n",
              "  .colab-df-quickchart-complete:disabled,\n",
              "  .colab-df-quickchart-complete:disabled:hover {\n",
              "    background-color: var(--disabled-bg-color);\n",
              "    fill: var(--disabled-fill-color);\n",
              "    box-shadow: none;\n",
              "  }\n",
              "\n",
              "  .colab-df-spinner {\n",
              "    border: 2px solid var(--fill-color);\n",
              "    border-color: transparent;\n",
              "    border-bottom-color: var(--fill-color);\n",
              "    animation:\n",
              "      spin 1s steps(1) infinite;\n",
              "  }\n",
              "\n",
              "  @keyframes spin {\n",
              "    0% {\n",
              "      border-color: transparent;\n",
              "      border-bottom-color: var(--fill-color);\n",
              "      border-left-color: var(--fill-color);\n",
              "    }\n",
              "    20% {\n",
              "      border-color: transparent;\n",
              "      border-left-color: var(--fill-color);\n",
              "      border-top-color: var(--fill-color);\n",
              "    }\n",
              "    30% {\n",
              "      border-color: transparent;\n",
              "      border-left-color: var(--fill-color);\n",
              "      border-top-color: var(--fill-color);\n",
              "      border-right-color: var(--fill-color);\n",
              "    }\n",
              "    40% {\n",
              "      border-color: transparent;\n",
              "      border-right-color: var(--fill-color);\n",
              "      border-top-color: var(--fill-color);\n",
              "    }\n",
              "    60% {\n",
              "      border-color: transparent;\n",
              "      border-right-color: var(--fill-color);\n",
              "    }\n",
              "    80% {\n",
              "      border-color: transparent;\n",
              "      border-right-color: var(--fill-color);\n",
              "      border-bottom-color: var(--fill-color);\n",
              "    }\n",
              "    90% {\n",
              "      border-color: transparent;\n",
              "      border-bottom-color: var(--fill-color);\n",
              "    }\n",
              "  }\n",
              "</style>\n",
              "\n",
              "      <script>\n",
              "        async function quickchart(key) {\n",
              "          const quickchartButtonEl =\n",
              "            document.querySelector('#' + key + ' button');\n",
              "          quickchartButtonEl.disabled = true;  // To prevent multiple clicks.\n",
              "          quickchartButtonEl.classList.add('colab-df-spinner');\n",
              "          try {\n",
              "            const charts = await google.colab.kernel.invokeFunction(\n",
              "                'suggestCharts', [key], {});\n",
              "          } catch (error) {\n",
              "            console.error('Error during call to suggestCharts:', error);\n",
              "          }\n",
              "          quickchartButtonEl.classList.remove('colab-df-spinner');\n",
              "          quickchartButtonEl.classList.add('colab-df-quickchart-complete');\n",
              "        }\n",
              "        (() => {\n",
              "          let quickchartButtonEl =\n",
              "            document.querySelector('#df-06da1707-db5d-48a8-b6a6-9eee157c9e72 button');\n",
              "          quickchartButtonEl.style.display =\n",
              "            google.colab.kernel.accessAllowed ? 'block' : 'none';\n",
              "        })();\n",
              "      </script>\n",
              "    </div>\n",
              "\n",
              "    </div>\n",
              "  </div>\n"
            ],
            "application/vnd.google.colaboratory.intrinsic+json": {
              "type": "dataframe"
            }
          },
          "metadata": {},
          "execution_count": 10
        }
      ]
    },
    {
      "cell_type": "markdown",
      "source": [
        "### 3.3 **Encoding Data Values**"
      ],
      "metadata": {
        "id": "7vm6V_iwtx9T"
      }
    },
    {
      "cell_type": "markdown",
      "source": [
        "Let's create a copy of our cleaned dataframe for encoding"
      ],
      "metadata": {
        "id": "3cvJyT_q3djc"
      }
    },
    {
      "cell_type": "code",
      "source": [
        "df_encoded = df_cleaned.copy()"
      ],
      "metadata": {
        "id": "0Vxvw0UZ2CdC"
      },
      "execution_count": 11,
      "outputs": []
    },
    {
      "cell_type": "markdown",
      "source": [
        "3.3.1 **Replacing churn_flag values to Boolean True/False**"
      ],
      "metadata": {
        "id": "EgE9JHydt4hY"
      }
    },
    {
      "cell_type": "code",
      "source": [
        "df_encoded['churn_flag'] = df_encoded['churn_flag'].map({\n",
        "    'Attrited Customer': True,\n",
        "    'Existing Customer': False\n",
        "})"
      ],
      "metadata": {
        "id": "b10Q3hV_uCe_"
      },
      "execution_count": 12,
      "outputs": []
    },
    {
      "cell_type": "code",
      "source": [
        "df_encoded.tail()"
      ],
      "metadata": {
        "colab": {
          "base_uri": "https://localhost:8080/",
          "height": 377
        },
        "id": "k9YiqQ5nwN-K",
        "outputId": "c78167a9-eb81-4e76-a1c8-81cd3fa76d64"
      },
      "execution_count": 13,
      "outputs": [
        {
          "output_type": "execute_result",
          "data": {
            "text/plain": [
              "       client_id  churn_flag  age gender  dependents    education   marital  \\\n",
              "10122  772366833       False   50      M           2     Graduate    Single   \n",
              "10123  710638233        True   41      M           2      Unknown  Divorced   \n",
              "10124  716506083        True   44      F           1  High School   Married   \n",
              "10125  717406983        True   30      M           2     Graduate   Unknown   \n",
              "10126  714337233        True   43      F           2     Graduate   Married   \n",
              "\n",
              "               income card_type  tenure_months  ...  inactive_months  \\\n",
              "10122     $40K - $60K      Blue             40  ...                2   \n",
              "10123     $40K - $60K      Blue             25  ...                2   \n",
              "10124  Less than $40K      Blue             36  ...                3   \n",
              "10125     $40K - $60K      Blue             36  ...                3   \n",
              "10126  Less than $40K    Silver             25  ...                2   \n",
              "\n",
              "       contact_count    limit  revolving_bal  open_to_buy  amt_chg_q4_q1  \\\n",
              "10122              3   4003.0           1851       2152.0          0.703   \n",
              "10123              3   4277.0           2186       2091.0          0.804   \n",
              "10124              4   5409.0              0       5409.0          0.819   \n",
              "10125              3   5281.0              0       5281.0          0.535   \n",
              "10126              4  10388.0           1961       8427.0          0.703   \n",
              "\n",
              "       trans_amt  trans_ct  ct_chg_q4_q1  util_ratio  \n",
              "10122      15476       117         0.857       0.462  \n",
              "10123       8764        69         0.683       0.511  \n",
              "10124      10291        60         0.818       0.000  \n",
              "10125       8395        62         0.722       0.000  \n",
              "10126      10294        61         0.649       0.189  \n",
              "\n",
              "[5 rows x 21 columns]"
            ],
            "text/html": [
              "\n",
              "  <div id=\"df-2f64a5a3-221e-4849-8076-157df22b2a37\" class=\"colab-df-container\">\n",
              "    <div>\n",
              "<style scoped>\n",
              "    .dataframe tbody tr th:only-of-type {\n",
              "        vertical-align: middle;\n",
              "    }\n",
              "\n",
              "    .dataframe tbody tr th {\n",
              "        vertical-align: top;\n",
              "    }\n",
              "\n",
              "    .dataframe thead th {\n",
              "        text-align: right;\n",
              "    }\n",
              "</style>\n",
              "<table border=\"1\" class=\"dataframe\">\n",
              "  <thead>\n",
              "    <tr style=\"text-align: right;\">\n",
              "      <th></th>\n",
              "      <th>client_id</th>\n",
              "      <th>churn_flag</th>\n",
              "      <th>age</th>\n",
              "      <th>gender</th>\n",
              "      <th>dependents</th>\n",
              "      <th>education</th>\n",
              "      <th>marital</th>\n",
              "      <th>income</th>\n",
              "      <th>card_type</th>\n",
              "      <th>tenure_months</th>\n",
              "      <th>...</th>\n",
              "      <th>inactive_months</th>\n",
              "      <th>contact_count</th>\n",
              "      <th>limit</th>\n",
              "      <th>revolving_bal</th>\n",
              "      <th>open_to_buy</th>\n",
              "      <th>amt_chg_q4_q1</th>\n",
              "      <th>trans_amt</th>\n",
              "      <th>trans_ct</th>\n",
              "      <th>ct_chg_q4_q1</th>\n",
              "      <th>util_ratio</th>\n",
              "    </tr>\n",
              "  </thead>\n",
              "  <tbody>\n",
              "    <tr>\n",
              "      <th>10122</th>\n",
              "      <td>772366833</td>\n",
              "      <td>False</td>\n",
              "      <td>50</td>\n",
              "      <td>M</td>\n",
              "      <td>2</td>\n",
              "      <td>Graduate</td>\n",
              "      <td>Single</td>\n",
              "      <td>$40K - $60K</td>\n",
              "      <td>Blue</td>\n",
              "      <td>40</td>\n",
              "      <td>...</td>\n",
              "      <td>2</td>\n",
              "      <td>3</td>\n",
              "      <td>4003.0</td>\n",
              "      <td>1851</td>\n",
              "      <td>2152.0</td>\n",
              "      <td>0.703</td>\n",
              "      <td>15476</td>\n",
              "      <td>117</td>\n",
              "      <td>0.857</td>\n",
              "      <td>0.462</td>\n",
              "    </tr>\n",
              "    <tr>\n",
              "      <th>10123</th>\n",
              "      <td>710638233</td>\n",
              "      <td>True</td>\n",
              "      <td>41</td>\n",
              "      <td>M</td>\n",
              "      <td>2</td>\n",
              "      <td>Unknown</td>\n",
              "      <td>Divorced</td>\n",
              "      <td>$40K - $60K</td>\n",
              "      <td>Blue</td>\n",
              "      <td>25</td>\n",
              "      <td>...</td>\n",
              "      <td>2</td>\n",
              "      <td>3</td>\n",
              "      <td>4277.0</td>\n",
              "      <td>2186</td>\n",
              "      <td>2091.0</td>\n",
              "      <td>0.804</td>\n",
              "      <td>8764</td>\n",
              "      <td>69</td>\n",
              "      <td>0.683</td>\n",
              "      <td>0.511</td>\n",
              "    </tr>\n",
              "    <tr>\n",
              "      <th>10124</th>\n",
              "      <td>716506083</td>\n",
              "      <td>True</td>\n",
              "      <td>44</td>\n",
              "      <td>F</td>\n",
              "      <td>1</td>\n",
              "      <td>High School</td>\n",
              "      <td>Married</td>\n",
              "      <td>Less than $40K</td>\n",
              "      <td>Blue</td>\n",
              "      <td>36</td>\n",
              "      <td>...</td>\n",
              "      <td>3</td>\n",
              "      <td>4</td>\n",
              "      <td>5409.0</td>\n",
              "      <td>0</td>\n",
              "      <td>5409.0</td>\n",
              "      <td>0.819</td>\n",
              "      <td>10291</td>\n",
              "      <td>60</td>\n",
              "      <td>0.818</td>\n",
              "      <td>0.000</td>\n",
              "    </tr>\n",
              "    <tr>\n",
              "      <th>10125</th>\n",
              "      <td>717406983</td>\n",
              "      <td>True</td>\n",
              "      <td>30</td>\n",
              "      <td>M</td>\n",
              "      <td>2</td>\n",
              "      <td>Graduate</td>\n",
              "      <td>Unknown</td>\n",
              "      <td>$40K - $60K</td>\n",
              "      <td>Blue</td>\n",
              "      <td>36</td>\n",
              "      <td>...</td>\n",
              "      <td>3</td>\n",
              "      <td>3</td>\n",
              "      <td>5281.0</td>\n",
              "      <td>0</td>\n",
              "      <td>5281.0</td>\n",
              "      <td>0.535</td>\n",
              "      <td>8395</td>\n",
              "      <td>62</td>\n",
              "      <td>0.722</td>\n",
              "      <td>0.000</td>\n",
              "    </tr>\n",
              "    <tr>\n",
              "      <th>10126</th>\n",
              "      <td>714337233</td>\n",
              "      <td>True</td>\n",
              "      <td>43</td>\n",
              "      <td>F</td>\n",
              "      <td>2</td>\n",
              "      <td>Graduate</td>\n",
              "      <td>Married</td>\n",
              "      <td>Less than $40K</td>\n",
              "      <td>Silver</td>\n",
              "      <td>25</td>\n",
              "      <td>...</td>\n",
              "      <td>2</td>\n",
              "      <td>4</td>\n",
              "      <td>10388.0</td>\n",
              "      <td>1961</td>\n",
              "      <td>8427.0</td>\n",
              "      <td>0.703</td>\n",
              "      <td>10294</td>\n",
              "      <td>61</td>\n",
              "      <td>0.649</td>\n",
              "      <td>0.189</td>\n",
              "    </tr>\n",
              "  </tbody>\n",
              "</table>\n",
              "<p>5 rows × 21 columns</p>\n",
              "</div>\n",
              "    <div class=\"colab-df-buttons\">\n",
              "\n",
              "  <div class=\"colab-df-container\">\n",
              "    <button class=\"colab-df-convert\" onclick=\"convertToInteractive('df-2f64a5a3-221e-4849-8076-157df22b2a37')\"\n",
              "            title=\"Convert this dataframe to an interactive table.\"\n",
              "            style=\"display:none;\">\n",
              "\n",
              "  <svg xmlns=\"http://www.w3.org/2000/svg\" height=\"24px\" viewBox=\"0 -960 960 960\">\n",
              "    <path d=\"M120-120v-720h720v720H120Zm60-500h600v-160H180v160Zm220 220h160v-160H400v160Zm0 220h160v-160H400v160ZM180-400h160v-160H180v160Zm440 0h160v-160H620v160ZM180-180h160v-160H180v160Zm440 0h160v-160H620v160Z\"/>\n",
              "  </svg>\n",
              "    </button>\n",
              "\n",
              "  <style>\n",
              "    .colab-df-container {\n",
              "      display:flex;\n",
              "      gap: 12px;\n",
              "    }\n",
              "\n",
              "    .colab-df-convert {\n",
              "      background-color: #E8F0FE;\n",
              "      border: none;\n",
              "      border-radius: 50%;\n",
              "      cursor: pointer;\n",
              "      display: none;\n",
              "      fill: #1967D2;\n",
              "      height: 32px;\n",
              "      padding: 0 0 0 0;\n",
              "      width: 32px;\n",
              "    }\n",
              "\n",
              "    .colab-df-convert:hover {\n",
              "      background-color: #E2EBFA;\n",
              "      box-shadow: 0px 1px 2px rgba(60, 64, 67, 0.3), 0px 1px 3px 1px rgba(60, 64, 67, 0.15);\n",
              "      fill: #174EA6;\n",
              "    }\n",
              "\n",
              "    .colab-df-buttons div {\n",
              "      margin-bottom: 4px;\n",
              "    }\n",
              "\n",
              "    [theme=dark] .colab-df-convert {\n",
              "      background-color: #3B4455;\n",
              "      fill: #D2E3FC;\n",
              "    }\n",
              "\n",
              "    [theme=dark] .colab-df-convert:hover {\n",
              "      background-color: #434B5C;\n",
              "      box-shadow: 0px 1px 3px 1px rgba(0, 0, 0, 0.15);\n",
              "      filter: drop-shadow(0px 1px 2px rgba(0, 0, 0, 0.3));\n",
              "      fill: #FFFFFF;\n",
              "    }\n",
              "  </style>\n",
              "\n",
              "    <script>\n",
              "      const buttonEl =\n",
              "        document.querySelector('#df-2f64a5a3-221e-4849-8076-157df22b2a37 button.colab-df-convert');\n",
              "      buttonEl.style.display =\n",
              "        google.colab.kernel.accessAllowed ? 'block' : 'none';\n",
              "\n",
              "      async function convertToInteractive(key) {\n",
              "        const element = document.querySelector('#df-2f64a5a3-221e-4849-8076-157df22b2a37');\n",
              "        const dataTable =\n",
              "          await google.colab.kernel.invokeFunction('convertToInteractive',\n",
              "                                                    [key], {});\n",
              "        if (!dataTable) return;\n",
              "\n",
              "        const docLinkHtml = 'Like what you see? Visit the ' +\n",
              "          '<a target=\"_blank\" href=https://colab.research.google.com/notebooks/data_table.ipynb>data table notebook</a>'\n",
              "          + ' to learn more about interactive tables.';\n",
              "        element.innerHTML = '';\n",
              "        dataTable['output_type'] = 'display_data';\n",
              "        await google.colab.output.renderOutput(dataTable, element);\n",
              "        const docLink = document.createElement('div');\n",
              "        docLink.innerHTML = docLinkHtml;\n",
              "        element.appendChild(docLink);\n",
              "      }\n",
              "    </script>\n",
              "  </div>\n",
              "\n",
              "\n",
              "    <div id=\"df-c11a422c-6e81-44e2-97c8-17d56e6204aa\">\n",
              "      <button class=\"colab-df-quickchart\" onclick=\"quickchart('df-c11a422c-6e81-44e2-97c8-17d56e6204aa')\"\n",
              "                title=\"Suggest charts\"\n",
              "                style=\"display:none;\">\n",
              "\n",
              "<svg xmlns=\"http://www.w3.org/2000/svg\" height=\"24px\"viewBox=\"0 0 24 24\"\n",
              "     width=\"24px\">\n",
              "    <g>\n",
              "        <path d=\"M19 3H5c-1.1 0-2 .9-2 2v14c0 1.1.9 2 2 2h14c1.1 0 2-.9 2-2V5c0-1.1-.9-2-2-2zM9 17H7v-7h2v7zm4 0h-2V7h2v10zm4 0h-2v-4h2v4z\"/>\n",
              "    </g>\n",
              "</svg>\n",
              "      </button>\n",
              "\n",
              "<style>\n",
              "  .colab-df-quickchart {\n",
              "      --bg-color: #E8F0FE;\n",
              "      --fill-color: #1967D2;\n",
              "      --hover-bg-color: #E2EBFA;\n",
              "      --hover-fill-color: #174EA6;\n",
              "      --disabled-fill-color: #AAA;\n",
              "      --disabled-bg-color: #DDD;\n",
              "  }\n",
              "\n",
              "  [theme=dark] .colab-df-quickchart {\n",
              "      --bg-color: #3B4455;\n",
              "      --fill-color: #D2E3FC;\n",
              "      --hover-bg-color: #434B5C;\n",
              "      --hover-fill-color: #FFFFFF;\n",
              "      --disabled-bg-color: #3B4455;\n",
              "      --disabled-fill-color: #666;\n",
              "  }\n",
              "\n",
              "  .colab-df-quickchart {\n",
              "    background-color: var(--bg-color);\n",
              "    border: none;\n",
              "    border-radius: 50%;\n",
              "    cursor: pointer;\n",
              "    display: none;\n",
              "    fill: var(--fill-color);\n",
              "    height: 32px;\n",
              "    padding: 0;\n",
              "    width: 32px;\n",
              "  }\n",
              "\n",
              "  .colab-df-quickchart:hover {\n",
              "    background-color: var(--hover-bg-color);\n",
              "    box-shadow: 0 1px 2px rgba(60, 64, 67, 0.3), 0 1px 3px 1px rgba(60, 64, 67, 0.15);\n",
              "    fill: var(--button-hover-fill-color);\n",
              "  }\n",
              "\n",
              "  .colab-df-quickchart-complete:disabled,\n",
              "  .colab-df-quickchart-complete:disabled:hover {\n",
              "    background-color: var(--disabled-bg-color);\n",
              "    fill: var(--disabled-fill-color);\n",
              "    box-shadow: none;\n",
              "  }\n",
              "\n",
              "  .colab-df-spinner {\n",
              "    border: 2px solid var(--fill-color);\n",
              "    border-color: transparent;\n",
              "    border-bottom-color: var(--fill-color);\n",
              "    animation:\n",
              "      spin 1s steps(1) infinite;\n",
              "  }\n",
              "\n",
              "  @keyframes spin {\n",
              "    0% {\n",
              "      border-color: transparent;\n",
              "      border-bottom-color: var(--fill-color);\n",
              "      border-left-color: var(--fill-color);\n",
              "    }\n",
              "    20% {\n",
              "      border-color: transparent;\n",
              "      border-left-color: var(--fill-color);\n",
              "      border-top-color: var(--fill-color);\n",
              "    }\n",
              "    30% {\n",
              "      border-color: transparent;\n",
              "      border-left-color: var(--fill-color);\n",
              "      border-top-color: var(--fill-color);\n",
              "      border-right-color: var(--fill-color);\n",
              "    }\n",
              "    40% {\n",
              "      border-color: transparent;\n",
              "      border-right-color: var(--fill-color);\n",
              "      border-top-color: var(--fill-color);\n",
              "    }\n",
              "    60% {\n",
              "      border-color: transparent;\n",
              "      border-right-color: var(--fill-color);\n",
              "    }\n",
              "    80% {\n",
              "      border-color: transparent;\n",
              "      border-right-color: var(--fill-color);\n",
              "      border-bottom-color: var(--fill-color);\n",
              "    }\n",
              "    90% {\n",
              "      border-color: transparent;\n",
              "      border-bottom-color: var(--fill-color);\n",
              "    }\n",
              "  }\n",
              "</style>\n",
              "\n",
              "      <script>\n",
              "        async function quickchart(key) {\n",
              "          const quickchartButtonEl =\n",
              "            document.querySelector('#' + key + ' button');\n",
              "          quickchartButtonEl.disabled = true;  // To prevent multiple clicks.\n",
              "          quickchartButtonEl.classList.add('colab-df-spinner');\n",
              "          try {\n",
              "            const charts = await google.colab.kernel.invokeFunction(\n",
              "                'suggestCharts', [key], {});\n",
              "          } catch (error) {\n",
              "            console.error('Error during call to suggestCharts:', error);\n",
              "          }\n",
              "          quickchartButtonEl.classList.remove('colab-df-spinner');\n",
              "          quickchartButtonEl.classList.add('colab-df-quickchart-complete');\n",
              "        }\n",
              "        (() => {\n",
              "          let quickchartButtonEl =\n",
              "            document.querySelector('#df-c11a422c-6e81-44e2-97c8-17d56e6204aa button');\n",
              "          quickchartButtonEl.style.display =\n",
              "            google.colab.kernel.accessAllowed ? 'block' : 'none';\n",
              "        })();\n",
              "      </script>\n",
              "    </div>\n",
              "\n",
              "    </div>\n",
              "  </div>\n"
            ],
            "application/vnd.google.colaboratory.intrinsic+json": {
              "type": "dataframe"
            }
          },
          "metadata": {},
          "execution_count": 13
        }
      ]
    },
    {
      "cell_type": "markdown",
      "source": [
        "3.3.2 **Encoding Education Levels**\n",
        "\n"
      ],
      "metadata": {
        "id": "VMJuzga4xV_m"
      }
    },
    {
      "cell_type": "code",
      "source": [
        "education_order = {\n",
        "    'Uneducated': 0,\n",
        "    'High School': 1,\n",
        "    'College': 2,\n",
        "    'Graduate': 3,\n",
        "    'Post-Graduate': 4,\n",
        "    'Doctorate': 5,\n",
        "    'Unknown': -1\n",
        "}\n",
        "df_encoded['education_encoded'] = df_encoded['education'].map(education_order)"
      ],
      "metadata": {
        "id": "cuTMZ0yswvq_"
      },
      "execution_count": 15,
      "outputs": []
    },
    {
      "cell_type": "markdown",
      "source": [
        "3.3.3 **Encoding Income levels**"
      ],
      "metadata": {
        "id": "O0MRpm8EgT7W"
      }
    },
    {
      "cell_type": "code",
      "source": [
        "income_order = {\n",
        "    'Unknown': 0,\n",
        "    'Less than $40K': 1,\n",
        "    '$40K - $60K': 2,\n",
        "    '$60K - $80K': 3,\n",
        "    '$80K - $120K': 4,\n",
        "    '$120K +': 5 # Example if you had more categories\n",
        "}\n",
        "df_encoded['income_encoded'] = df_encoded['income'].map(income_order)"
      ],
      "metadata": {
        "id": "S8KUlNcgxQwu"
      },
      "execution_count": 16,
      "outputs": []
    },
    {
      "cell_type": "markdown",
      "source": [
        "3.3.4 **Encoding Nominal Columns**"
      ],
      "metadata": {
        "id": "2rXgzunzxfw5"
      }
    },
    {
      "cell_type": "code",
      "source": [
        "nominal_cols_to_encode = ['gender', 'marital', 'card_type']\n",
        "df_encoded = pd.get_dummies(df_encoded, columns=nominal_cols_to_encode, drop_first=True)\n",
        "cols_to_drop = [ 'education', 'income']\n",
        "df_encoded = df_encoded.drop(columns=cols_to_drop, errors='ignore')"
      ],
      "metadata": {
        "id": "XyxjLjAKxsrj"
      },
      "execution_count": 17,
      "outputs": []
    },
    {
      "cell_type": "code",
      "source": [
        "df_encoded.columns = df_encoded.columns.str.lower()"
      ],
      "metadata": {
        "id": "__PYU9oCzAGn"
      },
      "execution_count": 18,
      "outputs": []
    },
    {
      "cell_type": "markdown",
      "source": [
        "Confirm our changes"
      ],
      "metadata": {
        "id": "Wval6agdzkq8"
      }
    },
    {
      "cell_type": "code",
      "source": [
        "df_encoded.info()"
      ],
      "metadata": {
        "colab": {
          "base_uri": "https://localhost:8080/"
        },
        "id": "f0XMt9fxzqyJ",
        "outputId": "34cfda58-3f62-4ab3-d713-6f59b4f08460"
      },
      "execution_count": 19,
      "outputs": [
        {
          "output_type": "stream",
          "name": "stdout",
          "text": [
            "<class 'pandas.core.frame.DataFrame'>\n",
            "RangeIndex: 10127 entries, 0 to 10126\n",
            "Data columns (total 25 columns):\n",
            " #   Column              Non-Null Count  Dtype  \n",
            "---  ------              --------------  -----  \n",
            " 0   client_id           10127 non-null  int64  \n",
            " 1   churn_flag          10127 non-null  bool   \n",
            " 2   age                 10127 non-null  int64  \n",
            " 3   dependents          10127 non-null  int64  \n",
            " 4   tenure_months       10127 non-null  int64  \n",
            " 5   relationships       10127 non-null  int64  \n",
            " 6   inactive_months     10127 non-null  int64  \n",
            " 7   contact_count       10127 non-null  int64  \n",
            " 8   limit               10127 non-null  float64\n",
            " 9   revolving_bal       10127 non-null  int64  \n",
            " 10  open_to_buy         10127 non-null  float64\n",
            " 11  amt_chg_q4_q1       10127 non-null  float64\n",
            " 12  trans_amt           10127 non-null  int64  \n",
            " 13  trans_ct            10127 non-null  int64  \n",
            " 14  ct_chg_q4_q1        10127 non-null  float64\n",
            " 15  util_ratio          10127 non-null  float64\n",
            " 16  education_encoded   10127 non-null  int64  \n",
            " 17  income_encoded      10127 non-null  int64  \n",
            " 18  gender_m            10127 non-null  bool   \n",
            " 19  marital_married     10127 non-null  bool   \n",
            " 20  marital_single      10127 non-null  bool   \n",
            " 21  marital_unknown     10127 non-null  bool   \n",
            " 22  card_type_gold      10127 non-null  bool   \n",
            " 23  card_type_platinum  10127 non-null  bool   \n",
            " 24  card_type_silver    10127 non-null  bool   \n",
            "dtypes: bool(8), float64(5), int64(12)\n",
            "memory usage: 1.4 MB\n"
          ]
        }
      ]
    },
    {
      "cell_type": "code",
      "source": [
        "df_encoded.head()"
      ],
      "metadata": {
        "colab": {
          "base_uri": "https://localhost:8080/",
          "height": 255
        },
        "id": "8FSrDjO_zkP0",
        "outputId": "09c9157b-0c85-4d3e-caa4-9525e36b2b47"
      },
      "execution_count": 20,
      "outputs": [
        {
          "output_type": "execute_result",
          "data": {
            "text/plain": [
              "   client_id  churn_flag  age  dependents  tenure_months  relationships  \\\n",
              "0  768805383       False   45           3             39              5   \n",
              "1  818770008       False   49           5             44              6   \n",
              "2  713982108       False   51           3             36              4   \n",
              "3  769911858       False   40           4             34              3   \n",
              "4  709106358       False   40           3             21              5   \n",
              "\n",
              "   inactive_months  contact_count    limit  revolving_bal  ...  util_ratio  \\\n",
              "0                1              3  12691.0            777  ...       0.061   \n",
              "1                1              2   8256.0            864  ...       0.105   \n",
              "2                1              0   3418.0              0  ...       0.000   \n",
              "3                4              1   3313.0           2517  ...       0.760   \n",
              "4                1              0   4716.0              0  ...       0.000   \n",
              "\n",
              "   education_encoded  income_encoded  gender_m  marital_married  \\\n",
              "0                  1               3      True             True   \n",
              "1                  3               1     False            False   \n",
              "2                  3               4      True             True   \n",
              "3                  1               1     False            False   \n",
              "4                  0               3      True             True   \n",
              "\n",
              "   marital_single  marital_unknown  card_type_gold  card_type_platinum  \\\n",
              "0           False            False           False               False   \n",
              "1            True            False           False               False   \n",
              "2           False            False           False               False   \n",
              "3           False             True           False               False   \n",
              "4           False            False           False               False   \n",
              "\n",
              "   card_type_silver  \n",
              "0             False  \n",
              "1             False  \n",
              "2             False  \n",
              "3             False  \n",
              "4             False  \n",
              "\n",
              "[5 rows x 25 columns]"
            ],
            "text/html": [
              "\n",
              "  <div id=\"df-7e34b616-3482-42f1-a5b9-d0cd46071ae7\" class=\"colab-df-container\">\n",
              "    <div>\n",
              "<style scoped>\n",
              "    .dataframe tbody tr th:only-of-type {\n",
              "        vertical-align: middle;\n",
              "    }\n",
              "\n",
              "    .dataframe tbody tr th {\n",
              "        vertical-align: top;\n",
              "    }\n",
              "\n",
              "    .dataframe thead th {\n",
              "        text-align: right;\n",
              "    }\n",
              "</style>\n",
              "<table border=\"1\" class=\"dataframe\">\n",
              "  <thead>\n",
              "    <tr style=\"text-align: right;\">\n",
              "      <th></th>\n",
              "      <th>client_id</th>\n",
              "      <th>churn_flag</th>\n",
              "      <th>age</th>\n",
              "      <th>dependents</th>\n",
              "      <th>tenure_months</th>\n",
              "      <th>relationships</th>\n",
              "      <th>inactive_months</th>\n",
              "      <th>contact_count</th>\n",
              "      <th>limit</th>\n",
              "      <th>revolving_bal</th>\n",
              "      <th>...</th>\n",
              "      <th>util_ratio</th>\n",
              "      <th>education_encoded</th>\n",
              "      <th>income_encoded</th>\n",
              "      <th>gender_m</th>\n",
              "      <th>marital_married</th>\n",
              "      <th>marital_single</th>\n",
              "      <th>marital_unknown</th>\n",
              "      <th>card_type_gold</th>\n",
              "      <th>card_type_platinum</th>\n",
              "      <th>card_type_silver</th>\n",
              "    </tr>\n",
              "  </thead>\n",
              "  <tbody>\n",
              "    <tr>\n",
              "      <th>0</th>\n",
              "      <td>768805383</td>\n",
              "      <td>False</td>\n",
              "      <td>45</td>\n",
              "      <td>3</td>\n",
              "      <td>39</td>\n",
              "      <td>5</td>\n",
              "      <td>1</td>\n",
              "      <td>3</td>\n",
              "      <td>12691.0</td>\n",
              "      <td>777</td>\n",
              "      <td>...</td>\n",
              "      <td>0.061</td>\n",
              "      <td>1</td>\n",
              "      <td>3</td>\n",
              "      <td>True</td>\n",
              "      <td>True</td>\n",
              "      <td>False</td>\n",
              "      <td>False</td>\n",
              "      <td>False</td>\n",
              "      <td>False</td>\n",
              "      <td>False</td>\n",
              "    </tr>\n",
              "    <tr>\n",
              "      <th>1</th>\n",
              "      <td>818770008</td>\n",
              "      <td>False</td>\n",
              "      <td>49</td>\n",
              "      <td>5</td>\n",
              "      <td>44</td>\n",
              "      <td>6</td>\n",
              "      <td>1</td>\n",
              "      <td>2</td>\n",
              "      <td>8256.0</td>\n",
              "      <td>864</td>\n",
              "      <td>...</td>\n",
              "      <td>0.105</td>\n",
              "      <td>3</td>\n",
              "      <td>1</td>\n",
              "      <td>False</td>\n",
              "      <td>False</td>\n",
              "      <td>True</td>\n",
              "      <td>False</td>\n",
              "      <td>False</td>\n",
              "      <td>False</td>\n",
              "      <td>False</td>\n",
              "    </tr>\n",
              "    <tr>\n",
              "      <th>2</th>\n",
              "      <td>713982108</td>\n",
              "      <td>False</td>\n",
              "      <td>51</td>\n",
              "      <td>3</td>\n",
              "      <td>36</td>\n",
              "      <td>4</td>\n",
              "      <td>1</td>\n",
              "      <td>0</td>\n",
              "      <td>3418.0</td>\n",
              "      <td>0</td>\n",
              "      <td>...</td>\n",
              "      <td>0.000</td>\n",
              "      <td>3</td>\n",
              "      <td>4</td>\n",
              "      <td>True</td>\n",
              "      <td>True</td>\n",
              "      <td>False</td>\n",
              "      <td>False</td>\n",
              "      <td>False</td>\n",
              "      <td>False</td>\n",
              "      <td>False</td>\n",
              "    </tr>\n",
              "    <tr>\n",
              "      <th>3</th>\n",
              "      <td>769911858</td>\n",
              "      <td>False</td>\n",
              "      <td>40</td>\n",
              "      <td>4</td>\n",
              "      <td>34</td>\n",
              "      <td>3</td>\n",
              "      <td>4</td>\n",
              "      <td>1</td>\n",
              "      <td>3313.0</td>\n",
              "      <td>2517</td>\n",
              "      <td>...</td>\n",
              "      <td>0.760</td>\n",
              "      <td>1</td>\n",
              "      <td>1</td>\n",
              "      <td>False</td>\n",
              "      <td>False</td>\n",
              "      <td>False</td>\n",
              "      <td>True</td>\n",
              "      <td>False</td>\n",
              "      <td>False</td>\n",
              "      <td>False</td>\n",
              "    </tr>\n",
              "    <tr>\n",
              "      <th>4</th>\n",
              "      <td>709106358</td>\n",
              "      <td>False</td>\n",
              "      <td>40</td>\n",
              "      <td>3</td>\n",
              "      <td>21</td>\n",
              "      <td>5</td>\n",
              "      <td>1</td>\n",
              "      <td>0</td>\n",
              "      <td>4716.0</td>\n",
              "      <td>0</td>\n",
              "      <td>...</td>\n",
              "      <td>0.000</td>\n",
              "      <td>0</td>\n",
              "      <td>3</td>\n",
              "      <td>True</td>\n",
              "      <td>True</td>\n",
              "      <td>False</td>\n",
              "      <td>False</td>\n",
              "      <td>False</td>\n",
              "      <td>False</td>\n",
              "      <td>False</td>\n",
              "    </tr>\n",
              "  </tbody>\n",
              "</table>\n",
              "<p>5 rows × 25 columns</p>\n",
              "</div>\n",
              "    <div class=\"colab-df-buttons\">\n",
              "\n",
              "  <div class=\"colab-df-container\">\n",
              "    <button class=\"colab-df-convert\" onclick=\"convertToInteractive('df-7e34b616-3482-42f1-a5b9-d0cd46071ae7')\"\n",
              "            title=\"Convert this dataframe to an interactive table.\"\n",
              "            style=\"display:none;\">\n",
              "\n",
              "  <svg xmlns=\"http://www.w3.org/2000/svg\" height=\"24px\" viewBox=\"0 -960 960 960\">\n",
              "    <path d=\"M120-120v-720h720v720H120Zm60-500h600v-160H180v160Zm220 220h160v-160H400v160Zm0 220h160v-160H400v160ZM180-400h160v-160H180v160Zm440 0h160v-160H620v160ZM180-180h160v-160H180v160Zm440 0h160v-160H620v160Z\"/>\n",
              "  </svg>\n",
              "    </button>\n",
              "\n",
              "  <style>\n",
              "    .colab-df-container {\n",
              "      display:flex;\n",
              "      gap: 12px;\n",
              "    }\n",
              "\n",
              "    .colab-df-convert {\n",
              "      background-color: #E8F0FE;\n",
              "      border: none;\n",
              "      border-radius: 50%;\n",
              "      cursor: pointer;\n",
              "      display: none;\n",
              "      fill: #1967D2;\n",
              "      height: 32px;\n",
              "      padding: 0 0 0 0;\n",
              "      width: 32px;\n",
              "    }\n",
              "\n",
              "    .colab-df-convert:hover {\n",
              "      background-color: #E2EBFA;\n",
              "      box-shadow: 0px 1px 2px rgba(60, 64, 67, 0.3), 0px 1px 3px 1px rgba(60, 64, 67, 0.15);\n",
              "      fill: #174EA6;\n",
              "    }\n",
              "\n",
              "    .colab-df-buttons div {\n",
              "      margin-bottom: 4px;\n",
              "    }\n",
              "\n",
              "    [theme=dark] .colab-df-convert {\n",
              "      background-color: #3B4455;\n",
              "      fill: #D2E3FC;\n",
              "    }\n",
              "\n",
              "    [theme=dark] .colab-df-convert:hover {\n",
              "      background-color: #434B5C;\n",
              "      box-shadow: 0px 1px 3px 1px rgba(0, 0, 0, 0.15);\n",
              "      filter: drop-shadow(0px 1px 2px rgba(0, 0, 0, 0.3));\n",
              "      fill: #FFFFFF;\n",
              "    }\n",
              "  </style>\n",
              "\n",
              "    <script>\n",
              "      const buttonEl =\n",
              "        document.querySelector('#df-7e34b616-3482-42f1-a5b9-d0cd46071ae7 button.colab-df-convert');\n",
              "      buttonEl.style.display =\n",
              "        google.colab.kernel.accessAllowed ? 'block' : 'none';\n",
              "\n",
              "      async function convertToInteractive(key) {\n",
              "        const element = document.querySelector('#df-7e34b616-3482-42f1-a5b9-d0cd46071ae7');\n",
              "        const dataTable =\n",
              "          await google.colab.kernel.invokeFunction('convertToInteractive',\n",
              "                                                    [key], {});\n",
              "        if (!dataTable) return;\n",
              "\n",
              "        const docLinkHtml = 'Like what you see? Visit the ' +\n",
              "          '<a target=\"_blank\" href=https://colab.research.google.com/notebooks/data_table.ipynb>data table notebook</a>'\n",
              "          + ' to learn more about interactive tables.';\n",
              "        element.innerHTML = '';\n",
              "        dataTable['output_type'] = 'display_data';\n",
              "        await google.colab.output.renderOutput(dataTable, element);\n",
              "        const docLink = document.createElement('div');\n",
              "        docLink.innerHTML = docLinkHtml;\n",
              "        element.appendChild(docLink);\n",
              "      }\n",
              "    </script>\n",
              "  </div>\n",
              "\n",
              "\n",
              "    <div id=\"df-8dc0ad0a-7a56-42b9-8558-0156c29de85c\">\n",
              "      <button class=\"colab-df-quickchart\" onclick=\"quickchart('df-8dc0ad0a-7a56-42b9-8558-0156c29de85c')\"\n",
              "                title=\"Suggest charts\"\n",
              "                style=\"display:none;\">\n",
              "\n",
              "<svg xmlns=\"http://www.w3.org/2000/svg\" height=\"24px\"viewBox=\"0 0 24 24\"\n",
              "     width=\"24px\">\n",
              "    <g>\n",
              "        <path d=\"M19 3H5c-1.1 0-2 .9-2 2v14c0 1.1.9 2 2 2h14c1.1 0 2-.9 2-2V5c0-1.1-.9-2-2-2zM9 17H7v-7h2v7zm4 0h-2V7h2v10zm4 0h-2v-4h2v4z\"/>\n",
              "    </g>\n",
              "</svg>\n",
              "      </button>\n",
              "\n",
              "<style>\n",
              "  .colab-df-quickchart {\n",
              "      --bg-color: #E8F0FE;\n",
              "      --fill-color: #1967D2;\n",
              "      --hover-bg-color: #E2EBFA;\n",
              "      --hover-fill-color: #174EA6;\n",
              "      --disabled-fill-color: #AAA;\n",
              "      --disabled-bg-color: #DDD;\n",
              "  }\n",
              "\n",
              "  [theme=dark] .colab-df-quickchart {\n",
              "      --bg-color: #3B4455;\n",
              "      --fill-color: #D2E3FC;\n",
              "      --hover-bg-color: #434B5C;\n",
              "      --hover-fill-color: #FFFFFF;\n",
              "      --disabled-bg-color: #3B4455;\n",
              "      --disabled-fill-color: #666;\n",
              "  }\n",
              "\n",
              "  .colab-df-quickchart {\n",
              "    background-color: var(--bg-color);\n",
              "    border: none;\n",
              "    border-radius: 50%;\n",
              "    cursor: pointer;\n",
              "    display: none;\n",
              "    fill: var(--fill-color);\n",
              "    height: 32px;\n",
              "    padding: 0;\n",
              "    width: 32px;\n",
              "  }\n",
              "\n",
              "  .colab-df-quickchart:hover {\n",
              "    background-color: var(--hover-bg-color);\n",
              "    box-shadow: 0 1px 2px rgba(60, 64, 67, 0.3), 0 1px 3px 1px rgba(60, 64, 67, 0.15);\n",
              "    fill: var(--button-hover-fill-color);\n",
              "  }\n",
              "\n",
              "  .colab-df-quickchart-complete:disabled,\n",
              "  .colab-df-quickchart-complete:disabled:hover {\n",
              "    background-color: var(--disabled-bg-color);\n",
              "    fill: var(--disabled-fill-color);\n",
              "    box-shadow: none;\n",
              "  }\n",
              "\n",
              "  .colab-df-spinner {\n",
              "    border: 2px solid var(--fill-color);\n",
              "    border-color: transparent;\n",
              "    border-bottom-color: var(--fill-color);\n",
              "    animation:\n",
              "      spin 1s steps(1) infinite;\n",
              "  }\n",
              "\n",
              "  @keyframes spin {\n",
              "    0% {\n",
              "      border-color: transparent;\n",
              "      border-bottom-color: var(--fill-color);\n",
              "      border-left-color: var(--fill-color);\n",
              "    }\n",
              "    20% {\n",
              "      border-color: transparent;\n",
              "      border-left-color: var(--fill-color);\n",
              "      border-top-color: var(--fill-color);\n",
              "    }\n",
              "    30% {\n",
              "      border-color: transparent;\n",
              "      border-left-color: var(--fill-color);\n",
              "      border-top-color: var(--fill-color);\n",
              "      border-right-color: var(--fill-color);\n",
              "    }\n",
              "    40% {\n",
              "      border-color: transparent;\n",
              "      border-right-color: var(--fill-color);\n",
              "      border-top-color: var(--fill-color);\n",
              "    }\n",
              "    60% {\n",
              "      border-color: transparent;\n",
              "      border-right-color: var(--fill-color);\n",
              "    }\n",
              "    80% {\n",
              "      border-color: transparent;\n",
              "      border-right-color: var(--fill-color);\n",
              "      border-bottom-color: var(--fill-color);\n",
              "    }\n",
              "    90% {\n",
              "      border-color: transparent;\n",
              "      border-bottom-color: var(--fill-color);\n",
              "    }\n",
              "  }\n",
              "</style>\n",
              "\n",
              "      <script>\n",
              "        async function quickchart(key) {\n",
              "          const quickchartButtonEl =\n",
              "            document.querySelector('#' + key + ' button');\n",
              "          quickchartButtonEl.disabled = true;  // To prevent multiple clicks.\n",
              "          quickchartButtonEl.classList.add('colab-df-spinner');\n",
              "          try {\n",
              "            const charts = await google.colab.kernel.invokeFunction(\n",
              "                'suggestCharts', [key], {});\n",
              "          } catch (error) {\n",
              "            console.error('Error during call to suggestCharts:', error);\n",
              "          }\n",
              "          quickchartButtonEl.classList.remove('colab-df-spinner');\n",
              "          quickchartButtonEl.classList.add('colab-df-quickchart-complete');\n",
              "        }\n",
              "        (() => {\n",
              "          let quickchartButtonEl =\n",
              "            document.querySelector('#df-8dc0ad0a-7a56-42b9-8558-0156c29de85c button');\n",
              "          quickchartButtonEl.style.display =\n",
              "            google.colab.kernel.accessAllowed ? 'block' : 'none';\n",
              "        })();\n",
              "      </script>\n",
              "    </div>\n",
              "\n",
              "    </div>\n",
              "  </div>\n"
            ],
            "application/vnd.google.colaboratory.intrinsic+json": {
              "type": "dataframe",
              "variable_name": "df_encoded"
            }
          },
          "metadata": {},
          "execution_count": 20
        }
      ]
    },
    {
      "cell_type": "markdown",
      "source": [
        "## 4. **Feature Engineering**"
      ],
      "metadata": {
        "id": "e9hXf72eht-R"
      }
    },
    {
      "cell_type": "markdown",
      "source": [
        "In this section we will add features to our dataset to help us with predicting our customer churn based."
      ],
      "metadata": {
        "id": "P9CuXJNiWvse"
      }
    },
    {
      "cell_type": "markdown",
      "source": [
        "We will copy our encoded dataframe"
      ],
      "metadata": {
        "id": "EvnSu0VZ3qK9"
      }
    },
    {
      "cell_type": "code",
      "source": [
        "df_engineered = df_encoded.copy()"
      ],
      "metadata": {
        "id": "qAKz1X2d2UZP"
      },
      "execution_count": 21,
      "outputs": []
    },
    {
      "cell_type": "markdown",
      "source": [
        "### 4.1 **Behavioral Metrics**"
      ],
      "metadata": {
        "id": "uJ6tDx3NZ9Vh"
      }
    },
    {
      "cell_type": "markdown",
      "source": [
        "In this section we will introduce some behavioral metrics to our dataset. Like **transaction amount per month**, **transaction count per month**, **average transaction amount**."
      ],
      "metadata": {
        "id": "uu3iQYYpaEwf"
      }
    },
    {
      "cell_type": "markdown",
      "source": [
        "4.1.1 **Transaction amount per month**"
      ],
      "metadata": {
        "id": "5lYn0LG0az0Q"
      }
    },
    {
      "cell_type": "code",
      "source": [
        "df_engineered['trans_amt_per_month'] = df_engineered['trans_amt'] / df_engineered['tenure_months']"
      ],
      "metadata": {
        "id": "juuz4qXFa3uD"
      },
      "execution_count": 22,
      "outputs": []
    },
    {
      "cell_type": "markdown",
      "source": [
        "4.1.2 **Transactions per month**"
      ],
      "metadata": {
        "id": "JObMnoiQbaUl"
      }
    },
    {
      "cell_type": "code",
      "source": [
        "df_engineered['trans_ct_per_month'] = df_engineered['trans_ct'] / df_engineered['tenure_months']"
      ],
      "metadata": {
        "id": "W5DzdokLbe1n"
      },
      "execution_count": 23,
      "outputs": []
    },
    {
      "cell_type": "markdown",
      "source": [
        "4.1.3 **Average transaction amount**"
      ],
      "metadata": {
        "id": "t75snrv4bwP7"
      }
    },
    {
      "cell_type": "code",
      "source": [
        "df_engineered['avg_trans_amt'] = df_engineered['trans_amt'] / df_engineered['trans_ct']"
      ],
      "metadata": {
        "id": "Cvz865s-b15v"
      },
      "execution_count": 24,
      "outputs": []
    },
    {
      "cell_type": "markdown",
      "source": [
        "### 4.2 **Credit Dynamics**"
      ],
      "metadata": {
        "id": "GtMwwxISdPng"
      }
    },
    {
      "cell_type": "markdown",
      "source": [
        "In this section we will add credit dynamics features to our dataset like balance_to_limit_ration, credit_usage_efficiency, credit_growth_rate."
      ],
      "metadata": {
        "id": "C43x9TxMdWod"
      }
    },
    {
      "cell_type": "markdown",
      "source": [
        "4.2.1 **Balance to limit ration**"
      ],
      "metadata": {
        "id": "nCizOpIndpWj"
      }
    },
    {
      "cell_type": "code",
      "source": [
        "df_engineered['balance_to_limit_ratio'] = df_engineered['revolving_bal'] / df_engineered['limit']"
      ],
      "metadata": {
        "id": "VFag6oaHdtMt"
      },
      "execution_count": 25,
      "outputs": []
    },
    {
      "cell_type": "markdown",
      "source": [
        "4.2.2 **Credit usage efficiency**"
      ],
      "metadata": {
        "id": "q94QwPtGd3OW"
      }
    },
    {
      "cell_type": "code",
      "source": [
        "df_engineered['credit_usage_efficiency'] = df_engineered['open_to_buy'] / df_engineered['limit']"
      ],
      "metadata": {
        "id": "JJg0RwoVd89i"
      },
      "execution_count": 26,
      "outputs": []
    },
    {
      "cell_type": "markdown",
      "source": [
        "4.2.3 **Credit Growth Rate**"
      ],
      "metadata": {
        "id": "IzXINqGieMvs"
      }
    },
    {
      "cell_type": "code",
      "source": [
        "df_engineered['credit_growth_rate'] = df_engineered['amt_chg_q4_q1'] * df_engineered['limit']"
      ],
      "metadata": {
        "id": "YEPO6MCxeYak"
      },
      "execution_count": 27,
      "outputs": []
    },
    {
      "cell_type": "code",
      "source": [
        "df_engineered.info()"
      ],
      "metadata": {
        "colab": {
          "base_uri": "https://localhost:8080/"
        },
        "id": "mp6STboSkzkD",
        "outputId": "f1404ac3-cbf2-4c71-f0c7-bc9d12fb7aca"
      },
      "execution_count": 28,
      "outputs": [
        {
          "output_type": "stream",
          "name": "stdout",
          "text": [
            "<class 'pandas.core.frame.DataFrame'>\n",
            "RangeIndex: 10127 entries, 0 to 10126\n",
            "Data columns (total 31 columns):\n",
            " #   Column                   Non-Null Count  Dtype  \n",
            "---  ------                   --------------  -----  \n",
            " 0   client_id                10127 non-null  int64  \n",
            " 1   churn_flag               10127 non-null  bool   \n",
            " 2   age                      10127 non-null  int64  \n",
            " 3   dependents               10127 non-null  int64  \n",
            " 4   tenure_months            10127 non-null  int64  \n",
            " 5   relationships            10127 non-null  int64  \n",
            " 6   inactive_months          10127 non-null  int64  \n",
            " 7   contact_count            10127 non-null  int64  \n",
            " 8   limit                    10127 non-null  float64\n",
            " 9   revolving_bal            10127 non-null  int64  \n",
            " 10  open_to_buy              10127 non-null  float64\n",
            " 11  amt_chg_q4_q1            10127 non-null  float64\n",
            " 12  trans_amt                10127 non-null  int64  \n",
            " 13  trans_ct                 10127 non-null  int64  \n",
            " 14  ct_chg_q4_q1             10127 non-null  float64\n",
            " 15  util_ratio               10127 non-null  float64\n",
            " 16  education_encoded        10127 non-null  int64  \n",
            " 17  income_encoded           10127 non-null  int64  \n",
            " 18  gender_m                 10127 non-null  bool   \n",
            " 19  marital_married          10127 non-null  bool   \n",
            " 20  marital_single           10127 non-null  bool   \n",
            " 21  marital_unknown          10127 non-null  bool   \n",
            " 22  card_type_gold           10127 non-null  bool   \n",
            " 23  card_type_platinum       10127 non-null  bool   \n",
            " 24  card_type_silver         10127 non-null  bool   \n",
            " 25  trans_amt_per_month      10127 non-null  float64\n",
            " 26  trans_ct_per_month       10127 non-null  float64\n",
            " 27  avg_trans_amt            10127 non-null  float64\n",
            " 28  balance_to_limit_ratio   10127 non-null  float64\n",
            " 29  credit_usage_efficiency  10127 non-null  float64\n",
            " 30  credit_growth_rate       10127 non-null  float64\n",
            "dtypes: bool(8), float64(11), int64(12)\n",
            "memory usage: 1.9 MB\n"
          ]
        }
      ]
    },
    {
      "cell_type": "markdown",
      "source": [
        "### 4.3 **Create final dataframe ready for modelling**"
      ],
      "metadata": {
        "id": "QtpWPa7n2_mX"
      }
    },
    {
      "cell_type": "code",
      "source": [
        "df_final = df_engineered.copy()"
      ],
      "metadata": {
        "id": "rXyPrx3u2_NW"
      },
      "execution_count": 29,
      "outputs": []
    },
    {
      "cell_type": "markdown",
      "source": [
        "## 5. **Modelling**"
      ],
      "metadata": {
        "id": "N-Y2HPufhxaz"
      }
    },
    {
      "cell_type": "markdown",
      "source": [
        "### 5.1 **Preparing data for model training**"
      ],
      "metadata": {
        "id": "mOwbMqkO-TE3"
      }
    },
    {
      "cell_type": "markdown",
      "source": [
        "In this step we will train our model to hopefully predict customers which are potentially at the risk of churn in our dataset."
      ],
      "metadata": {
        "id": "CX-1mFLP9GQB"
      }
    },
    {
      "cell_type": "code",
      "source": [
        "df_final.info()"
      ],
      "metadata": {
        "colab": {
          "base_uri": "https://localhost:8080/"
        },
        "id": "7TmfSgho3zNb",
        "outputId": "ac999878-891d-41cc-ca4e-c5023e276aec"
      },
      "execution_count": 30,
      "outputs": [
        {
          "output_type": "stream",
          "name": "stdout",
          "text": [
            "<class 'pandas.core.frame.DataFrame'>\n",
            "RangeIndex: 10127 entries, 0 to 10126\n",
            "Data columns (total 31 columns):\n",
            " #   Column                   Non-Null Count  Dtype  \n",
            "---  ------                   --------------  -----  \n",
            " 0   client_id                10127 non-null  int64  \n",
            " 1   churn_flag               10127 non-null  bool   \n",
            " 2   age                      10127 non-null  int64  \n",
            " 3   dependents               10127 non-null  int64  \n",
            " 4   tenure_months            10127 non-null  int64  \n",
            " 5   relationships            10127 non-null  int64  \n",
            " 6   inactive_months          10127 non-null  int64  \n",
            " 7   contact_count            10127 non-null  int64  \n",
            " 8   limit                    10127 non-null  float64\n",
            " 9   revolving_bal            10127 non-null  int64  \n",
            " 10  open_to_buy              10127 non-null  float64\n",
            " 11  amt_chg_q4_q1            10127 non-null  float64\n",
            " 12  trans_amt                10127 non-null  int64  \n",
            " 13  trans_ct                 10127 non-null  int64  \n",
            " 14  ct_chg_q4_q1             10127 non-null  float64\n",
            " 15  util_ratio               10127 non-null  float64\n",
            " 16  education_encoded        10127 non-null  int64  \n",
            " 17  income_encoded           10127 non-null  int64  \n",
            " 18  gender_m                 10127 non-null  bool   \n",
            " 19  marital_married          10127 non-null  bool   \n",
            " 20  marital_single           10127 non-null  bool   \n",
            " 21  marital_unknown          10127 non-null  bool   \n",
            " 22  card_type_gold           10127 non-null  bool   \n",
            " 23  card_type_platinum       10127 non-null  bool   \n",
            " 24  card_type_silver         10127 non-null  bool   \n",
            " 25  trans_amt_per_month      10127 non-null  float64\n",
            " 26  trans_ct_per_month       10127 non-null  float64\n",
            " 27  avg_trans_amt            10127 non-null  float64\n",
            " 28  balance_to_limit_ratio   10127 non-null  float64\n",
            " 29  credit_usage_efficiency  10127 non-null  float64\n",
            " 30  credit_growth_rate       10127 non-null  float64\n",
            "dtypes: bool(8), float64(11), int64(12)\n",
            "memory usage: 1.9 MB\n"
          ]
        }
      ]
    },
    {
      "cell_type": "markdown",
      "source": [
        "First we will create two variables. X will store our dataset minus the target variable and client id ( as this is not required to build a model ). variable y will store our target flag ( what are we looking to predict ) in our case churn_flag"
      ],
      "metadata": {
        "id": "oV9Ws6jT9ROY"
      }
    },
    {
      "cell_type": "code",
      "source": [
        "X = df_final.drop(['churn_flag', 'client_id'], axis=1) # All columns except 'churn_flag' are features\n",
        "y = df_final['churn_flag'] # 'churn_flag' is the target variable"
      ],
      "metadata": {
        "id": "A9GR87Oa50DP"
      },
      "execution_count": 31,
      "outputs": []
    },
    {
      "cell_type": "markdown",
      "source": [
        "We will split our dataset in to training and testing, essentially creating 4 separate datasets for training and testing of the model."
      ],
      "metadata": {
        "id": "Zb8Ia_ga9wPW"
      }
    },
    {
      "cell_type": "code",
      "source": [
        "# Split the data into training and testing sets\n",
        "# stratify=y is crucial for imbalanced datasets to ensure both train/test sets\n",
        "# have a similar proportion of churned/non-churned customers.\n",
        "X_train, X_test, y_train, y_test = train_test_split(X, y, test_size=0.25, random_state=42, stratify=y)\n",
        "\n",
        "print(f\"\\nShape of X_train: {X_train.shape}\")\n",
        "print(f\"Shape of X_test: {X_test.shape}\")\n",
        "print(f\"Shape of y_train: {y_train.shape}\")\n",
        "print(f\"Shape of y_test: {y_test.shape}\")\n",
        "print(\"\\nTarget distribution in y_train:\")\n",
        "print(y_train.value_counts(normalize=True))\n",
        "print(\"Target distribution in y_test:\")\n",
        "print(y_test.value_counts(normalize=True))"
      ],
      "metadata": {
        "colab": {
          "base_uri": "https://localhost:8080/"
        },
        "id": "CdKIrBcJ6A6A",
        "outputId": "67a7c95d-cf9f-4640-c6b1-b12a83c9d887"
      },
      "execution_count": 32,
      "outputs": [
        {
          "output_type": "stream",
          "name": "stdout",
          "text": [
            "\n",
            "Shape of X_train: (7595, 29)\n",
            "Shape of X_test: (2532, 29)\n",
            "Shape of y_train: (7595,)\n",
            "Shape of y_test: (2532,)\n",
            "\n",
            "Target distribution in y_train:\n",
            "churn_flag\n",
            "False    0.839368\n",
            "True     0.160632\n",
            "Name: proportion, dtype: float64\n",
            "Target distribution in y_test:\n",
            "churn_flag\n",
            "False    0.839258\n",
            "True     0.160742\n",
            "Name: proportion, dtype: float64\n"
          ]
        }
      ]
    },
    {
      "cell_type": "markdown",
      "source": [
        "In this step we will prepare our data for by sclaing our numerical data"
      ],
      "metadata": {
        "id": "1oM_exgi-IVR"
      }
    },
    {
      "cell_type": "code",
      "source": [
        "# Identify numerical columns that need scaling (all non-boolean/non-encoded categorical)\n",
        "numerical_cols = X.select_dtypes(include=np.number).columns.tolist()\n",
        "\n",
        "print(f\"\\nNumerical columns to scale: {numerical_cols}\")\n",
        "\n",
        "scaler = StandardScaler()\n",
        "\n",
        "# Fit scaler on training data and transform both training and test data\n",
        "X_train_scaled = scaler.fit_transform(X_train[numerical_cols])\n",
        "X_test_scaled = scaler.transform(X_test[numerical_cols])\n",
        "\n",
        "# Convert back to DataFrame, preserving column names\n",
        "X_train_scaled_df = pd.DataFrame(X_train_scaled, columns=numerical_cols, index=X_train.index)\n",
        "X_test_scaled_df = pd.DataFrame(X_test_scaled, columns=numerical_cols, index=X_test.index)\n",
        "\n",
        "# Recombine scaled numerical features with unscaled (one-hot encoded boolean) features\n",
        "# First, identify non-numerical columns (which would be your one-hot encoded booleans)\n",
        "non_numerical_cols = X_train.select_dtypes(exclude=np.number).columns.tolist()\n",
        "\n",
        "X_train_final = pd.concat([X_train_scaled_df, X_train[non_numerical_cols]], axis=1)\n",
        "X_test_final = pd.concat([X_test_scaled_df, X_test[non_numerical_cols]], axis=1)\n",
        "\n",
        "# Ensure column order is consistent (important for some models, though not strictly required for all)\n",
        "X_train_final = X_train_final[X_train.columns]\n",
        "X_test_final = X_test_final[X_test.columns]\n",
        "\n",
        "print(\"\\nShapes after scaling and re-concatenation:\")\n",
        "print(f\"X_train_final shape: {X_train_final.shape}\")\n",
        "print(f\"X_test_final shape: {X_test_final.shape}\")"
      ],
      "metadata": {
        "colab": {
          "base_uri": "https://localhost:8080/"
        },
        "id": "evfNV16y5-uu",
        "outputId": "3bbd6ae3-d24f-4644-915a-81778f2fb5af"
      },
      "execution_count": 33,
      "outputs": [
        {
          "output_type": "stream",
          "name": "stdout",
          "text": [
            "\n",
            "Numerical columns to scale: ['age', 'dependents', 'tenure_months', 'relationships', 'inactive_months', 'contact_count', 'limit', 'revolving_bal', 'open_to_buy', 'amt_chg_q4_q1', 'trans_amt', 'trans_ct', 'ct_chg_q4_q1', 'util_ratio', 'education_encoded', 'income_encoded', 'trans_amt_per_month', 'trans_ct_per_month', 'avg_trans_amt', 'balance_to_limit_ratio', 'credit_usage_efficiency', 'credit_growth_rate']\n",
            "\n",
            "Shapes after scaling and re-concatenation:\n",
            "X_train_final shape: (7595, 29)\n",
            "X_test_final shape: (2532, 29)\n"
          ]
        }
      ]
    },
    {
      "cell_type": "markdown",
      "source": [
        "### 5.2 **Training Logistic Regression, Random Forest and Gradient Boosting**"
      ],
      "metadata": {
        "id": "i8q_Z_Ls-QRG"
      }
    },
    {
      "cell_type": "markdown",
      "source": [
        "In this step we train our selected models based on our data."
      ],
      "metadata": {
        "id": "ALYQRAgL_BIc"
      }
    },
    {
      "cell_type": "code",
      "source": [
        "print(\"\\n--- Training Logistic Regression Model ---\")\n",
        "log_reg_model = LogisticRegression(random_state=42, solver='liblinear') # liblinear is good for small datasets\n",
        "log_reg_model.fit(X_train_final, y_train)\n",
        "\n",
        "y_pred_lr = log_reg_model.predict(X_test_final)\n",
        "y_prob_lr = log_reg_model.predict_proba(X_test_final)[:, 1] # Probability of churn (True class)"
      ],
      "metadata": {
        "colab": {
          "base_uri": "https://localhost:8080/"
        },
        "id": "uUxIAT435l0V",
        "outputId": "e0a347a8-1010-4104-9336-b9167a0204c8"
      },
      "execution_count": 34,
      "outputs": [
        {
          "output_type": "stream",
          "name": "stdout",
          "text": [
            "\n",
            "--- Training Logistic Regression Model ---\n"
          ]
        }
      ]
    },
    {
      "cell_type": "code",
      "source": [
        "print(\"\\n--- Training Random Forest Classifier ---\")\n",
        "rf_model = RandomForestClassifier(n_estimators=100, random_state=42, class_weight='balanced') # 'balanced' can help with imbalanced data\n",
        "rf_model.fit(X_train_final, y_train)\n",
        "\n",
        "y_pred_rf = rf_model.predict(X_test_final)\n",
        "y_prob_rf = rf_model.predict_proba(X_test_final)[:, 1]"
      ],
      "metadata": {
        "colab": {
          "base_uri": "https://localhost:8080/"
        },
        "id": "laO0uGd46IWu",
        "outputId": "86b9876c-c385-4d16-d17e-0f28c39f6cdb"
      },
      "execution_count": 35,
      "outputs": [
        {
          "output_type": "stream",
          "name": "stdout",
          "text": [
            "\n",
            "--- Training Random Forest Classifier ---\n"
          ]
        }
      ]
    },
    {
      "cell_type": "code",
      "source": [
        "print(\"\\n--- Training Gradient Boosting Classifier ---\")\n",
        "gb_model = GradientBoostingClassifier(n_estimators=100, learning_rate=0.1, random_state=42)\n",
        "gb_model.fit(X_train_final, y_train)\n",
        "\n",
        "y_pred_gb = gb_model.predict(X_test_final)\n",
        "y_prob_gb = gb_model.predict_proba(X_test_final)[:, 1]"
      ],
      "metadata": {
        "colab": {
          "base_uri": "https://localhost:8080/"
        },
        "id": "NgsnCQiF6JRO",
        "outputId": "486df745-f498-47e7-a98e-d5755be3e44a"
      },
      "execution_count": 36,
      "outputs": [
        {
          "output_type": "stream",
          "name": "stdout",
          "text": [
            "\n",
            "--- Training Gradient Boosting Classifier ---\n"
          ]
        }
      ]
    },
    {
      "cell_type": "markdown",
      "source": [
        "### 5.3 **Evaluating Logistic Regression, Random forest and Gradient Boosting**"
      ],
      "metadata": {
        "id": "M9FRmcg_-wQ1"
      }
    },
    {
      "cell_type": "markdown",
      "source": [
        "In this step we will evaluate performance of our models to see which model has greater accurancy."
      ],
      "metadata": {
        "id": "IBMuPmWc-1p_"
      }
    },
    {
      "cell_type": "code",
      "source": [
        "def evaluate_model(y_true, y_pred, y_prob, model_name):\n",
        "    print(f\"\\n--- Evaluation for {model_name} ---\")\n",
        "    print(f\"Accuracy: {accuracy_score(y_true, y_pred):.4f}\")\n",
        "    print(f\"Precision: {precision_score(y_true, y_pred):.4f}\")\n",
        "    print(f\"Recall: {recall_score(y_true, y_pred):.4f}\")\n",
        "    print(f\"F1-Score: {f1_score(y_true, y_pred):.4f}\")\n",
        "    print(f\"ROC AUC: {roc_auc_score(y_true, y_prob):.4f}\")\n",
        "\n",
        "    # Confusion Matrix\n",
        "    cm = confusion_matrix(y_true, y_pred)\n",
        "    plt.figure(figsize=(6, 4))\n",
        "    sns.heatmap(cm, annot=True, fmt='d', cmap='Blues', cbar=False,\n",
        "                xticklabels=['Predicted Not Churn', 'Predicted Churn'],\n",
        "                yticklabels=['Actual Not Churn', 'Actual Churn'])\n",
        "    plt.title(f'Confusion Matrix: {model_name}')\n",
        "    plt.xlabel('Predicted Label')\n",
        "    plt.ylabel('True Label')\n",
        "    plt.show()\n",
        "\n",
        "    # ROC Curve\n",
        "    fpr, tpr, _ = roc_curve(y_true, y_prob)\n",
        "    plt.figure(figsize=(6, 4))\n",
        "    plt.plot(fpr, tpr, label=f'{model_name} (AUC = {roc_auc_score(y_true, y_prob):.2f})')\n",
        "    plt.plot([0, 1], [0, 1], 'k--', label='Random Classifier')\n",
        "    plt.xlabel('False Positive Rate')\n",
        "    plt.ylabel('True Positive Rate')\n",
        "    plt.title(f'ROC Curve: {model_name}')\n",
        "    plt.legend()\n",
        "    plt.grid(True)\n",
        "    plt.show()\n",
        "\n",
        "# Evaluate each model\n",
        "evaluate_model(y_test, y_pred_lr, y_prob_lr, \"Logistic Regression\")\n",
        "evaluate_model(y_test, y_pred_rf, y_prob_rf, \"Random Forest\")\n",
        "evaluate_model(y_test, y_pred_gb, y_prob_gb, \"Gradient Boosting\")"
      ],
      "metadata": {
        "colab": {
          "base_uri": "https://localhost:8080/",
          "height": 1000
        },
        "id": "E_zhEhzF6M5h",
        "outputId": "cc742ad1-80f9-476b-c2dc-7471d57ce40e"
      },
      "execution_count": 37,
      "outputs": [
        {
          "output_type": "stream",
          "name": "stdout",
          "text": [
            "\n",
            "--- Evaluation for Logistic Regression ---\n",
            "Accuracy: 0.9096\n",
            "Precision: 0.8027\n",
            "Recall: 0.5799\n",
            "F1-Score: 0.6733\n",
            "ROC AUC: 0.9288\n"
          ]
        },
        {
          "output_type": "display_data",
          "data": {
            "text/plain": [
              "<Figure size 600x400 with 1 Axes>"
            ],
            "image/png": "[encoded data removed]"
          },
          "metadata": {}
        },
        {
          "output_type": "display_data",
          "data": {
            "text/plain": [
              "<Figure size 600x400 with 1 Axes>"
            ],
            "image/png": "[encoded data removed]"
          },
          "metadata": {}
        },
        {
          "output_type": "stream",
          "name": "stdout",
          "text": [
            "\n",
            "--- Evaluation for Random Forest ---\n",
            "Accuracy: 0.9514\n",
            "Precision: 0.9080\n",
            "Recall: 0.7764\n",
            "F1-Score: 0.8371\n",
            "ROC AUC: 0.9865\n"
          ]
        },
        {
          "output_type": "display_data",
          "data": {
            "text/plain": [
              "<Figure size 600x400 with 1 Axes>"
            ],
            "image/png": "[encoded data removed]"
          },
          "metadata": {}
        },
        {
          "output_type": "display_data",
          "data": {
            "text/plain": [
              "<Figure size 600x400 with 1 Axes>"
            ],
            "image/png": "[encoded data removed]"
          },
          "metadata": {}
        },
        {
          "output_type": "stream",
          "name": "stdout",
          "text": [
            "\n",
            "--- Evaluation for Gradient Boosting ---\n",
            "Accuracy: 0.9605\n",
            "Precision: 0.9398\n",
            "Recall: 0.8059\n",
            "F1-Score: 0.8677\n",
            "ROC AUC: 0.9887\n"
          ]
        },
        {
          "output_type": "display_data",
          "data": {
            "text/plain": [
              "<Figure size 600x400 with 1 Axes>"
            ],
            "image/png": "[encoded data removed]"
          },
          "metadata": {}
        },
        {
          "output_type": "display_data",
          "data": {
            "text/plain": [
              "<Figure size 600x400 with 1 Axes>"
            ],
            "image/png": "[encoded data removed]"
          },
          "metadata": {}
        }
      ]
    },
    {
      "cell_type": "markdown",
      "source": [
        "After running our 3 models, we can clearly establsih that Gradient Boosting Classifier demonstrated highest accuracy, precision, recall and F1-Score. While Random Forest model is close second, Logistic Regression came out with worst results out of the 3. While all models show great performance, the gradient boosting method clearly provides the best predictive capability."
      ],
      "metadata": {
        "id": "8B69rGaB_mea"
      }
    },
    {
      "cell_type": "markdown",
      "source": [
        "## 6. **Model Insights**"
      ],
      "metadata": {
        "id": "w1UCNnbAh1Fm"
      }
    },
    {
      "cell_type": "markdown",
      "source": [
        "In this step we will look at which features have greater importance when predicting Churn, and what threshold to utilise when running our prediction model on the dataset."
      ],
      "metadata": {
        "id": "khC4JTS2AmbU"
      }
    },
    {
      "cell_type": "markdown",
      "source": [
        "### 6.1 **Feature Importance**"
      ],
      "metadata": {
        "id": "GOu5M5xJBOCt"
      }
    },
    {
      "cell_type": "markdown",
      "source": [
        "Gradient Boosting model provides us with usefull tool feature_importances_ which makes our task of seeing which features of our dataset influence our model the most."
      ],
      "metadata": {
        "id": "Bq3kuDPbBafm"
      }
    },
    {
      "cell_type": "code",
      "source": [
        "feature_names = X.columns # Get the original feature names from your full feature set X\n",
        "\n",
        "print(\"--- Feature Importance Analysis ---\")\n",
        "# --- Feature Importances from Gradient Boosting Model ---\n",
        "print(\"\\nGradient Boosting Feature Importances:\")\n",
        "gb_importances = pd.Series(gb_model.feature_importances_, index=feature_names).sort_values(ascending=False)\n",
        "print(gb_importances.head(10)) # Print top 10\n",
        "\n",
        "# Plotting Gradient Boosting Feature Importances\n",
        "plt.figure(figsize=(12, 8))\n",
        "sns.barplot(x=gb_importances.head(20).values, y=gb_importances.head(20).index, palette='magma')\n",
        "plt.title('Top 20 Feature Importances (Gradient Boosting)')\n",
        "plt.xlabel('Importance')\n",
        "plt.ylabel('Feature')\n",
        "plt.grid(axis='x', linestyle='--', alpha=0.7)\n",
        "plt.tight_layout()\n",
        "plt.show()"
      ],
      "metadata": {
        "colab": {
          "base_uri": "https://localhost:8080/",
          "height": 1000
        },
        "id": "dA1urIhv7gwW",
        "outputId": "1029a7e6-4eb3-4487-f98e-a4b7ed61c5b8"
      },
      "execution_count": 38,
      "outputs": [
        {
          "output_type": "stream",
          "name": "stdout",
          "text": [
            "--- Feature Importance Analysis ---\n",
            "\n",
            "Gradient Boosting Feature Importances:\n",
            "trans_ct              0.313288\n",
            "revolving_bal         0.174583\n",
            "trans_amt             0.172201\n",
            "ct_chg_q4_q1          0.101260\n",
            "relationships         0.097119\n",
            "avg_trans_amt         0.039606\n",
            "amt_chg_q4_q1         0.034835\n",
            "trans_ct_per_month    0.017213\n",
            "contact_count         0.015053\n",
            "age                   0.010632\n",
            "dtype: float64\n"
          ]
        },
        {
          "output_type": "stream",
          "name": "stderr",
          "text": [
            "/tmp/ipython-input-38-118604946.py:11: FutureWarning: \n",
            "\n",
            "Passing `palette` without assigning `hue` is deprecated and will be removed in v0.14.0. Assign the `y` variable to `hue` and set `legend=False` for the same effect.\n",
            "\n",
            "  sns.barplot(x=gb_importances.head(20).values, y=gb_importances.head(20).index, palette='magma')\n"
          ]
        },
        {
          "output_type": "display_data",
          "data": {
            "text/plain": [
              "<Figure size 1200x800 with 1 Axes>"
            ],
            "image/png": "[encoded data removed]"
          },
          "metadata": {}
        }
      ]
    },
    {
      "cell_type": "markdown",
      "source": [
        "We can clearly see that **trans_ct** stands out as overwhelmingly the **most important**, with an importance score significantly higher than any other feature, suggesting it's a **primary driver of the models predictions**. Following **trans_ct**, **revolving_bal** and **trans_amt** are also highly impactful features. Other features like **ct_chg_q4_q1**, **relationships**, **avg_trans_amt**, and **amt_chg_q4_q1** show moderate importance, while features towards the bottom of the list, such as **dependents**, **credit_usage_efficiency**, and **limit**, contribute minimally to the model's decision-making process."
      ],
      "metadata": {
        "id": "VxEWFKd-Bn2I"
      }
    },
    {
      "cell_type": "markdown",
      "source": [
        "### 6.2 **Identifying optimal categorisation threshold**"
      ],
      "metadata": {
        "id": "q-xKjJL_CVVJ"
      }
    },
    {
      "cell_type": "markdown",
      "source": [
        "In this step we will attempt to identify optimal classification threshold for our model. We will utilise precision_recall_curve to achieve this. This powerfull tool will help us to visualise tradefoff between recall (sensitivity) and precision."
      ],
      "metadata": {
        "id": "J2Sr-L4xCa91"
      }
    },
    {
      "cell_type": "code",
      "source": [
        "# Assuming gb_model and X_test_final are available from your test set evaluation\n",
        "y_scores = gb_model.predict_proba(X_test_final)[:, 1]\n",
        "precision, recall, thresholds = precision_recall_curve(y_test, y_scores)\n",
        "\n",
        "plt.figure(figsize=(10, 7))\n",
        "plt.plot(thresholds, precision[:-1], \"b--\", label=\"Precision\")\n",
        "plt.plot(thresholds, recall[:-1], \"g-\", label=\"Recall\")\n",
        "plt.xlabel(\"Threshold\")\n",
        "plt.legend(loc=\"lower left\")\n",
        "plt.ylim([0, 1])\n",
        "plt.title(\"Precision-Recall Curve for Gradient Boosting Classifier\")\n",
        "plt.grid(True)\n",
        "plt.show()\n",
        "\n",
        "# You can also plot F1-score vs. threshold\n",
        "f1_scores = 2 * (precision * recall) / (precision + recall)\n",
        "plt.figure(figsize=(10, 7))\n",
        "plt.plot(thresholds, f1_scores[:-1], \"r-\", label=\"F1-score\")\n",
        "plt.xlabel(\"Threshold\")\n",
        "plt.ylabel(\"F1-score\")\n",
        "plt.title(\"F1-score vs. Threshold\")\n",
        "plt.grid(True)\n",
        "plt.show()\n",
        "\n",
        "# Find the threshold that maximizes F1-score\n",
        "optimal_f1_threshold = thresholds[np.argmax(f1_scores)]\n",
        "print(f\"Threshold maximizing F1-score: {optimal_f1_threshold:.4f}\")"
      ],
      "metadata": {
        "colab": {
          "base_uri": "https://localhost:8080/",
          "height": 1000
        },
        "id": "7oPcr-FTqJtl",
        "outputId": "9e709e0f-0da2-4a72-ba8a-13344b83d946"
      },
      "execution_count": 39,
      "outputs": [
        {
          "output_type": "display_data",
          "data": {
            "text/plain": [
              "<Figure size 1000x700 with 1 Axes>"
            ],
            "image/png": "[encoded data removed]"
          },
          "metadata": {}
        },
        {
          "output_type": "display_data",
          "data": {
            "text/plain": [
              "<Figure size 1000x700 with 1 Axes>"
            ],
            "image/png": "[encoded data removed]"
          },
          "metadata": {}
        },
        {
          "output_type": "stream",
          "name": "stdout",
          "text": [
            "Threshold maximizing F1-score: 0.3034\n"
          ]
        }
      ]
    },
    {
      "cell_type": "markdown",
      "source": [
        "Based on the Precision-Recall curve, we can visually identify that the optimal \"sweet spot\" for our classification threshold appears to be in the range of 0.3 to 0.4. In this segment, both Precision and Recall curves remain relatively high, signifying a strong balance between the model's ability to minimize false positives and effectively capture true positive instances."
      ],
      "metadata": {
        "id": "SQ3BgXIaDm-U"
      }
    },
    {
      "cell_type": "markdown",
      "source": [
        "### 6.3 **Model Deployment**"
      ],
      "metadata": {
        "id": "p7MaRk63ETu0"
      }
    },
    {
      "cell_type": "markdown",
      "source": [
        "In this crucial step, we will deploy our previously trained Gradient Boosting model. We will apply this model to our complete dataset to generate predictions, specifically utilizing a pre-determined optimal classification threshold of 0.38 to classify outcomes. This allows us to translate the model's probabilistic predictions into actionable binary classifications, identifying potential churners based on the analysis from our previous threshold optimization."
      ],
      "metadata": {
        "id": "xNdVsFnLEbw6"
      }
    },
    {
      "cell_type": "code",
      "source": [
        "# Prepare the entire feature set (X_full) for prediction ---\n",
        "X_full = df_final.drop('churn_flag', axis=1)\n",
        "\n",
        "numerical_cols_for_model = [col for col in X_full.select_dtypes(include=np.number).columns.tolist() if col != 'client_id']\n",
        "non_numerical_cols_for_model = [col for col in X_full.select_dtypes(exclude=np.number).columns.tolist() if col != 'client_id']\n",
        "\n",
        "X_full_scaled_numerical = scaler.transform(X_full[numerical_cols_for_model])\n",
        "X_full_processed = pd.DataFrame(X_full_scaled_numerical, columns=numerical_cols_for_model, index=X_full.index)\n",
        "X_full_processed = pd.concat([X_full_processed, X_full[non_numerical_cols_for_model]], axis=1)\n",
        "X_full_processed = X_full_processed[X_train_final.columns]\n",
        "\n",
        "# Get churn probabilities for the entire dataset\n",
        "df_final_for_dashboard = df_final.copy() # Make a copy to add new columns\n",
        "\n",
        "df_final_for_dashboard['predicted_churn_probability'] = gb_model.predict_proba(X_full_processed)[:, 1]\n",
        "\n",
        "# Define the churn risk threshold (use your chosen threshold, e.g., 0.5)\n",
        "churn_risk_threshold = 0.38 # Or your optimized threshold, e.g., 0.38\n",
        "\n",
        "# Add predicted churn class based on the threshold\n",
        "df_final_for_dashboard['predicted_churn_class'] = (df_final_for_dashboard['predicted_churn_probability'] >= churn_risk_threshold)\n",
        "\n",
        "# Add a flag for \"currently at risk and not yet churned\"\n",
        "df_final_for_dashboard['is_currently_at_risk'] = (\n",
        "    (df_final_for_dashboard['predicted_churn_probability'] >= churn_risk_threshold) &\n",
        "    (df_final_for_dashboard['churn_flag'] == False) # Only include actual non-churners\n",
        ")\n"
      ],
      "metadata": {
        "id": "_TtgsFsTGr19"
      },
      "execution_count": 40,
      "outputs": []
    },
    {
      "cell_type": "markdown",
      "source": [
        "Let's check how many users from our dataset the model flagged up as being at high risk of churn."
      ],
      "metadata": {
        "id": "e2caLV3iF7hG"
      }
    },
    {
      "cell_type": "code",
      "source": [
        "# Count the number of True values in the 'is_currently_at_risk' column\n",
        "num_at_risk_customers = df_final_for_dashboard['is_currently_at_risk'].sum()\n",
        "\n",
        "# Print the result\n",
        "print(f\"Number of currently at-risk customers: {num_at_risk_customers}\")\n",
        "\n",
        "# You can also get the percentage if you like\n",
        "total_customers = len(df_final_for_dashboard)\n",
        "percentage_at_risk = (num_at_risk_customers / total_customers) * 100\n",
        "print(f\"Percentage of currently at-risk customers: {percentage_at_risk:.2f}%\")"
      ],
      "metadata": {
        "colab": {
          "base_uri": "https://localhost:8080/"
        },
        "id": "SkCA3c7TFPEP",
        "outputId": "0b5dd9db-181c-4244-fd55-9d0b745446ed"
      },
      "execution_count": 41,
      "outputs": [
        {
          "output_type": "stream",
          "name": "stdout",
          "text": [
            "Number of currently at-risk customers: 126\n",
            "Percentage of currently at-risk customers: 1.24%\n"
          ]
        }
      ]
    },
    {
      "cell_type": "markdown",
      "source": [
        "While this is great and preatty much ready to be imported to power bi to create a dashboard. However i would like remove any of the previously encoded values as these will no be of use to us. We will keep our engineered features."
      ],
      "metadata": {
        "id": "aLaNtoKKOykd"
      }
    },
    {
      "cell_type": "code",
      "source": [
        "# Identify columns to drop from df_final_for_dashboard ---\n",
        "# List all encoded columns that you want to remove\n",
        "encoded_cols_to_drop = [\n",
        "    'education_encoded',\n",
        "    'income_encoded',\n",
        "    'gender_m',\n",
        "    'marital_married',\n",
        "    'marital_single',\n",
        "    'marital_unknown',\n",
        "    'card_type_gold',\n",
        "    'card_type_platinum',\n",
        "    'card_type_silver'\n",
        "]\n",
        "\n",
        "# Identify the original categorical columns that should be kept/re-added\n",
        "# (Assuming these were the original columns that got encoded)\n",
        "original_categorical_cols = [\n",
        "    'gender',\n",
        "    'education',\n",
        "    'marital',\n",
        "    'income',\n",
        "    'card_type'\n",
        "]\n",
        "\n",
        "# First, make a copy to avoid modifying the original df_final_for_dashboard\n",
        "df_dashboard_final_display = df_final_for_dashboard.copy()\n",
        "\n",
        "# Drop the encoded columns\n",
        "df_dashboard_final_display = df_dashboard_final_display.drop(columns=encoded_cols_to_drop, errors='ignore')\n",
        "\n",
        "# Merge original categorical columns back into the DataFrame\n",
        "# Ensure df_cleaned is available and contains 'client_id' and the original_categorical_cols\n",
        "original_data_for_merge = df_cleaned[['client_id'] + original_categorical_cols]\n",
        "\n",
        "# Merge them back into the prepared dashboard DataFrame\n",
        "df_dashboard_final_display = pd.merge(\n",
        "    df_dashboard_final_display,\n",
        "    original_data_for_merge,\n",
        "    on='client_id',\n",
        "    how='left' # Use left join to keep all rows from df_dashboard_final_display\n",
        ")\n",
        "\n",
        "# --- IMPLEMENTATION OF CHURN RISK LEVELS ---\n",
        "# Based on the Precision-Recall Curve analysis:\n",
        "# - high_risk_threshold: optimized F1-score threshold (~0.38)\n",
        "# - medium_risk_threshold: Set at 0.10 where Precision is still good and Recall is very high.\n",
        "high_risk_threshold = 0.38\n",
        "medium_risk_threshold = 0.10\n",
        "\n",
        "def assign_churn_risk_level(prob, actual_churn_flag):\n",
        "    if actual_churn_flag == True:\n",
        "        return \"Churned\" # If they already churned, that's their final status\n",
        "    elif prob >= high_risk_threshold:\n",
        "        return \"High Risk\"\n",
        "    elif prob >= medium_risk_threshold: # This means prob is between medium_risk_threshold and high_risk_threshold\n",
        "        return \"Medium Risk\"\n",
        "    else: # This means prob is less than medium_risk_threshold\n",
        "        return \"Low Risk\"\n",
        "\n",
        "# Apply the function to create the new 'churn_risk_level' column\n",
        "df_dashboard_final_display['churn_risk_level'] = df_dashboard_final_display.apply(\n",
        "    lambda row: assign_churn_risk_level(row['predicted_churn_probability'], row['churn_flag']),\n",
        "    axis=1\n",
        ")\n",
        "\n",
        "# Updated new_prediction_cols to include the new 'churn_risk_level'\n",
        "new_prediction_cols = [\n",
        "    'predicted_churn_probability',\n",
        "    'predicted_churn_class',\n",
        "    'is_currently_at_risk',\n",
        "    'churn_risk_level' # Added the new column here\n",
        "]\n",
        "\n",
        "# The order of columns in final dashboard DataFrame\n",
        "# Ensure 'churn_risk_level' is included in the final order.\n",
        "desired_order = [\n",
        "    'client_id', 'churn_flag', 'age', 'gender', 'dependents', 'education', 'marital', 'income',\n",
        "    'card_type', 'tenure_months', 'relationships', 'inactive_months',\n",
        "    'contact_count', 'limit', 'revolving_bal', 'open_to_buy', 'amt_chg_q4_q1',\n",
        "    'trans_amt', 'trans_ct', 'ct_chg_q4_q1', 'util_ratio', # Original numerical/categorical\n",
        "    'trans_amt_per_month', 'trans_ct_per_month', 'avg_trans_amt', # Engineered numerical\n",
        "    'balance_to_limit_ratio', 'credit_usage_efficiency', 'credit_growth_rate', # Engineered numerical\n",
        "    'predicted_churn_probability', 'predicted_churn_class', 'is_currently_at_risk', # Original model outputs\n",
        "    'churn_risk_level' # New risk level\n",
        "]\n",
        "\n",
        "# Filter `desired_order` to only include columns that actually exist in the DataFrame\n",
        "# This handles cases where some intermediate columns might have been dropped or transformed\n",
        "final_col_order = [col for col in desired_order if col in df_dashboard_final_display.columns]\n",
        "\n",
        "df_dashboard_final_display = df_dashboard_final_display[final_col_order]\n",
        "\n",
        "# Count distribution of risk levels for verification\n",
        "print(\"\\n--- Distribution of Churn Risk Levels (for non-churned customers) ---\")\n",
        "print(df_dashboard_final_display[df_dashboard_final_display['churn_flag'] == False]['churn_risk_level'].value_counts())\n",
        "print(\"\\n--- Full Distribution of Churn Risk Levels ---\")\n",
        "print(df_dashboard_final_display['churn_risk_level'].value_counts())"
      ],
      "metadata": {
        "colab": {
          "base_uri": "https://localhost:8080/"
        },
        "id": "8qo4h7IXMkyY",
        "outputId": "b8589fd3-ef82-409d-9c3e-1abde0606b59"
      },
      "execution_count": 42,
      "outputs": [
        {
          "output_type": "stream",
          "name": "stdout",
          "text": [
            "\n",
            "--- Distribution of Churn Risk Levels (for non-churned customers) ---\n",
            "churn_risk_level\n",
            "Low Risk       7819\n",
            "Medium Risk     555\n",
            "High Risk       126\n",
            "Name: count, dtype: int64\n",
            "\n",
            "--- Full Distribution of Churn Risk Levels ---\n",
            "churn_risk_level\n",
            "Low Risk       7819\n",
            "Churned        1627\n",
            "Medium Risk     555\n",
            "High Risk       126\n",
            "Name: count, dtype: int64\n"
          ]
        }
      ]
    },
    {
      "cell_type": "markdown",
      "source": [
        "We will save resulting dataset for the next step of the project. Where we build a dashboard around our findings."
      ],
      "metadata": {
        "id": "I92dgeHeGHYG"
      }
    },
    {
      "cell_type": "code",
      "source": [
        "# output_csv_path = 'churn_dashboard_data.csv'\n",
        "# df_dashboard_final_display.to_csv(output_csv_path, index=False)\n",
        "# print(f\"\\nDataFrame successfully exported to '{output_csv_path}' for Power BI.\")"
      ],
      "metadata": {
        "colab": {
          "base_uri": "https://localhost:8080/"
        },
        "id": "o3w57xZwGOFc",
        "outputId": "72cb74dc-eb5d-42fc-e7a5-66116cc3a69e"
      },
      "execution_count": 45,
      "outputs": [
        {
          "output_type": "stream",
          "name": "stdout",
          "text": [
            "\n",
            "DataFrame successfully exported to 'churn_dashboard_data.csv' for Power BI.\n"
          ]
        }
      ]
    }
  ]
}