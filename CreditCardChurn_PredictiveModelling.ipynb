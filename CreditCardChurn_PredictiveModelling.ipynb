{
  "nbformat": 4,
  "nbformat_minor": 0,
  "metadata": {
    "colab": {
      "provenance": []
    },
    "kernelspec": {
      "name": "python3",
      "display_name": "Python 3"
    },
    "language_info": {
      "name": "python"
    }
  },
  "cells": [
    {
      "cell_type": "markdown",
      "source": [
        "# **Credit Card Churn - PredictiveModelling**"
      ],
      "metadata": {
        "id": "HRJZNh5ifMse"
      }
    },
    {
      "cell_type": "code",
      "source": [
        "import pandas as pd\n",
        "import numpy as np\n",
        "import matplotlib.pyplot as plt"
      ],
      "metadata": {
        "id": "MDemwTUEjpsS"
      },
      "execution_count": 2,
      "outputs": []
    },
    {
      "cell_type": "markdown",
      "source": [
        "**Objective**"
      ],
      "metadata": {
        "id": "KfOgA8Lngs4D"
      }
    },
    {
      "cell_type": "markdown",
      "source": [
        "To build a predictive model that helps a bank identify customers at risk of churn, enabling the business to take proactive action in retaining valuable clients. This notebook focuses on the technical groundwork using Python — from data exploration to model development."
      ],
      "metadata": {
        "id": "vcRrrcAygu0E"
      }
    },
    {
      "cell_type": "markdown",
      "source": [
        "**Project Structure**"
      ],
      "metadata": {
        "id": "wZqAe7jtfv3_"
      }
    },
    {
      "cell_type": "markdown",
      "source": [
        "1.   Introduction\n",
        "2.   Dataset Overview\n",
        "3.   Data Cleaning & Exploratory Data Analysis(EDA)\n",
        "4.   Feature Engineering\n",
        "5.   Modelling\n",
        "6.   Model Insights\n",
        "7.   Conclusion\n",
        "\n"
      ],
      "metadata": {
        "id": "xjG4En76f1q7"
      }
    },
    {
      "cell_type": "markdown",
      "source": [
        "## 1. **Introduction**"
      ],
      "metadata": {
        "id": "2x5Xigq6hUWP"
      }
    },
    {
      "cell_type": "markdown",
      "source": [
        "**Business Problem**"
      ],
      "metadata": {
        "id": "del7tOMbh-A1"
      }
    },
    {
      "cell_type": "markdown",
      "source": [
        "The bank is facing a rising concern: an increasing number of customers are closing their credit card accounts. This churn trend is causing financial and strategic challenges, and leadership wants to understand which customers are likely to leave so they can intervene with tailored services or offers"
      ],
      "metadata": {
        "id": "dSislFwMiAA-"
      }
    },
    {
      "cell_type": "markdown",
      "source": [
        "**Project Objective**"
      ],
      "metadata": {
        "id": "DHdCHuWDiC2g"
      }
    },
    {
      "cell_type": "markdown",
      "source": [
        "This notebook (Part 1 of a 3-part analytical solution) tackles the problem using Python to:"
      ],
      "metadata": {
        "id": "fNkVmkjuiGhb"
      }
    },
    {
      "cell_type": "markdown",
      "source": [
        "\n",
        "\n",
        "*   Explore customer behavior and account data.\n",
        "*   Engineer relevant features from raw variables.\n",
        "*   Build predictive models that estimate churn risk.\n",
        "*   Provide actionable insights that inform targeted customer retention strategies.\n",
        "\n"
      ],
      "metadata": {
        "id": "IrFxtMA0iI_M"
      }
    },
    {
      "cell_type": "markdown",
      "source": [
        "This groundwork leads into:"
      ],
      "metadata": {
        "id": "EyYxAyyOiU79"
      }
    },
    {
      "cell_type": "markdown",
      "source": [
        "\n",
        "\n",
        "*   **Part 2**: Designing a Power BI dashboard for interactive visualizations.\n",
        "*   **Part 3**: Conducting a business analysis to recommend retention strategies backed by data.\n",
        "\n",
        "\n"
      ],
      "metadata": {
        "id": "mwIP0DMKiV9O"
      }
    },
    {
      "cell_type": "markdown",
      "source": [
        "## 2. **Dataset Overview**"
      ],
      "metadata": {
        "id": "V3eV2ooqhYpC"
      }
    },
    {
      "cell_type": "markdown",
      "source": [
        "**Source**"
      ],
      "metadata": {
        "id": "YBI0G7Llix2x"
      }
    },
    {
      "cell_type": "markdown",
      "source": [
        "This dataset is publicly available on [Kaggle: Credit Card Customers Dataset](https://www.kaggle.com/datasets/sakshigoyal7/credit-card-customers/data). It contains detailed information on 10,127 customers, including demographic attributes, account activity, and churn status.\n"
      ],
      "metadata": {
        "id": "D_MKVGf9izmT"
      }
    },
    {
      "cell_type": "markdown",
      "source": [
        "**Key Features**"
      ],
      "metadata": {
        "id": "S9txg2dMjBT0"
      }
    },
    {
      "cell_type": "markdown",
      "source": [
        "The dataset includes 18 variables that span across customer profiles and credit card usage patterns. Some notable features are:"
      ],
      "metadata": {
        "id": "-VIr41qwjFcA"
      }
    },
    {
      "cell_type": "markdown",
      "source": [
        "- Customer_Age: Age of the customer\n",
        "- Gender: Male or Female\n",
        "- Dependent_count: Number of dependents\n",
        "- Education_Level: Highest education attained\n",
        "- Marital_Status: Marital status of the customer\n",
        "- Income_Category: Estimated annual income\n",
        "- Card_Category: Type of credit card held\n",
        "- Months_on_book: Tenure with the bank\n",
        "- Total_Trans_Ct: Number of transactions in the last 12 months\n",
        "- Credit_Limit: Assigned credit card limit\n",
        "- Attrition_Flag: Indicates whether the customer has churned\n"
      ],
      "metadata": {
        "id": "ZvjR_AxFjGda"
      }
    },
    {
      "cell_type": "markdown",
      "source": [
        "**Target Variable**"
      ],
      "metadata": {
        "id": "sMajuvJ7jKM8"
      }
    },
    {
      "cell_type": "markdown",
      "source": [
        "- Attrition_Flag: This binary feature identifies whether a customer is Existing or Attrited. It will serve as the target for churn prediction.\n"
      ],
      "metadata": {
        "id": "rDSdPRlDjOy2"
      }
    },
    {
      "cell_type": "markdown",
      "source": [
        "**Initial Observations**"
      ],
      "metadata": {
        "id": "SoDk_5U4jTyK"
      }
    },
    {
      "cell_type": "markdown",
      "source": [
        "- The dataset is clean and well-structured, with minimal missing values.\n",
        "- Features are a mix of categorical and numerical types, suitable for both statistical analysis and machine learning.\n",
        "- The churn rate appears imbalanced, which may require resampling techniques during modeling.\n"
      ],
      "metadata": {
        "id": "R6GiXnlFjWDr"
      }
    },
    {
      "cell_type": "markdown",
      "source": [
        "## 3. **Data Cleaning & Exploratory Data Analysis(EDA)**"
      ],
      "metadata": {
        "id": "Kd0UBDhmhj3y"
      }
    },
    {
      "cell_type": "markdown",
      "source": [
        "## 4. **Feature Engineering**"
      ],
      "metadata": {
        "id": "e9hXf72eht-R"
      }
    },
    {
      "cell_type": "markdown",
      "source": [
        "## 5. **Modelling**"
      ],
      "metadata": {
        "id": "N-Y2HPufhxaz"
      }
    },
    {
      "cell_type": "markdown",
      "source": [
        "## 6. **Model Insights**"
      ],
      "metadata": {
        "id": "w1UCNnbAh1Fm"
      }
    },
    {
      "cell_type": "markdown",
      "source": [
        "## 7. **Conclusion**"
      ],
      "metadata": {
        "id": "IM6oLq0_h4GA"
      }
    }
  ]
}